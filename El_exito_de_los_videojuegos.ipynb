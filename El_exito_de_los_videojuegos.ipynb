{
 "cells": [
  {
   "cell_type": "markdown",
   "metadata": {},
   "source": [
    "# El éxito de los videojuegos\n",
    "\n",
    "Se identificarán los patrones de los videojuegos vendidos por la tienda online Ice analizando las reseñas de usuarios y expertos, los géneros, las plataformas (por ejemplo, Xbox o PlayStation) y datos históricos para determinar si un juego tiene éxito o no. Esto permitirá detectar proyectos prometedores y planificar campañas publicitarias."
   ]
  },
  {
   "cell_type": "markdown",
   "metadata": {},
   "source": [
    "# Contents <a id='back'></a>\n",
    "\n",
    "* [Introducción](#intro)\n",
    "* [Inicialización](#inicializacion)\n",
    "* [Cargando datos](#cargando_datos)\n",
    "* [Explorando datos iniciales](#explorando_datos_iniciales)\n",
    "* [Preprocesamiento de datos](#preprocesamiento_de_datos)\n",
    "* [Tratar los valores ausentes](#tratar_los_valores_ausentes)\n",
    "* [Corregiendo los datos](#corregiendo_los_datos)\n",
    "* [Estudiar parámetros principales](#estudiar_parámetros_principales)\n",
    "* [Perfil de usuario para cada región](#perfil_de_usuario_para_cada_región)\n",
    "* [Probando las hipótesis estadísticas](#probando_las_hipótesis_estadísticas)\n",
    "* [Probando las hipótesis estadísticas](#probando_las_hipótesis_estadísticas)\n",
    "* [Conclusión general](#end)"
   ]
  },
  {
   "cell_type": "markdown",
   "metadata": {},
   "source": [
    "## Introducción <a id='intro'></a>\n",
    "**Propósito del proyecto**\n",
    "\n",
    "Determinar si un juego tiene éxito o no paa detectar proyecto prometedores y planificar campañas publicitarias para el año 2017\n",
    "\n",
    "\n",
    "### Objetivos\n",
    "1. Identificar plataformas líderes en ventas,\n",
    "2. Determinar si las clasificaciones de ESRB afectan a las ventas en regiones individuales,\n",
    "3. Calcular las ventas totales (la suma de las ventas en todas las regiones) para cada juego."
   ]
  },
  {
   "cell_type": "markdown",
   "metadata": {},
   "source": [
    "## Inicialización <a id='inicializacion'></a>"
   ]
  },
  {
   "cell_type": "code",
   "execution_count": 1,
   "metadata": {},
   "outputs": [],
   "source": [
    "# Cargando las librerías\n",
    "import pandas as pd\n",
    "import numpy as np\n",
    "import matplotlib.pyplot as plt\n",
    "import scipy as scipy\n",
    "import seaborn as sns\n",
    "import scipy.stats as stats\n",
    "from scipy.stats import ttest_ind\n",
    "from scipy.stats import ttest_rel\n",
    "from scipy import stats\n",
    "from scipy import stats as st\n",
    "import warnings\n",
    "warnings.filterwarnings(\"ignore\")"
   ]
  },
  {
   "cell_type": "markdown",
   "metadata": {},
   "source": [
    "## Cargando datos <a id='cargando_datos'></a>"
   ]
  },
  {
   "cell_type": "code",
   "execution_count": 2,
   "metadata": {},
   "outputs": [],
   "source": [
    "# Cargando los archivos de datos en diferentes DataFrames\n",
    "gd = pd.read_csv('//datasets/games.csv')"
   ]
  },
  {
   "cell_type": "markdown",
   "metadata": {},
   "source": [
    "[Volver a Contenidos](#back)"
   ]
  },
  {
   "cell_type": "markdown",
   "metadata": {},
   "source": [
    "## Explorando datos iniciales <a id='explorando_datos_iniciales'></a>"
   ]
  },
  {
   "cell_type": "markdown",
   "metadata": {},
   "source": [
    "**Descripción de datos**\n",
    "\n",
    "- `Name` — (nombre)\n",
    "- `Platform` — (plataforma)\n",
    "- `Year_of_Release` — (año de lanzamiento)\n",
    "- `Genre` — (género)\n",
    "- `NA_sales` — (ventas en Norteamérica en millones de dólares estadounidenses)\n",
    "- `EU_sales` — (ventas en Europa en millones de dólares estadounidenses)\n",
    "- `JP_sales` — (ventas en Japón en millones de dólares estadounidenses)\n",
    "- `Other_sales` — (ventas en otros países en millones de dólares estadounidenses)\n",
    "- `Critic_Score` — (puntuación de la crítica - máximo de 100)\n",
    "- `User_Score` — (puntuación del usuario - máximo de 10)\n",
    "- `Clasificación` — (ESRB)"
   ]
  },
  {
   "cell_type": "code",
   "execution_count": 3,
   "metadata": {},
   "outputs": [
    {
     "data": {
      "text/plain": [
       "(16715, 11)"
      ]
     },
     "execution_count": 3,
     "metadata": {},
     "output_type": "execute_result"
    }
   ],
   "source": [
    "# Filas y columnas del DataFrame\n",
    "gd.shape"
   ]
  },
  {
   "cell_type": "code",
   "execution_count": 4,
   "metadata": {},
   "outputs": [
    {
     "name": "stdout",
     "output_type": "stream",
     "text": [
      "<class 'pandas.core.frame.DataFrame'>\n",
      "RangeIndex: 16715 entries, 0 to 16714\n",
      "Data columns (total 11 columns):\n",
      " #   Column           Non-Null Count  Dtype  \n",
      "---  ------           --------------  -----  \n",
      " 0   Name             16713 non-null  object \n",
      " 1   Platform         16715 non-null  object \n",
      " 2   Year_of_Release  16446 non-null  float64\n",
      " 3   Genre            16713 non-null  object \n",
      " 4   NA_sales         16715 non-null  float64\n",
      " 5   EU_sales         16715 non-null  float64\n",
      " 6   JP_sales         16715 non-null  float64\n",
      " 7   Other_sales      16715 non-null  float64\n",
      " 8   Critic_Score     8137 non-null   float64\n",
      " 9   User_Score       10014 non-null  object \n",
      " 10  Rating           9949 non-null   object \n",
      "dtypes: float64(6), object(5)\n",
      "memory usage: 1.4+ MB\n"
     ]
    }
   ],
   "source": [
    "# Imprimiendo la información general/resumida sobre el DataFrame\n",
    "gd.info()"
   ]
  },
  {
   "cell_type": "code",
   "execution_count": 5,
   "metadata": {},
   "outputs": [
    {
     "data": {
      "text/html": [
       "<div>\n",
       "<style scoped>\n",
       "    .dataframe tbody tr th:only-of-type {\n",
       "        vertical-align: middle;\n",
       "    }\n",
       "\n",
       "    .dataframe tbody tr th {\n",
       "        vertical-align: top;\n",
       "    }\n",
       "\n",
       "    .dataframe thead th {\n",
       "        text-align: right;\n",
       "    }\n",
       "</style>\n",
       "<table border=\"1\" class=\"dataframe\">\n",
       "  <thead>\n",
       "    <tr style=\"text-align: right;\">\n",
       "      <th></th>\n",
       "      <th>Year_of_Release</th>\n",
       "      <th>NA_sales</th>\n",
       "      <th>EU_sales</th>\n",
       "      <th>JP_sales</th>\n",
       "      <th>Other_sales</th>\n",
       "      <th>Critic_Score</th>\n",
       "    </tr>\n",
       "  </thead>\n",
       "  <tbody>\n",
       "    <tr>\n",
       "      <th>count</th>\n",
       "      <td>16446.000000</td>\n",
       "      <td>16715.000000</td>\n",
       "      <td>16715.000000</td>\n",
       "      <td>16715.000000</td>\n",
       "      <td>16715.000000</td>\n",
       "      <td>8137.000000</td>\n",
       "    </tr>\n",
       "    <tr>\n",
       "      <th>mean</th>\n",
       "      <td>2006.484616</td>\n",
       "      <td>0.263377</td>\n",
       "      <td>0.145060</td>\n",
       "      <td>0.077617</td>\n",
       "      <td>0.047342</td>\n",
       "      <td>68.967679</td>\n",
       "    </tr>\n",
       "    <tr>\n",
       "      <th>std</th>\n",
       "      <td>5.877050</td>\n",
       "      <td>0.813604</td>\n",
       "      <td>0.503339</td>\n",
       "      <td>0.308853</td>\n",
       "      <td>0.186731</td>\n",
       "      <td>13.938165</td>\n",
       "    </tr>\n",
       "    <tr>\n",
       "      <th>min</th>\n",
       "      <td>1980.000000</td>\n",
       "      <td>0.000000</td>\n",
       "      <td>0.000000</td>\n",
       "      <td>0.000000</td>\n",
       "      <td>0.000000</td>\n",
       "      <td>13.000000</td>\n",
       "    </tr>\n",
       "    <tr>\n",
       "      <th>25%</th>\n",
       "      <td>2003.000000</td>\n",
       "      <td>0.000000</td>\n",
       "      <td>0.000000</td>\n",
       "      <td>0.000000</td>\n",
       "      <td>0.000000</td>\n",
       "      <td>60.000000</td>\n",
       "    </tr>\n",
       "    <tr>\n",
       "      <th>50%</th>\n",
       "      <td>2007.000000</td>\n",
       "      <td>0.080000</td>\n",
       "      <td>0.020000</td>\n",
       "      <td>0.000000</td>\n",
       "      <td>0.010000</td>\n",
       "      <td>71.000000</td>\n",
       "    </tr>\n",
       "    <tr>\n",
       "      <th>75%</th>\n",
       "      <td>2010.000000</td>\n",
       "      <td>0.240000</td>\n",
       "      <td>0.110000</td>\n",
       "      <td>0.040000</td>\n",
       "      <td>0.030000</td>\n",
       "      <td>79.000000</td>\n",
       "    </tr>\n",
       "    <tr>\n",
       "      <th>95%</th>\n",
       "      <td>2015.000000</td>\n",
       "      <td>1.060000</td>\n",
       "      <td>0.620000</td>\n",
       "      <td>0.360000</td>\n",
       "      <td>0.200000</td>\n",
       "      <td>89.000000</td>\n",
       "    </tr>\n",
       "    <tr>\n",
       "      <th>99%</th>\n",
       "      <td>2016.000000</td>\n",
       "      <td>2.790000</td>\n",
       "      <td>1.938600</td>\n",
       "      <td>1.268600</td>\n",
       "      <td>0.630000</td>\n",
       "      <td>94.000000</td>\n",
       "    </tr>\n",
       "    <tr>\n",
       "      <th>max</th>\n",
       "      <td>2016.000000</td>\n",
       "      <td>41.360000</td>\n",
       "      <td>28.960000</td>\n",
       "      <td>10.220000</td>\n",
       "      <td>10.570000</td>\n",
       "      <td>98.000000</td>\n",
       "    </tr>\n",
       "  </tbody>\n",
       "</table>\n",
       "</div>"
      ],
      "text/plain": [
       "       Year_of_Release      NA_sales      EU_sales      JP_sales  \\\n",
       "count     16446.000000  16715.000000  16715.000000  16715.000000   \n",
       "mean       2006.484616      0.263377      0.145060      0.077617   \n",
       "std           5.877050      0.813604      0.503339      0.308853   \n",
       "min        1980.000000      0.000000      0.000000      0.000000   \n",
       "25%        2003.000000      0.000000      0.000000      0.000000   \n",
       "50%        2007.000000      0.080000      0.020000      0.000000   \n",
       "75%        2010.000000      0.240000      0.110000      0.040000   \n",
       "95%        2015.000000      1.060000      0.620000      0.360000   \n",
       "99%        2016.000000      2.790000      1.938600      1.268600   \n",
       "max        2016.000000     41.360000     28.960000     10.220000   \n",
       "\n",
       "        Other_sales  Critic_Score  \n",
       "count  16715.000000   8137.000000  \n",
       "mean       0.047342     68.967679  \n",
       "std        0.186731     13.938165  \n",
       "min        0.000000     13.000000  \n",
       "25%        0.000000     60.000000  \n",
       "50%        0.010000     71.000000  \n",
       "75%        0.030000     79.000000  \n",
       "95%        0.200000     89.000000  \n",
       "99%        0.630000     94.000000  \n",
       "max       10.570000     98.000000  "
      ]
     },
     "execution_count": 5,
     "metadata": {},
     "output_type": "execute_result"
    }
   ],
   "source": [
    "gd.describe(percentiles=[0.25, 0.5, 0.75, 0.95, 0.99])"
   ]
  },
  {
   "cell_type": "code",
   "execution_count": 6,
   "metadata": {
    "scrolled": true
   },
   "outputs": [
    {
     "data": {
      "text/html": [
       "<div>\n",
       "<style scoped>\n",
       "    .dataframe tbody tr th:only-of-type {\n",
       "        vertical-align: middle;\n",
       "    }\n",
       "\n",
       "    .dataframe tbody tr th {\n",
       "        vertical-align: top;\n",
       "    }\n",
       "\n",
       "    .dataframe thead th {\n",
       "        text-align: right;\n",
       "    }\n",
       "</style>\n",
       "<table border=\"1\" class=\"dataframe\">\n",
       "  <thead>\n",
       "    <tr style=\"text-align: right;\">\n",
       "      <th></th>\n",
       "      <th>Name</th>\n",
       "      <th>Platform</th>\n",
       "      <th>Genre</th>\n",
       "      <th>User_Score</th>\n",
       "      <th>Rating</th>\n",
       "    </tr>\n",
       "  </thead>\n",
       "  <tbody>\n",
       "    <tr>\n",
       "      <th>count</th>\n",
       "      <td>16713</td>\n",
       "      <td>16715</td>\n",
       "      <td>16713</td>\n",
       "      <td>10014</td>\n",
       "      <td>9949</td>\n",
       "    </tr>\n",
       "    <tr>\n",
       "      <th>unique</th>\n",
       "      <td>11559</td>\n",
       "      <td>31</td>\n",
       "      <td>12</td>\n",
       "      <td>96</td>\n",
       "      <td>8</td>\n",
       "    </tr>\n",
       "    <tr>\n",
       "      <th>top</th>\n",
       "      <td>Need for Speed: Most Wanted</td>\n",
       "      <td>PS2</td>\n",
       "      <td>Action</td>\n",
       "      <td>tbd</td>\n",
       "      <td>E</td>\n",
       "    </tr>\n",
       "    <tr>\n",
       "      <th>freq</th>\n",
       "      <td>12</td>\n",
       "      <td>2161</td>\n",
       "      <td>3369</td>\n",
       "      <td>2424</td>\n",
       "      <td>3990</td>\n",
       "    </tr>\n",
       "  </tbody>\n",
       "</table>\n",
       "</div>"
      ],
      "text/plain": [
       "                               Name Platform   Genre User_Score Rating\n",
       "count                         16713    16715   16713      10014   9949\n",
       "unique                        11559       31      12         96      8\n",
       "top     Need for Speed: Most Wanted      PS2  Action        tbd      E\n",
       "freq                             12     2161    3369       2424   3990"
      ]
     },
     "execution_count": 6,
     "metadata": {},
     "output_type": "execute_result"
    }
   ],
   "source": [
    "gd.describe(exclude=['int', 'float'])"
   ]
  },
  {
   "cell_type": "code",
   "execution_count": 7,
   "metadata": {},
   "outputs": [
    {
     "data": {
      "text/html": [
       "<div>\n",
       "<style scoped>\n",
       "    .dataframe tbody tr th:only-of-type {\n",
       "        vertical-align: middle;\n",
       "    }\n",
       "\n",
       "    .dataframe tbody tr th {\n",
       "        vertical-align: top;\n",
       "    }\n",
       "\n",
       "    .dataframe thead th {\n",
       "        text-align: right;\n",
       "    }\n",
       "</style>\n",
       "<table border=\"1\" class=\"dataframe\">\n",
       "  <thead>\n",
       "    <tr style=\"text-align: right;\">\n",
       "      <th></th>\n",
       "      <th>Name</th>\n",
       "      <th>Platform</th>\n",
       "      <th>Year_of_Release</th>\n",
       "      <th>Genre</th>\n",
       "      <th>NA_sales</th>\n",
       "      <th>EU_sales</th>\n",
       "      <th>JP_sales</th>\n",
       "      <th>Other_sales</th>\n",
       "      <th>Critic_Score</th>\n",
       "      <th>User_Score</th>\n",
       "      <th>Rating</th>\n",
       "    </tr>\n",
       "  </thead>\n",
       "  <tbody>\n",
       "    <tr>\n",
       "      <th>0</th>\n",
       "      <td>Wii Sports</td>\n",
       "      <td>Wii</td>\n",
       "      <td>2006.0</td>\n",
       "      <td>Sports</td>\n",
       "      <td>41.36</td>\n",
       "      <td>28.96</td>\n",
       "      <td>3.77</td>\n",
       "      <td>8.45</td>\n",
       "      <td>76.0</td>\n",
       "      <td>8</td>\n",
       "      <td>E</td>\n",
       "    </tr>\n",
       "    <tr>\n",
       "      <th>1</th>\n",
       "      <td>Super Mario Bros.</td>\n",
       "      <td>NES</td>\n",
       "      <td>1985.0</td>\n",
       "      <td>Platform</td>\n",
       "      <td>29.08</td>\n",
       "      <td>3.58</td>\n",
       "      <td>6.81</td>\n",
       "      <td>0.77</td>\n",
       "      <td>NaN</td>\n",
       "      <td>NaN</td>\n",
       "      <td>NaN</td>\n",
       "    </tr>\n",
       "    <tr>\n",
       "      <th>2</th>\n",
       "      <td>Mario Kart Wii</td>\n",
       "      <td>Wii</td>\n",
       "      <td>2008.0</td>\n",
       "      <td>Racing</td>\n",
       "      <td>15.68</td>\n",
       "      <td>12.76</td>\n",
       "      <td>3.79</td>\n",
       "      <td>3.29</td>\n",
       "      <td>82.0</td>\n",
       "      <td>8.3</td>\n",
       "      <td>E</td>\n",
       "    </tr>\n",
       "    <tr>\n",
       "      <th>3</th>\n",
       "      <td>Wii Sports Resort</td>\n",
       "      <td>Wii</td>\n",
       "      <td>2009.0</td>\n",
       "      <td>Sports</td>\n",
       "      <td>15.61</td>\n",
       "      <td>10.93</td>\n",
       "      <td>3.28</td>\n",
       "      <td>2.95</td>\n",
       "      <td>80.0</td>\n",
       "      <td>8</td>\n",
       "      <td>E</td>\n",
       "    </tr>\n",
       "    <tr>\n",
       "      <th>4</th>\n",
       "      <td>Pokemon Red/Pokemon Blue</td>\n",
       "      <td>GB</td>\n",
       "      <td>1996.0</td>\n",
       "      <td>Role-Playing</td>\n",
       "      <td>11.27</td>\n",
       "      <td>8.89</td>\n",
       "      <td>10.22</td>\n",
       "      <td>1.00</td>\n",
       "      <td>NaN</td>\n",
       "      <td>NaN</td>\n",
       "      <td>NaN</td>\n",
       "    </tr>\n",
       "  </tbody>\n",
       "</table>\n",
       "</div>"
      ],
      "text/plain": [
       "                       Name Platform  Year_of_Release         Genre  NA_sales  \\\n",
       "0                Wii Sports      Wii           2006.0        Sports     41.36   \n",
       "1         Super Mario Bros.      NES           1985.0      Platform     29.08   \n",
       "2            Mario Kart Wii      Wii           2008.0        Racing     15.68   \n",
       "3         Wii Sports Resort      Wii           2009.0        Sports     15.61   \n",
       "4  Pokemon Red/Pokemon Blue       GB           1996.0  Role-Playing     11.27   \n",
       "\n",
       "   EU_sales  JP_sales  Other_sales  Critic_Score User_Score Rating  \n",
       "0     28.96      3.77         8.45          76.0          8      E  \n",
       "1      3.58      6.81         0.77           NaN        NaN    NaN  \n",
       "2     12.76      3.79         3.29          82.0        8.3      E  \n",
       "3     10.93      3.28         2.95          80.0          8      E  \n",
       "4      8.89     10.22         1.00           NaN        NaN    NaN  "
      ]
     },
     "execution_count": 7,
     "metadata": {},
     "output_type": "execute_result"
    }
   ],
   "source": [
    "# Imprimiendo una muestra de los datos\n",
    "gd.head()"
   ]
  },
  {
   "cell_type": "markdown",
   "metadata": {},
   "source": [
    "**Valores ausentes**"
   ]
  },
  {
   "cell_type": "code",
   "execution_count": 8,
   "metadata": {},
   "outputs": [
    {
     "data": {
      "text/plain": [
       "Critic_Score       8578\n",
       "Rating             6766\n",
       "User_Score         6701\n",
       "Year_of_Release     269\n",
       "Name                  2\n",
       "Genre                 2\n",
       "Platform              0\n",
       "NA_sales              0\n",
       "EU_sales              0\n",
       "JP_sales              0\n",
       "Other_sales           0\n",
       "dtype: int64"
      ]
     },
     "execution_count": 8,
     "metadata": {},
     "output_type": "execute_result"
    }
   ],
   "source": [
    "gd.isna().sum().sort_values(ascending=False)"
   ]
  },
  {
   "cell_type": "markdown",
   "metadata": {},
   "source": [
    "### Conclusiones y siguientes pasos"
   ]
  },
  {
   "cell_type": "markdown",
   "metadata": {},
   "source": [
    "El DataFrame **gd** tiene 16.715 filas y 11 columnas, tenemos valores ausentes en las columnas Critic_Score, Rating, User_Score, Year_of_Release, Name y Genre.\n",
    "\n",
    "Para continuar, necesitamos preprocesar los datos."
   ]
  },
  {
   "cell_type": "markdown",
   "metadata": {},
   "source": [
    "[Volver a Contenidos](#back)"
   ]
  },
  {
   "cell_type": "markdown",
   "metadata": {},
   "source": [
    "## Preprocesamiento de datos <a id='preprocesamiento_de_datos'></a>"
   ]
  },
  {
   "cell_type": "markdown",
   "metadata": {},
   "source": [
    "### Estilo del encabezado\n",
    "Imprime el encabezado de la columna:"
   ]
  },
  {
   "cell_type": "code",
   "execution_count": 9,
   "metadata": {},
   "outputs": [
    {
     "data": {
      "text/plain": [
       "Index(['Name', 'Platform', 'Year_of_Release', 'Genre', 'NA_sales', 'EU_sales',\n",
       "       'JP_sales', 'Other_sales', 'Critic_Score', 'User_Score', 'Rating'],\n",
       "      dtype='object')"
      ]
     },
     "execution_count": 9,
     "metadata": {},
     "output_type": "execute_result"
    }
   ],
   "source": [
    "# Lista de los nombres de las columnas en la tabla gd\n",
    "gd.columns"
   ]
  },
  {
   "cell_type": "code",
   "execution_count": 10,
   "metadata": {},
   "outputs": [],
   "source": [
    "# Renombrando las columnas\n",
    "gd.rename(\n",
    "    columns={\n",
    "        'Name': 'name',\n",
    "        'Platform': 'platform',\n",
    "        'Year_of_Release': 'year_of_release',\n",
    "        'Genre': 'genre',\n",
    "        'NA_sales': 'na_sales',\n",
    "        'EU_sales': 'eu_sales',\n",
    "        'JP_sales': 'jp_sales',\n",
    "        'Other_sales': 'other_sales',\n",
    "        'Critic_Score': 'critic_score',\n",
    "        'User_Score': 'user_score',\n",
    "        'Rating': 'rating',\n",
    "    }, inplace=True\n",
    ")"
   ]
  },
  {
   "cell_type": "code",
   "execution_count": 11,
   "metadata": {},
   "outputs": [
    {
     "data": {
      "text/html": [
       "<div>\n",
       "<style scoped>\n",
       "    .dataframe tbody tr th:only-of-type {\n",
       "        vertical-align: middle;\n",
       "    }\n",
       "\n",
       "    .dataframe tbody tr th {\n",
       "        vertical-align: top;\n",
       "    }\n",
       "\n",
       "    .dataframe thead th {\n",
       "        text-align: right;\n",
       "    }\n",
       "</style>\n",
       "<table border=\"1\" class=\"dataframe\">\n",
       "  <thead>\n",
       "    <tr style=\"text-align: right;\">\n",
       "      <th></th>\n",
       "      <th>name</th>\n",
       "      <th>platform</th>\n",
       "      <th>year_of_release</th>\n",
       "      <th>genre</th>\n",
       "      <th>na_sales</th>\n",
       "      <th>eu_sales</th>\n",
       "      <th>jp_sales</th>\n",
       "      <th>other_sales</th>\n",
       "      <th>critic_score</th>\n",
       "      <th>user_score</th>\n",
       "      <th>rating</th>\n",
       "    </tr>\n",
       "  </thead>\n",
       "  <tbody>\n",
       "    <tr>\n",
       "      <th>0</th>\n",
       "      <td>Wii Sports</td>\n",
       "      <td>Wii</td>\n",
       "      <td>2006.0</td>\n",
       "      <td>Sports</td>\n",
       "      <td>41.36</td>\n",
       "      <td>28.96</td>\n",
       "      <td>3.77</td>\n",
       "      <td>8.45</td>\n",
       "      <td>76.0</td>\n",
       "      <td>8</td>\n",
       "      <td>E</td>\n",
       "    </tr>\n",
       "    <tr>\n",
       "      <th>1</th>\n",
       "      <td>Super Mario Bros.</td>\n",
       "      <td>NES</td>\n",
       "      <td>1985.0</td>\n",
       "      <td>Platform</td>\n",
       "      <td>29.08</td>\n",
       "      <td>3.58</td>\n",
       "      <td>6.81</td>\n",
       "      <td>0.77</td>\n",
       "      <td>NaN</td>\n",
       "      <td>NaN</td>\n",
       "      <td>NaN</td>\n",
       "    </tr>\n",
       "    <tr>\n",
       "      <th>2</th>\n",
       "      <td>Mario Kart Wii</td>\n",
       "      <td>Wii</td>\n",
       "      <td>2008.0</td>\n",
       "      <td>Racing</td>\n",
       "      <td>15.68</td>\n",
       "      <td>12.76</td>\n",
       "      <td>3.79</td>\n",
       "      <td>3.29</td>\n",
       "      <td>82.0</td>\n",
       "      <td>8.3</td>\n",
       "      <td>E</td>\n",
       "    </tr>\n",
       "    <tr>\n",
       "      <th>3</th>\n",
       "      <td>Wii Sports Resort</td>\n",
       "      <td>Wii</td>\n",
       "      <td>2009.0</td>\n",
       "      <td>Sports</td>\n",
       "      <td>15.61</td>\n",
       "      <td>10.93</td>\n",
       "      <td>3.28</td>\n",
       "      <td>2.95</td>\n",
       "      <td>80.0</td>\n",
       "      <td>8</td>\n",
       "      <td>E</td>\n",
       "    </tr>\n",
       "    <tr>\n",
       "      <th>4</th>\n",
       "      <td>Pokemon Red/Pokemon Blue</td>\n",
       "      <td>GB</td>\n",
       "      <td>1996.0</td>\n",
       "      <td>Role-Playing</td>\n",
       "      <td>11.27</td>\n",
       "      <td>8.89</td>\n",
       "      <td>10.22</td>\n",
       "      <td>1.00</td>\n",
       "      <td>NaN</td>\n",
       "      <td>NaN</td>\n",
       "      <td>NaN</td>\n",
       "    </tr>\n",
       "  </tbody>\n",
       "</table>\n",
       "</div>"
      ],
      "text/plain": [
       "                       name platform  year_of_release         genre  na_sales  \\\n",
       "0                Wii Sports      Wii           2006.0        Sports     41.36   \n",
       "1         Super Mario Bros.      NES           1985.0      Platform     29.08   \n",
       "2            Mario Kart Wii      Wii           2008.0        Racing     15.68   \n",
       "3         Wii Sports Resort      Wii           2009.0        Sports     15.61   \n",
       "4  Pokemon Red/Pokemon Blue       GB           1996.0  Role-Playing     11.27   \n",
       "\n",
       "   eu_sales  jp_sales  other_sales  critic_score user_score rating  \n",
       "0     28.96      3.77         8.45          76.0          8      E  \n",
       "1      3.58      6.81         0.77           NaN        NaN    NaN  \n",
       "2     12.76      3.79         3.29          82.0        8.3      E  \n",
       "3     10.93      3.28         2.95          80.0          8      E  \n",
       "4      8.89     10.22         1.00           NaN        NaN    NaN  "
      ]
     },
     "execution_count": 11,
     "metadata": {},
     "output_type": "execute_result"
    }
   ],
   "source": [
    "# Comprobando el resultado: los nombres de las columnas\n",
    "gd.head()"
   ]
  },
  {
   "cell_type": "code",
   "execution_count": 12,
   "metadata": {
    "scrolled": true
   },
   "outputs": [
    {
     "data": {
      "text/plain": [
       "[\"'98 Koshien\",\n",
       " '.hack//G.U. Vol.1//Rebirth',\n",
       " '.hack//G.U. Vol.2//Reminisce',\n",
       " '.hack//G.U. Vol.2//Reminisce (jp sales)',\n",
       " '.hack//G.U. Vol.3//Redemption',\n",
       " '.hack//Infection Part 1',\n",
       " '.hack//Link',\n",
       " '.hack//Mutation Part 2',\n",
       " '.hack//Outbreak Part 3',\n",
       " '.hack//Quarantine Part 4: The Final Chapter',\n",
       " '.hack: Sekai no Mukou ni + Versus',\n",
       " '007 Racing',\n",
       " '007: Quantum of Solace',\n",
       " '007: The World is not Enough',\n",
       " '007: Tomorrow Never Dies',\n",
       " '1 vs. 100',\n",
       " '1/2 Summer +',\n",
       " '10 Minute Solution',\n",
       " '100 All-Time Favorites',\n",
       " '100 Classic Books',\n",
       " '100 Classic Games',\n",
       " '1000 Cooking Recipes from ELLE à table',\n",
       " '1001 Touch Games',\n",
       " '101-in-1 Explosive Megamix',\n",
       " '101-in-1 Party Megamix Wii',\n",
       " '101-in-1 Sports Megamix',\n",
       " '101-in-1 Sports Party Megamix',\n",
       " '1080°: TenEighty Snowboarding',\n",
       " '11eyes: CrossOver',\n",
       " '12-Sai. Honto no Kimochi',\n",
       " '12-Sai. Koisuru Diary',\n",
       " '12Riven: The Psi-Climinal of Integral',\n",
       " '15 Days',\n",
       " '1701 A.D.',\n",
       " '18 Wheeler: American Pro Trucker',\n",
       " '18 Wheels of Steel: Extreme Trucker',\n",
       " '18 Wheels of Steel: Extreme Trucker 2',\n",
       " '187: Ride or Die',\n",
       " '1942',\n",
       " '2 Games in 1 Double Pack: Hot Wheels Velocity X / Hot Wheels World Race',\n",
       " '2 Games in 1 Double Pack: The Incredibles / Finding Nemo: The Continuing Adventures',\n",
       " '2 Games in 1: Disney Princess & The Lion King',\n",
       " \"2 Games in 1: Disney's Brother Bear / The Lion King 1 1/2\",\n",
       " '2 Games in 1: Sonic Advance & ChuChu Rocket!',\n",
       " '2 Games in 1: Sonic Battle & ChuChu Rocket!',\n",
       " '2 Games in 1: Sonic Pinball Party & Columns Crown',\n",
       " '2 Games in 1: SpongeBob SquarePants: SuperSponge & Rugrats Go Wild',\n",
       " '2 in 1 Combo Pack: Sonic Heroes / Super Monkey Ball Deluxe',\n",
       " '2-in-1 Game Pack: Spider-Man & Spider-Man 2',\n",
       " '2002 FIFA World Cup',\n",
       " '2010 FIFA World Cup South Africa',\n",
       " '2014 FIFA World Cup Brazil',\n",
       " '24: The Game',\n",
       " '25 to Life',\n",
       " '2Xtreme',\n",
       " '3 in 1: Solitaire, Mahjong & Tangram',\n",
       " '300: March to Glory',\n",
       " '3D Baseball',\n",
       " '3D Dot Game Heroes',\n",
       " '3D Lemmings',\n",
       " '3D Tank Warfare Simulator Panzer Front',\n",
       " '3DS Classic Collection',\n",
       " '3Xtreme',\n",
       " '3rd Super Robot Wars Z Jigoku Hen',\n",
       " '3rd Super Robot Wars Z: Tengoku-Hen',\n",
       " '4 Elements',\n",
       " '4 Game Fun Pack: Monopoly / Boggle / Yahtzee / Battleship',\n",
       " '4 Nin uchi Mahjong',\n",
       " '4 Play Collection - Dark Mysteries',\n",
       " '40 Winks',\n",
       " '428: Fuusa Sareta Shibuya de',\n",
       " '4x4 EVO 2',\n",
       " '4x4 Evolution',\n",
       " '50 Cent: Blood on the Sand',\n",
       " '50 Cent: Bulletproof',\n",
       " '50 Classic Games',\n",
       " '64 de Hakken! Tamagotchi Minna de Tamagotchi World',\n",
       " '7 Days to Die',\n",
       " '7 Roses: A Darkness Rises',\n",
       " '7 Wonders II',\n",
       " '7 Wonders of the Ancient World',\n",
       " '7 Wonders: Treasures of Seven',\n",
       " \"7'scarlet\",\n",
       " '7th Dragon',\n",
       " '7th Dragon 2020',\n",
       " '7th Dragon 2020-II',\n",
       " '7th Dragon III Code: VFD',\n",
       " '99 no Namida',\n",
       " '999: Nine Hours, Nine Persons, Nine Doors',\n",
       " 'A Boy and His Blob',\n",
       " \"A Bug's Life\",\n",
       " 'A Collection of Activision Classic Games for the Atari 2600',\n",
       " 'A Collection of Classic Games from the Intellivision',\n",
       " 'A Game of Thrones: Genesis',\n",
       " 'A Good Librarian Like a Good Shepherd: Library Party',\n",
       " 'A New Beginning',\n",
       " 'A Ressha de Gyoukou 2001',\n",
       " 'A Ressha de Ikou DS',\n",
       " 'A Vampyre Story',\n",
       " \"A Witch's Tale\",\n",
       " 'A llI S.V.: A Ressha de Gyoukou 3 Super Version',\n",
       " 'A-Train',\n",
       " 'A-Train 6',\n",
       " 'A-Train: City Simulator',\n",
       " 'A. IV Evolution: A Ressha de Ikou 4',\n",
       " \"A.C.E.: Another Century's Episode\",\n",
       " \"A.C.E.: Another Century's Episode 2\",\n",
       " \"A.C.E.: Another Century's Episode 3: The Final\",\n",
       " \"A.C.E.: Another Century's Episode Portable\",\n",
       " \"A.C.E.: Another Century's Episode R\",\n",
       " 'ABBA: You Can Dance',\n",
       " 'AC/DC LIVE: Rock Band Track Pack',\n",
       " 'AIR',\n",
       " 'AKB1/149: Love Election',\n",
       " 'AKB1/48: Idol to Guam de Koishitara...',\n",
       " 'AKB1/48: Idol to Koishitara...',\n",
       " 'AKB48+Me',\n",
       " 'AMF Bowling 2004',\n",
       " 'AMF Bowling Pinbusters!',\n",
       " 'AMF Bowling World Lanes',\n",
       " 'AMF Xtreme Bowling',\n",
       " 'AMNESIA World',\n",
       " 'APB Reloaded',\n",
       " 'ASH: Archaic Sealed Heat',\n",
       " 'ATV Offroad Fury',\n",
       " 'ATV Offroad Fury 2',\n",
       " 'ATV Offroad Fury 3',\n",
       " 'ATV Offroad Fury Pro',\n",
       " \"ATV Offroad Fury: Blazin' Trails\",\n",
       " 'ATV Quad Kings',\n",
       " 'ATV Quad Power Racing 2',\n",
       " 'ATV/Monster Truck Mayhem',\n",
       " 'ATV: Quad Frenzy',\n",
       " 'ATV: Quad Power Racing',\n",
       " 'Aa Megami-samaa',\n",
       " 'Abunai: Koi no Sousa Shitsu',\n",
       " 'Academy of Champions: Soccer',\n",
       " 'Accel World: Ginyoku no Kakusei',\n",
       " 'Accel World: Kasoku no Chouten',\n",
       " 'Ace Attorney 6',\n",
       " 'Ace Attorney Investigations 2',\n",
       " 'Ace Attorney Investigations: Miles Edgeworth',\n",
       " 'Ace Combat 04: Shattered Skies',\n",
       " 'Ace Combat 2',\n",
       " 'Ace Combat 3: Electrosphere',\n",
       " 'Ace Combat 5: The Unsung War',\n",
       " 'Ace Combat 6: Fires of Liberation',\n",
       " 'Ace Combat X: Skies of Deception',\n",
       " 'Ace Combat Zero: The Belkan War',\n",
       " 'Ace Combat: Assault Horizon',\n",
       " 'Ace Combat: Assault Horizon Legacy',\n",
       " 'Ace Combat: Joint Assault',\n",
       " 'Achtung Panzer: Kharkov 1943',\n",
       " 'Act of Aggression',\n",
       " 'Action Bass',\n",
       " 'Action Force',\n",
       " 'Action Man-Operation Extreme',\n",
       " 'Active Health with Carol Vorderman',\n",
       " 'Active Life Explorer',\n",
       " 'Active Life: Extreme Challenge',\n",
       " 'Active Life: Magical Carnival',\n",
       " 'Active Life: Outdoor Challenge',\n",
       " 'Activision Anthology',\n",
       " 'Activision Hits: Remixed',\n",
       " 'Actua Tennis',\n",
       " 'Adidas Power Soccer',\n",
       " 'Adidas Power Soccer 98',\n",
       " 'Adrenalin Misfits',\n",
       " 'Advance Guardian Heroes',\n",
       " 'Advance Wars',\n",
       " 'Advance Wars 2: Black Hole Rising',\n",
       " 'Advance Wars: Days of Ruin',\n",
       " 'Advance Wars: Dual Strike',\n",
       " 'Advent Rising',\n",
       " 'Adventure',\n",
       " 'Adventure Island',\n",
       " \"Adventure Time: Explore the Dungeon Because I Don't Know!\",\n",
       " 'Adventure Time: Finn & Jake Investigations',\n",
       " 'Adventure Time: The Secret of the Nameless',\n",
       " 'Adventure Time: The Secret of the Nameless Kingdom',\n",
       " 'Adventures of Lolo',\n",
       " 'Adventures of Tron',\n",
       " 'Adventures to Go!',\n",
       " 'Aedis Eclipse: Generation of Chaos',\n",
       " 'Aegis of Earth: Protonovus Assault',\n",
       " 'Aeon Flux',\n",
       " 'Aero Elite: Combat Academy',\n",
       " 'Aero Gauge',\n",
       " 'AeroFighters Assault',\n",
       " 'Afrika',\n",
       " 'Afro Samurai',\n",
       " 'After Hours Athletes',\n",
       " 'Again',\n",
       " 'Agarest Senki: Re-appearance',\n",
       " 'Agassi Tennis Generation',\n",
       " \"Agatha Christie's The ABC Murders\",\n",
       " 'Agatha Christie: And Then There Were None',\n",
       " 'Agatha Christie: Death on the Nile',\n",
       " 'Agatha Christie: Evil Under the Sun',\n",
       " 'Agatha Christie: Peril at End House',\n",
       " 'Agatha Christie: The ABC Murders',\n",
       " 'Age of Conan: Rise of the Godslayer',\n",
       " 'Age of Empires II: The Age of Kings',\n",
       " 'Age of Empires III',\n",
       " 'Age of Empires III: Complete Collection',\n",
       " 'Age of Empires III: Gold Edition',\n",
       " 'Age of Empires III: The Asian Dynasties',\n",
       " 'Age of Empires Online',\n",
       " \"Age of Empires: Collector's Edition\",\n",
       " 'Age of Empires: Mythologies',\n",
       " 'Age of Empires: The Age of Kings',\n",
       " 'Age of Mythology',\n",
       " 'Age of Mythology: The Titans',\n",
       " 'Aggressive Inline',\n",
       " 'Agile Warrior F-111X',\n",
       " 'Aibou DS',\n",
       " 'Aidyn Chronicles: The First Mage',\n",
       " 'Aikatsu Stars! My Special Appeal',\n",
       " 'Aikatsu! 2-nin no My Princess',\n",
       " 'Aikatsu! 365 Idol Days',\n",
       " 'Aikatsu! Cinderella Lesson',\n",
       " 'Aikatsu! My No.1 Stage!',\n",
       " 'Ailu de Puzzle',\n",
       " 'Air Combat',\n",
       " 'Air Conflicts: Aces of World War II',\n",
       " 'Air Conflicts: Secret Wars',\n",
       " 'Air Raid',\n",
       " 'Air Traffic Chaos',\n",
       " 'Air-Sea Battle',\n",
       " 'AirForce Delta Storm',\n",
       " 'AirForce Delta Strike',\n",
       " 'Airblade',\n",
       " 'Airborne Troops: Countdown to D-Day',\n",
       " 'Airline Tycoon',\n",
       " 'Airline Tycoon 2',\n",
       " 'Airlock',\n",
       " 'Airport Simulator',\n",
       " 'Airship Q',\n",
       " 'Aiyoku no Eustia',\n",
       " 'Akagawa Jirou Mystery: Yasoukyoku - Hon ni Manekareta Satsujin',\n",
       " 'Akai Ito DS',\n",
       " 'Akai Katana Shin',\n",
       " 'Akane Iro ni Somaru Saka Parallel',\n",
       " 'Akatsuki no Amaneka to Aoi Kyojin',\n",
       " 'Akatsuki no Goei Trinity',\n",
       " \"Akiba's Trip\",\n",
       " \"Akiba's Trip Plus\",\n",
       " \"Akiba's Trip: Undead & Undressed\",\n",
       " 'Akko ni Omakase! Brain Shock',\n",
       " 'Akuji the Heartless',\n",
       " 'Aladdin Magic Racer',\n",
       " 'Alan Wake',\n",
       " 'Alex Rider: Stormbreaker',\n",
       " 'Alexi Lalas International Soccer',\n",
       " 'Alfa Romeo Racing Italiano',\n",
       " \"Alia's Carnival! Sacrament\",\n",
       " 'Alias',\n",
       " 'Alice in Wonderland',\n",
       " 'Alice: Madness Returns',\n",
       " 'Alien',\n",
       " 'Alien Breed Trilogy',\n",
       " 'Alien Hominid',\n",
       " 'Alien Monster Bowling League',\n",
       " 'Alien Resurrection',\n",
       " 'Alien Syndrome',\n",
       " 'Alien Trilogy',\n",
       " \"Alien's Return\",\n",
       " 'Alien: Isolation',\n",
       " 'Alienators: Evolution Continues',\n",
       " 'Aliens in the Attic',\n",
       " 'Aliens versus Predator: Extinction',\n",
       " 'Aliens vs Predator',\n",
       " 'Aliens vs Predator: Requiem',\n",
       " 'Aliens: Colonial Marines',\n",
       " 'Aliens: Infestation',\n",
       " 'All Grown Up! Express Yourself',\n",
       " 'All Grown Up!: Game Boy Advance Video Volume 1',\n",
       " 'All Japan Pro Wrestling featuring Virtua',\n",
       " 'All Kamen Rider: Rider Generation',\n",
       " 'All Kamen Rider: Rider Generation 2',\n",
       " 'All Points Bulletin',\n",
       " 'All Star Cheer Squad',\n",
       " 'All Star Cheer Squad 2',\n",
       " 'All Star Karate',\n",
       " 'All Star Pro-Wrestling',\n",
       " 'All Star Tennis 99',\n",
       " 'All-Pro Football 2K8',\n",
       " 'All-Star Baseball 2000',\n",
       " 'All-Star Baseball 2001',\n",
       " 'All-Star Baseball 2002',\n",
       " 'All-Star Baseball 2003',\n",
       " 'All-Star Baseball 2004',\n",
       " 'All-Star Baseball 2005',\n",
       " 'All-Star Baseball 99',\n",
       " 'Alleyway',\n",
       " 'Allied General',\n",
       " 'Alone in the Dark',\n",
       " 'Alone in the Dark: Inferno',\n",
       " \"Alone in the Dark: One-Eyed Jack's Revenge\",\n",
       " 'Alone in the Dark: The New Nightmare',\n",
       " 'Alpha Protocol',\n",
       " 'Alpha and Omega',\n",
       " 'Alter Echo',\n",
       " 'Alter Ego',\n",
       " 'Altered Beast: Guardian of the Realms',\n",
       " 'Alundra',\n",
       " 'Alundra 2: A New Legend Begins',\n",
       " 'Alvin and the Chipmunks',\n",
       " 'Alvin and the Chipmunks: Chipwrecked',\n",
       " 'Alvin and the Chipmunks: The Squeakquel',\n",
       " 'Amagami',\n",
       " 'Amagoushi no Yakata',\n",
       " 'Amatsumi Sora ni! Kumo no Hatate ni',\n",
       " 'Amazing Adventures: The Forgotten Ruins',\n",
       " 'Amazing Island',\n",
       " 'America Oudan Ultra-Quiz',\n",
       " \"America's Army: Rise of a Soldier\",\n",
       " \"America's Army: True Soldiers\",\n",
       " \"America's Next Top Model\",\n",
       " \"America's Test Kitchen: Let's Get Cooking\",\n",
       " 'American Bass Challenge',\n",
       " 'American Chopper',\n",
       " 'American Chopper 2: Full Throttle',\n",
       " 'American Girl: Julie Finds a Way',\n",
       " 'American Girl: Kit Mystery Challenge!',\n",
       " 'American Idol',\n",
       " 'Amnesia',\n",
       " 'Amnesia Crowd',\n",
       " 'Amnesia Later',\n",
       " 'Amped 2',\n",
       " 'Amped 3',\n",
       " 'Amped: Freestyle Snowboarding',\n",
       " 'Amplitude',\n",
       " \"An American Tail: Fievel's Gold Rush\",\n",
       " 'Anarchy Reigns',\n",
       " 'And1 Streetball',\n",
       " 'Andretti Racing',\n",
       " 'Angel Blade: Neo Tokyo Guardians',\n",
       " 'Angelique Duet',\n",
       " 'Angelique Retour',\n",
       " 'Angelique Trois',\n",
       " 'Angelique: Maren no Rokukishi',\n",
       " \"Angler's Club: Ultimate Bass Fishing 3D\",\n",
       " 'Angry Birds',\n",
       " 'Angry Birds Star Wars',\n",
       " 'Angry Birds Trilogy',\n",
       " 'Angry Birds: Rio',\n",
       " 'AniMates!',\n",
       " 'Anima - Gate of Memories',\n",
       " 'Animal Crossing',\n",
       " 'Animal Crossing: Amiibo Festival',\n",
       " 'Animal Crossing: City Folk',\n",
       " 'Animal Crossing: Happy Home Designer',\n",
       " 'Animal Crossing: New Leaf',\n",
       " 'Animal Crossing: Wild World',\n",
       " 'Animal Genius',\n",
       " 'Animal Kingdom: Wildlife Expedition',\n",
       " 'Animal Paradise',\n",
       " 'Animal Planet: Emergency Vets',\n",
       " 'Animal Planet: Vet Collection',\n",
       " 'Animal Planet: Vet Life',\n",
       " 'Animaniacs Ten Pin Alley',\n",
       " 'Animaniacs: The Great Edgar Hunt',\n",
       " 'Animorphs: Shattered Reality',\n",
       " 'Anno 1701: Dawn of Discovery',\n",
       " 'Anno 2070',\n",
       " 'Anno 2205',\n",
       " 'Ano Hi Mita Hana no Namae o Bokutachi wa Mada Shiranai',\n",
       " 'Another Code R: A Journey into Lost Memories',\n",
       " 'Ansatsu Kyoushitsu: Assassin Ikusei Keikaku!!',\n",
       " 'Ant Nation',\n",
       " 'Antiphona no Seikahime: Tenshi no Gakufu Op.A',\n",
       " 'Antz Extreme Racing',\n",
       " 'Anubis II',\n",
       " 'Ao no Exorcist: Genkoku no Labyrinth',\n",
       " 'Ao no Kanata no Four Rhythm',\n",
       " 'Aoishiro',\n",
       " 'Apache: Air Assault',\n",
       " 'Apassionata: Die Galanacht der Pferde',\n",
       " 'Ape Escape',\n",
       " 'Ape Escape 2',\n",
       " 'Ape Escape 3',\n",
       " 'Ape Escape Academy',\n",
       " 'Ape Escape Academy (jp sales)',\n",
       " 'Ape Escape: On the Loose',\n",
       " 'Ape Escape: Pumped & Primed',\n",
       " 'Apex',\n",
       " 'Apocalypse',\n",
       " 'Apollo Justice: Ace Attorney',\n",
       " 'Aqua Aqua',\n",
       " 'Aqua Panic!',\n",
       " 'Aqua Teen Hunger Force: Zombie Ninja Pro-Am',\n",
       " 'Aquaman: Battle for Atlantis',\n",
       " \"Aquanaut's Holiday\",\n",
       " \"Aquanaut's Holiday: Kakusareta Kiroku\",\n",
       " 'Aquapazza: Aquaplus Dream Match',\n",
       " 'Aquarium by DS',\n",
       " 'Ar Nosurge: Ode to an Unborn Star',\n",
       " 'Ar tonelico 2: Melody of Metafalica',\n",
       " 'Ar tonelico Qoga: Knell of Ar Ciel',\n",
       " 'Ar tonelico: Melody of Elemia',\n",
       " 'Arabians Lost: The Engagement on Desert',\n",
       " 'Arc Rise Fantasia',\n",
       " 'Arc the Lad',\n",
       " 'Arc the Lad II',\n",
       " 'Arc the Lad III',\n",
       " 'Arc the Lad: End of Darkness',\n",
       " 'Arc the Lad: Twilight of the Spirits',\n",
       " 'Arcade Hits: Frisky Tom',\n",
       " 'Arcade Party Pak',\n",
       " 'Arcade Shooting Gallery',\n",
       " 'Arcade Zone',\n",
       " 'Arcana Famiglia 2',\n",
       " 'Arcana Famiglia: La storia della Aracana Famiglia',\n",
       " 'Arcana Famiglia: Vascello Phantasma no Majutsushi',\n",
       " 'Arcana Heart',\n",
       " 'Arcana Heart 3',\n",
       " 'Arcania: Gothic 4',\n",
       " 'Archer Maclean Presents: Pool Paradise',\n",
       " \"Archer Maclean's 3D Pool\",\n",
       " \"Archer Maclean's Mercury\",\n",
       " 'Arctic Tale',\n",
       " 'Arctic Thunder',\n",
       " 'Are You Alice?',\n",
       " 'Are You Smarter Than A 5th Grader?',\n",
       " 'Are You Smarter Than a 5th Grader? Back to School',\n",
       " 'Are You Smarter than a 5th Grader? Game Time',\n",
       " 'Are You Smarter than a 5th Grader? Make the Grade',\n",
       " 'Area 51',\n",
       " 'Arena Football',\n",
       " 'Aria: The Natural ~Tooi Yume no Mirage~',\n",
       " 'Aria: The Origination ~Aoi Wakusei no El Cielo~',\n",
       " 'Arkanoid DS',\n",
       " 'ArmA II',\n",
       " 'ArmA III',\n",
       " 'Armed and Dangerous',\n",
       " 'Armor Ambush',\n",
       " 'Armored Core',\n",
       " 'Armored Core 2',\n",
       " 'Armored Core 2: Another Age',\n",
       " 'Armored Core 3',\n",
       " 'Armored Core 3 Portable',\n",
       " 'Armored Core 4',\n",
       " 'Armored Core SL: Silent Line Portable',\n",
       " 'Armored Core V',\n",
       " 'Armored Core: For Answer',\n",
       " 'Armored Core: Formula Front Extreme Battle',\n",
       " 'Armored Core: Last Raven',\n",
       " 'Armored Core: Last Raven Portable',\n",
       " 'Armored Core: Master of Arena',\n",
       " 'Armored Core: Nexus',\n",
       " 'Armored Core: Nine Breaker',\n",
       " 'Armored Core: Project Phantasma',\n",
       " 'Armored Core: Silent Line',\n",
       " 'Armored Core: Verdict Day',\n",
       " 'Armorines: Project S.W.A.R.M.',\n",
       " 'Army Corps of Hell',\n",
       " 'Army Men 3D',\n",
       " 'Army Men World War: Final Front',\n",
       " 'Army Men World War: Land, Sea, Air',\n",
       " 'Army Men World War: Team Assault',\n",
       " 'Army Men: Air Attack',\n",
       " 'Army Men: Air Attack 2',\n",
       " 'Army Men: Air Combat',\n",
       " 'Army Men: Air Combat - The Elite Missions',\n",
       " 'Army Men: Green Rogue',\n",
       " 'Army Men: Major Malfunction',\n",
       " 'Army Men: RTS',\n",
       " \"Army Men: Sarge's Heroes\",\n",
       " \"Army Men: Sarge's Heroes 2\",\n",
       " \"Army Men: Sarge's War\",\n",
       " 'Army Men: Soldiers of Misfortune',\n",
       " 'Army Rescue',\n",
       " 'Army of Two',\n",
       " 'Army of Two: The 40th Day',\n",
       " \"Army of Two: The Devil's Cartel\",\n",
       " 'Around the World in 80 Days',\n",
       " 'Arslan: The Warriors of Legend',\n",
       " 'Art Academy',\n",
       " 'Art Academy: Home Studio',\n",
       " 'Art Academy: Lessons for Everyone',\n",
       " 'Art of Fighting 3: The Path of the Warrior',\n",
       " 'Art of Fighting Anthology',\n",
       " 'Arthur and the Invisibles',\n",
       " 'Arthur! Ready to Race',\n",
       " 'Arx Fatalis',\n",
       " 'Ashes Cricket 2009',\n",
       " 'Asphalt 3D',\n",
       " 'Asphalt: Injection',\n",
       " 'Asphalt: Urban GT',\n",
       " 'Asphalt: Urban GT 2',\n",
       " \"Assassin's Creed\",\n",
       " \"Assassin's Creed Chronicles\",\n",
       " \"Assassin's Creed Chronicles: China\",\n",
       " \"Assassin's Creed II\",\n",
       " \"Assassin's Creed II: Discovery\",\n",
       " \"Assassin's Creed III\",\n",
       " \"Assassin's Creed III: Liberation\",\n",
       " \"Assassin's Creed IV: Black Flag\",\n",
       " \"Assassin's Creed Syndicate\",\n",
       " \"Assassin's Creed The Ezio Collection\",\n",
       " \"Assassin's Creed: Altair's Chronicles\",\n",
       " \"Assassin's Creed: Bloodlines\",\n",
       " \"Assassin's Creed: Brotherhood\",\n",
       " \"Assassin's Creed: Revelations\",\n",
       " \"Assassin's Creed: Rogue\",\n",
       " \"Assassin's Creed: Unity\",\n",
       " 'Assassination Classroom: Grand Siege on Kuro-sensei',\n",
       " 'Assault',\n",
       " 'Assault Rigs',\n",
       " 'Assault Suit Leynos',\n",
       " 'Assault: Retribution',\n",
       " 'Assetto Corsa',\n",
       " 'Asterix & Obelix: Kick Buttix',\n",
       " 'Asteroids',\n",
       " 'Asteroids Hyper 64',\n",
       " 'Astonishia Story',\n",
       " 'Astro Boy',\n",
       " 'Astro Boy: Omega Factor',\n",
       " 'Astro Boy: The Video Game',\n",
       " 'Astroblast',\n",
       " 'Astrology DS',\n",
       " \"Asura's Wrath\",\n",
       " 'Atari Anniversary Advance',\n",
       " 'Atari Anniversary Edition Redux',\n",
       " 'Atari Anthology',\n",
       " 'Atari Classics Evolved',\n",
       " 'Atari Flashback Classics: Volume 1',\n",
       " 'Atari Flashback Classics: Volume 2',\n",
       " \"Atari's Greatest Hits: Volume 1\",\n",
       " \"Atari's Greatest Hits: Volume 2\",\n",
       " 'Atelier Annie: Alchemists of Sera Island',\n",
       " 'Atelier Ayesha: The Alchemist of Dusk',\n",
       " 'Atelier Escha & Logy: Alchemists of the Dusk Sky',\n",
       " 'Atelier Firis: The Alchemist of the Mysterious Journey',\n",
       " 'Atelier Iris 2: The Azoth Of Destiny',\n",
       " 'Atelier Iris 3: Grand Phantasm (JP Sales)',\n",
       " 'Atelier Iris 3: Grand Phantasm (US Sales)',\n",
       " 'Atelier Iris: Eternal Mana',\n",
       " 'Atelier Meruru: Alchemist of Arland 3',\n",
       " 'Atelier Rorona: Alchemist of Arland',\n",
       " 'Atelier Shallie Plus: Alchemists of the Dusk Sea',\n",
       " 'Atelier Shallie: Alchemists of the Dusk Sea',\n",
       " 'Atelier Sophie: The Alchemist of the Mysterious Book',\n",
       " 'Atelier Totori: The Adventurer of Arland',\n",
       " 'Athens 2004',\n",
       " 'Atlantic Quest',\n",
       " 'Atlantis',\n",
       " 'Atomic Betty',\n",
       " 'Atsumare! Power Pro Kun no DS Koushien',\n",
       " 'Attack of the Movies 3D',\n",
       " 'Attack on Titan (KOEI)',\n",
       " 'Attack on Titan: Humanity in Chains',\n",
       " 'Auto Destruct',\n",
       " 'Auto Modellista',\n",
       " 'Automobili Lamborghini',\n",
       " 'Avalon Code',\n",
       " 'Avatar: The Game',\n",
       " 'Avatar: The Last Airbender',\n",
       " 'Avatar: The Last Airbender - Into the Inferno',\n",
       " 'Avatar: The Last Airbender - The Burning Earth',\n",
       " 'Away: Shuffle Dungeon',\n",
       " 'Azada',\n",
       " 'Azure Dreams',\n",
       " 'Azure Striker Gunvolt',\n",
       " 'Azure Striker Gunvolt: Striker Pack',\n",
       " 'Azurik: Rise of Perathia',\n",
       " \"B's-LOG Party♪\",\n",
       " 'B-17: Fortress in the Sky',\n",
       " 'B-Boy',\n",
       " 'B.L.U.E.: Legend of Water',\n",
       " 'BCFX: The Black College Football Xperience, The Doug Williams Edition',\n",
       " 'BIT.TRIP COMPLETE',\n",
       " 'BIT.TRIP SAGA',\n",
       " 'BMX XXX',\n",
       " 'BRAHMA Force: The Assault on Beltlogger 9',\n",
       " 'Baby Pals',\n",
       " 'Babysitting Mama',\n",
       " 'Babysitting Mania',\n",
       " 'Back At The Barnyard: Slop Bucket Games',\n",
       " 'Back to the Future: The Game',\n",
       " 'Backbreaker',\n",
       " 'Backstreet Billiards',\n",
       " 'Backyard Baseball',\n",
       " \"Backyard Baseball '09\",\n",
       " \"Backyard Baseball '10\",\n",
       " 'Backyard Baseball 2006',\n",
       " 'Backyard Basketball',\n",
       " 'Backyard Hockey',\n",
       " 'Backyard NBA Basketball',\n",
       " 'Backyard NFL Football',\n",
       " \"Backyard NFL Football '08\",\n",
       " \"Backyard NFL Football '09\",\n",
       " \"Backyard NFL Football '10\",\n",
       " 'Backyard NFL Football 2006',\n",
       " 'Backyard Skateboarding 2006',\n",
       " 'Backyard Soccer',\n",
       " 'Backyard Sports Football: Rookie Rush',\n",
       " 'Backyard Sports: Sandlot Sluggers',\n",
       " 'Backyard Wrestling 2: There Goes the Neighborhood',\n",
       " \"Backyard Wrestling: Don't Try This at Home\",\n",
       " 'Bad Apple Wars',\n",
       " 'Bad Boys: Miami Takedown',\n",
       " 'Bae Yong-joon to Manabu Kankokugo DS',\n",
       " 'Bahamut Lagoon',\n",
       " 'Baja: Edge of Control',\n",
       " 'Bakemonogatari Portable',\n",
       " 'Baku Baku',\n",
       " 'Bakugan Battle Brawlers: Defenders of the Core',\n",
       " 'Bakugan: Battle Brawlers',\n",
       " 'Bakugan: Battle Trainer',\n",
       " 'Bakugan: Rise of the Resistance',\n",
       " 'Bakumatsu Koihana: Shinsengumi DS',\n",
       " 'Bakumatsu Renka: Karyuu Kenshi-den',\n",
       " 'Bakumatsu Rock',\n",
       " 'Bakumatsu Rock: Ultra Soul',\n",
       " 'Bakusou Dekotora Densetsu: Otoko Ippiki Yume Kaidoi',\n",
       " \"Bakusou Kyoudai Let's & Go!! Eternal Wings\",\n",
       " \"Baldur's Gate: Dark Alliance\",\n",
       " \"Baldur's Gate: Dark Alliance II\",\n",
       " 'Ball Breakers',\n",
       " 'Ballblazer Champions',\n",
       " 'Ballistic',\n",
       " 'Ballistic: Ecks vs. Sever',\n",
       " 'Balloon Fight',\n",
       " 'Balloon Pop',\n",
       " 'Balloon Pop 2',\n",
       " 'Balls of Fury',\n",
       " 'Band Hero',\n",
       " 'Bangai-O Spirits',\n",
       " 'Banjo-Kazooie',\n",
       " \"Banjo-Kazooie: Grunty's Revenge\",\n",
       " 'Banjo-Kazooie: Nuts & Bolts',\n",
       " 'Banjo-Pilot',\n",
       " 'Banjo-Tooie',\n",
       " 'Bank Heist',\n",
       " \"Banushi Life Game: Winner's Circle\",\n",
       " 'Barbarian',\n",
       " 'Barbie Explorer',\n",
       " 'Barbie Fashion Show: An Eye for Style',\n",
       " 'Barbie Groovy Games',\n",
       " 'Barbie Horse Adventures: Blue Ribbon Race',\n",
       " 'Barbie Horse Adventures: Riding Camp',\n",
       " 'Barbie Horse Adventures: Wild Horse Rescue',\n",
       " 'Barbie Super Sports',\n",
       " 'Barbie Superpack: Secret Agent / Groovy Games',\n",
       " 'Barbie and Her Sisters Puppy Rescue',\n",
       " 'Barbie and the Magic of Pegasus',\n",
       " 'Barbie and the Three Musketeers',\n",
       " 'Barbie as The Island Princess',\n",
       " 'Barbie as the Princess and the Pauper',\n",
       " 'Barbie in The 12 Dancing Princesses',\n",
       " 'Barbie: Groom and Glam Pups',\n",
       " 'Barbie: Jet, Set & Style!',\n",
       " 'Barbie: Race & Ride',\n",
       " 'Barnstorming',\n",
       " 'Barnyard',\n",
       " 'Barnyard Blast: Swine of the Night',\n",
       " 'Baroque',\n",
       " 'Baseball',\n",
       " 'Baseball Advance',\n",
       " 'Baseball Blast!',\n",
       " \"Bases Loaded '96: Double Header\",\n",
       " 'Basketball Hall of Fame Ultimate Hoops Challenge',\n",
       " 'Bass Hunter 64',\n",
       " 'Bass Landing',\n",
       " 'Bass Pro Shops: The Hunt',\n",
       " 'Bass Pro Shops: The Strike',\n",
       " 'Bass Rise',\n",
       " 'Bass Strike',\n",
       " 'Bassmasters 2000',\n",
       " 'Bastard!! Utsuro Naru Kamigami no Utsuwa',\n",
       " 'Baten Kaitos Origins',\n",
       " 'Baten Kaitos: Eternal Wings and the Lost Ocean',\n",
       " 'Batman & Robin',\n",
       " 'Batman Begins',\n",
       " 'Batman Beyond: Return of the Joker',\n",
       " 'Batman Forever: The Arcade Game',\n",
       " 'Batman: A Telltale Game Series',\n",
       " 'Batman: Arkham Asylum',\n",
       " 'Batman: Arkham City',\n",
       " 'Batman: Arkham Knight',\n",
       " 'Batman: Arkham Origins',\n",
       " 'Batman: Arkham Origins Blackgate',\n",
       " 'Batman: Arkham VR',\n",
       " 'Batman: Dark Tomorrow',\n",
       " 'Batman: Gotham City Racer',\n",
       " 'Batman: Return to Arkham',\n",
       " 'Batman: Rise of Sin Tzu',\n",
       " 'Batman: The Brave and the Bold the Videogame',\n",
       " 'Batman: Vengeance',\n",
       " 'Battalion Wars',\n",
       " 'Battalion Wars 2',\n",
       " 'Battle & Get! Pokemon Typing DS',\n",
       " 'Battle Arena Toshinden',\n",
       " 'Battle Arena Toshinden 2',\n",
       " 'Battle Arena Toshinden 3',\n",
       " 'Battle Arena Toshinden Remix',\n",
       " 'Battle Arena Toshinden URA',\n",
       " 'Battle Assault 3 featuring Gundam Seed',\n",
       " 'Battle Commander: Hachibushu Shura no Heihou',\n",
       " 'Battle Dodge Ball',\n",
       " 'Battle Engine Aquila',\n",
       " 'Battle Fantasia',\n",
       " 'Battle Hunter',\n",
       " 'Battle Princess of Arcadias',\n",
       " 'Battle Rage',\n",
       " 'Battle Soccer: Field no Hasha',\n",
       " 'Battle Spirits: Digital Starter',\n",
       " \"Battle Spirits: Hero's Soul\",\n",
       " 'Battle Spirits: Kiseki no Hasha',\n",
       " 'Battle Stadium D.O.N',\n",
       " 'Battle Stations',\n",
       " 'Battle Worlds: Kronos',\n",
       " 'Battle of Giants: Dinosaurs',\n",
       " 'Battle of Giants: Dinosaurs Strike',\n",
       " 'Battle of Giants: Dragons',\n",
       " 'Battle of Giants: Mutant Insects',\n",
       " 'Battle vs. Chess',\n",
       " 'BattleBots: Beyond the BattleBox',\n",
       " 'BattleForge',\n",
       " 'BattleTanx',\n",
       " 'BattleTanx: Global Assault',\n",
       " 'Battleborn',\n",
       " 'Battlebots: Design & Destroy',\n",
       " 'Battlefield 1',\n",
       " 'Battlefield 1942',\n",
       " 'Battlefield 1942: The WW II Anthology',\n",
       " 'Battlefield 2',\n",
       " 'Battlefield 2142',\n",
       " 'Battlefield 2: Modern Combat',\n",
       " 'Battlefield 2: Modern Combat(JP sales)',\n",
       " 'Battlefield 3',\n",
       " 'Battlefield 4',\n",
       " 'Battlefield Vietnam',\n",
       " 'Battlefield: Bad Company',\n",
       " 'Battlefield: Bad Company 2',\n",
       " 'Battlefield: Hardline',\n",
       " 'Battles of Prince of Persia',\n",
       " 'Battleship / Connect Four / Sorry! / Trouble',\n",
       " 'Battlestar Galactica',\n",
       " 'Battlestations: Midway',\n",
       " 'Battlestations: Pacific',\n",
       " 'Battlezone',\n",
       " 'Battlezone: Rise of the Black Dogs',\n",
       " 'Bayonetta',\n",
       " 'Bayonetta 2',\n",
       " 'Beach Spikers: Virtua Beach Volleyball',\n",
       " 'Beamrider',\n",
       " 'Beastly',\n",
       " 'Beastly Frantic Foto',\n",
       " 'Beat City',\n",
       " 'Beat Down: Fists of Vengeance',\n",
       " 'Beat Sketch!',\n",
       " 'BeatMania',\n",
       " 'BeatMania Append 3rdMix',\n",
       " 'BeatMania Append 4thMix: The beat goes on',\n",
       " 'BeatMania Append GottaMix',\n",
       " 'BeatMania IIDX 11: IIDX Red',\n",
       " 'BeatMania IIDX 13: DistorteD',\n",
       " 'BeatMania IIDX 14 Gold',\n",
       " 'BeatMania IIDX 15: DJ Troopers',\n",
       " 'BeatMania IIDX 16: Empress + Premium Best',\n",
       " 'BeatMania IIDX 3rd Style',\n",
       " 'BeatMania IIDX 4th Style: New Songs Collection',\n",
       " 'Beatdown: Fists of Vengeance',\n",
       " 'Beaterator',\n",
       " 'Beautiful Katamari',\n",
       " 'Bee Movie Game',\n",
       " 'Beetle Adventure Racing!',\n",
       " 'Beijing 2008',\n",
       " 'Bejeweled 2 Deluxe',\n",
       " 'Bejeweled 3',\n",
       " 'Bejeweled Blitz',\n",
       " 'Bejeweled Twist',\n",
       " 'Bella Sara',\n",
       " 'Bella Sara 2 - The Magic of Drasilmare',\n",
       " 'Ben 10 Alien Force: Vilgax Attacks',\n",
       " 'Ben 10 Galactic Racing',\n",
       " 'Ben 10 Omniverse 2',\n",
       " 'Ben 10 Triple Pack',\n",
       " 'Ben 10 Ultimate Alien: Cosmic Destruction',\n",
       " 'Ben 10: Alien Force',\n",
       " 'Ben 10: Protector of Earth',\n",
       " \"Bentley's Hackpack\",\n",
       " 'Beowulf: The Game',\n",
       " 'Berserk and the Band of the Hawk',\n",
       " 'Berzerk',\n",
       " 'Best Friends Tonight',\n",
       " 'Best Of Tests',\n",
       " \"Betty Boop's Double Shift\",\n",
       " 'BeyBlade VForce: Super Tournament Battle',\n",
       " 'Beyblade Burst',\n",
       " 'Beyblade Evolution',\n",
       " 'Beyblade G-Revolution',\n",
       " 'Beyblade VForce: Ultimate Blader Jam',\n",
       " 'Beyblade: Metal Fusion',\n",
       " 'Beyblade: Metal Fusion - Battle Fortress',\n",
       " 'Beyblade: Metal Masters',\n",
       " 'Beyond Good & Evil',\n",
       " 'Beyond Oasis',\n",
       " 'Beyond The Beyond',\n",
       " 'Beyond the Labyrinth',\n",
       " 'Beyond: Two Souls',\n",
       " 'Bicycle Casino 2005',\n",
       " 'Big Air',\n",
       " 'Big Air Freestyle',\n",
       " 'Big Bang Mini',\n",
       " 'Big Bass Fishing',\n",
       " 'Big Bass World Championship',\n",
       " 'Big Beach Sports',\n",
       " 'Big Beach Sports 2',\n",
       " 'Big Brain Academy',\n",
       " 'Big Brain Academy: Wii Degree',\n",
       " 'Big Family Games',\n",
       " 'Big Hero 6: Battle in the Bay',\n",
       " 'Big Ichigeki! Pachi-Slot Taikouryku Universal Museum',\n",
       " \"Big Idea's VeggieTales: LarryBoy and the Bad Apple\",\n",
       " 'Big League Sports',\n",
       " 'Big League Sports: Summer',\n",
       " 'Big Mountain 2000',\n",
       " 'Big Mutha Truckers',\n",
       " 'Big Mutha Truckers 2',\n",
       " 'Big Strike Bowling',\n",
       " 'Bigfoot King of Crush',\n",
       " 'Bigfoot: Collision Course',\n",
       " 'Biker Mice From Mars',\n",
       " 'Bikkuriman Daijiten',\n",
       " 'Billy Hatcher and the Giant Egg',\n",
       " 'Billy the Wizard: Rocket Broomstick Racing',\n",
       " \"Billy's Boot Camp: Wii de Enjoy Diet!\",\n",
       " 'Binary Domain',\n",
       " 'Binary Star',\n",
       " 'Bio FREAKS',\n",
       " 'BioShock',\n",
       " 'BioShock 2',\n",
       " 'BioShock Infinite',\n",
       " 'BioShock The Collection',\n",
       " 'Biohazard: Revival Selection',\n",
       " 'Bionic Commando',\n",
       " 'Bionicle',\n",
       " 'Bionicle Heroes',\n",
       " 'Bionicle: Matoran Adventures',\n",
       " 'Birds of Steel',\n",
       " 'Birthday Party Bash',\n",
       " 'Bishoujo Senshi Sailormoon R',\n",
       " 'Bishoujo Senshi Sailormoon S: Juugai Rantou!? Shuyaku Soudatsusen',\n",
       " 'Black',\n",
       " 'Black & Bruised',\n",
       " 'Black & White',\n",
       " 'Black & White 2',\n",
       " 'Black * Rock Shooter: The Game',\n",
       " 'Black Bass with Blue Marlin',\n",
       " 'Black Cat',\n",
       " 'Black Dawn',\n",
       " 'Black Jack vs. Matsudajun',\n",
       " 'Black Mirror 2',\n",
       " 'Black Rose Valkyrie',\n",
       " 'Black Sigil: Blade of the Exiled',\n",
       " 'Black Stone: Magic & Steel',\n",
       " 'Black/Matrix',\n",
       " 'Blacksite: Area 51',\n",
       " 'Blackthorne',\n",
       " 'Blackwater',\n",
       " 'Blade Arcus from Shining EX',\n",
       " 'Blade Dancer: Lineage of Light',\n",
       " 'Blade II',\n",
       " 'Blades of Blood: Samurai Shodown III',\n",
       " 'Blades of Time',\n",
       " 'Bladestorm: Nightmare',\n",
       " \"Bladestorm: The Hundred Years' War\",\n",
       " 'Blast Chamber',\n",
       " 'Blast Corps',\n",
       " 'Blast Lacrosse',\n",
       " 'Blast Radius',\n",
       " 'Blast Works: Build, Trade, Destroy',\n",
       " 'Blaster Master: Blasting Again',\n",
       " 'Blasto',\n",
       " 'BlazBlue Central Fiction',\n",
       " 'BlazBlue: Calamity Trigger',\n",
       " 'BlazBlue: Calamity Trigger Portable',\n",
       " 'BlazBlue: Chrono Phantasma',\n",
       " 'BlazBlue: Chrono Phantasma Extend',\n",
       " 'BlazBlue: Continuum Shift',\n",
       " 'BlazBlue: Continuum Shift II',\n",
       " 'Blazblue: Continuum Shift Extend',\n",
       " 'Blaze Union: Story to Reach the Future',\n",
       " 'Blazer Drive',\n",
       " 'Blazing Angels 2: Secret Missions of WWII',\n",
       " 'Blazing Angels: Squadrons of WWII',\n",
       " 'Blazing Dragons',\n",
       " 'Blazing Heroes',\n",
       " 'Blazing Souls',\n",
       " 'Blazing Souls: Accelate',\n",
       " 'Bleach DS 4th: Flame Bringer',\n",
       " 'Bleach GC: Tasogare Ni Mamieru Shinigami',\n",
       " 'Bleach: Blade Battlers',\n",
       " 'Bleach: Blade Battlers 2nd',\n",
       " 'Bleach: Dark Souls',\n",
       " 'Bleach: Dark Souls (JP sales)',\n",
       " 'Bleach: Erabareshi Tamashii',\n",
       " 'Bleach: Hanatareshi Yabou',\n",
       " 'Bleach: Heat the Soul',\n",
       " 'Bleach: Heat the Soul 3',\n",
       " 'Bleach: Heat the Soul 4',\n",
       " 'Bleach: Heat the Soul 5',\n",
       " 'Bleach: Heat the Soul 6',\n",
       " 'Bleach: Heat the Soul 7',\n",
       " 'Bleach: Shattered Blade',\n",
       " 'Bleach: Soul Carnival',\n",
       " 'Bleach: Soul Carnival 2',\n",
       " 'Bleach: Soul Resurreccion',\n",
       " 'Bleach: The 3rd Phantom',\n",
       " 'Bleach: The Blade of Fate',\n",
       " 'Bleach: Versus Crusade',\n",
       " 'Blender Bros.',\n",
       " 'Blinx 2: Masters of Time & Space',\n",
       " 'Blinx: The Time Sweeper',\n",
       " 'Blitz: Overtime',\n",
       " 'Blitz: The League',\n",
       " 'Blitz: The League II',\n",
       " 'Blitzkrieg 2 Anthology',\n",
       " 'Block Kuzushi',\n",
       " 'Block Party',\n",
       " 'Blokus Portable: Steambot Championship',\n",
       " 'Blood Bowl',\n",
       " 'Blood Bowl: Legendary Edition',\n",
       " 'Blood Drive',\n",
       " 'Blood Omen 2',\n",
       " 'Blood Omen: Legacy of Kain',\n",
       " 'Blood Wake',\n",
       " \"Blood Will Tell: Tezuka Osamu's Dororo\",\n",
       " 'Blood of Bahamut',\n",
       " 'Blood: The Last Vampire (Joukan)',\n",
       " 'BloodRayne',\n",
       " 'BloodRayne 2',\n",
       " 'Bloodborne',\n",
       " 'Bloody Roar',\n",
       " 'Bloody Roar 3',\n",
       " 'Bloody Roar 4',\n",
       " 'Bloody Roar Extreme',\n",
       " 'Bloody Roar II',\n",
       " 'Bloody Roar: Primal Fury',\n",
       " 'BlowOut',\n",
       " 'Blue Breaker: Ken Yorimo Hohoemi o',\n",
       " 'Blue Dragon',\n",
       " 'Blue Dragon Plus',\n",
       " 'Blue Dragon: Awakened Shadow',\n",
       " 'Blue Roses: Yousei to Aoi Hitomi no Senshitachi',\n",
       " 'Blue Stinger',\n",
       " \"Blue's Clues: Blue's Big Musical\",\n",
       " 'Blues Brothers 2000',\n",
       " 'Blur',\n",
       " 'Board Game Classics',\n",
       " 'Board Game: Top Shop',\n",
       " 'Bob the Builder: Can We Fix It?',\n",
       " 'Boboboubo Boubobo: Ougi 87.5 Bakuretsu Hanage Shinken',\n",
       " 'Bode Miller Alpine Skiing',\n",
       " 'Body Harvest',\n",
       " 'Body and Brain Connection',\n",
       " 'Bodycount',\n",
       " 'Bogey: Dead 6',\n",
       " 'Boing! Docomodake DS',\n",
       " 'Boktai 2: Solar Boy Django',\n",
       " 'Boktai: The Sun is in Your Hand',\n",
       " 'Boku no Natsuyasumi',\n",
       " 'Boku no Natsuyasumi 2: Umi no Bouken Hen',\n",
       " 'Boku no Natsuyasumi 3: Hokkoku Hen: Chiisana Boku no Dai Sougen\\u200b',\n",
       " 'Boku no Natsuyasumi 4: Seitouchi Shounen Tanteidan, Boku to Himitsu no Chizu',\n",
       " 'Boku no Natsuyasumi Portable 2: Nazo Nazo Shimai to Chinbotsusen no Himitsu',\n",
       " 'Boku no Natsuyasumi Portable: Mushi Mushi Hakase to Teppen-yama no Himitsu!!',\n",
       " 'Bolt',\n",
       " 'Bombastic',\n",
       " 'Bomberman',\n",
       " 'Bomberman (jp sales)',\n",
       " 'Bomberman 2',\n",
       " 'Bomberman 64',\n",
       " 'Bomberman 64: The Second Attack!',\n",
       " 'Bomberman B-Daman',\n",
       " 'Bomberman Fantasy Race',\n",
       " 'Bomberman Generation',\n",
       " 'Bomberman Hero',\n",
       " 'Bomberman II',\n",
       " 'Bomberman Jetters',\n",
       " 'Bomberman Land',\n",
       " 'Bomberman Land Touch!',\n",
       " 'Bomberman Land Touch! 2',\n",
       " 'Bomberman Max 2: Blue Advance',\n",
       " 'Bomberman Max 2: Red Advance',\n",
       " 'Bomberman Party Edition',\n",
       " 'Bomberman Story DS',\n",
       " 'Bomberman Tournament',\n",
       " 'Bomberman World',\n",
       " 'Bomberman: Act Zero',\n",
       " 'Boogie',\n",
       " 'Boogie SuperStar',\n",
       " 'Book of Spells',\n",
       " 'Bookworm',\n",
       " 'Bookworm Deluxe',\n",
       " 'Boom Blox',\n",
       " ...]"
      ]
     },
     "execution_count": 12,
     "metadata": {},
     "output_type": "execute_result"
    }
   ],
   "source": [
    "#Corrigiendo la columna name\n",
    "gd[\"name\"]= gd[\"name\"].astype(\"str\").str.strip()\n",
    "sorted(gd[\"name\"].unique())"
   ]
  },
  {
   "cell_type": "markdown",
   "metadata": {},
   "source": [
    "**Valores únicos**"
   ]
  },
  {
   "cell_type": "code",
   "execution_count": 13,
   "metadata": {},
   "outputs": [
    {
     "data": {
      "text/plain": [
       "array(['2600', '3DO', '3DS', 'DC', 'DS', 'GB', 'GBA', 'GC', 'GEN', 'GG',\n",
       "       'N64', 'NES', 'NG', 'PC', 'PCFX', 'PS', 'PS2', 'PS3', 'PS4', 'PSP',\n",
       "       'PSV', 'SAT', 'SCD', 'SNES', 'TG16', 'WS', 'Wii', 'WiiU', 'X360',\n",
       "       'XB', 'XOne'], dtype=object)"
      ]
     },
     "execution_count": 13,
     "metadata": {},
     "output_type": "execute_result"
    }
   ],
   "source": [
    "gd[\"platform\"].sort_values().unique()"
   ]
  },
  {
   "cell_type": "code",
   "execution_count": 14,
   "metadata": {},
   "outputs": [
    {
     "data": {
      "text/plain": [
       "array([1980., 1981., 1982., 1983., 1984., 1985., 1986., 1987., 1988.,\n",
       "       1989., 1990., 1991., 1992., 1993., 1994., 1995., 1996., 1997.,\n",
       "       1998., 1999., 2000., 2001., 2002., 2003., 2004., 2005., 2006.,\n",
       "       2007., 2008., 2009., 2010., 2011., 2012., 2013., 2014., 2015.,\n",
       "       2016.,   nan])"
      ]
     },
     "execution_count": 14,
     "metadata": {},
     "output_type": "execute_result"
    }
   ],
   "source": [
    "gd[\"year_of_release\"].sort_values().unique()"
   ]
  },
  {
   "cell_type": "code",
   "execution_count": 15,
   "metadata": {},
   "outputs": [
    {
     "data": {
      "text/plain": [
       "array(['Sports', 'Platform', 'Racing', 'Role-Playing', 'Puzzle', 'Misc',\n",
       "       'Shooter', 'Simulation', 'Action', 'Fighting', 'Adventure',\n",
       "       'Strategy', nan], dtype=object)"
      ]
     },
     "execution_count": 15,
     "metadata": {},
     "output_type": "execute_result"
    }
   ],
   "source": [
    "gd[\"genre\"].unique()"
   ]
  },
  {
   "cell_type": "code",
   "execution_count": 16,
   "metadata": {},
   "outputs": [
    {
     "data": {
      "text/plain": [
       "array([76., nan, 82., 80., 89., 58., 87., 91., 61., 97., 95., 77., 88.,\n",
       "       83., 94., 93., 85., 86., 98., 96., 90., 84., 73., 74., 78., 92.,\n",
       "       71., 72., 68., 62., 49., 67., 81., 66., 56., 79., 70., 59., 64.,\n",
       "       75., 60., 63., 69., 50., 25., 42., 44., 55., 48., 57., 29., 47.,\n",
       "       65., 54., 20., 53., 37., 38., 33., 52., 30., 32., 43., 45., 51.,\n",
       "       40., 46., 39., 34., 35., 41., 36., 28., 31., 27., 26., 19., 23.,\n",
       "       24., 21., 17., 22., 13.])"
      ]
     },
     "execution_count": 16,
     "metadata": {},
     "output_type": "execute_result"
    }
   ],
   "source": [
    "gd[\"critic_score\"].unique()"
   ]
  },
  {
   "cell_type": "code",
   "execution_count": 17,
   "metadata": {},
   "outputs": [
    {
     "data": {
      "text/plain": [
       "array(['8', nan, '8.3', '8.5', '6.6', '8.4', '8.6', '7.7', '6.3', '7.4',\n",
       "       '8.2', '9', '7.9', '8.1', '8.7', '7.1', '3.4', '5.3', '4.8', '3.2',\n",
       "       '8.9', '6.4', '7.8', '7.5', '2.6', '7.2', '9.2', '7', '7.3', '4.3',\n",
       "       '7.6', '5.7', '5', '9.1', '6.5', 'tbd', '8.8', '6.9', '9.4', '6.8',\n",
       "       '6.1', '6.7', '5.4', '4', '4.9', '4.5', '9.3', '6.2', '4.2', '6',\n",
       "       '3.7', '4.1', '5.8', '5.6', '5.5', '4.4', '4.6', '5.9', '3.9',\n",
       "       '3.1', '2.9', '5.2', '3.3', '4.7', '5.1', '3.5', '2.5', '1.9', '3',\n",
       "       '2.7', '2.2', '2', '9.5', '2.1', '3.6', '2.8', '1.8', '3.8', '0',\n",
       "       '1.6', '9.6', '2.4', '1.7', '1.1', '0.3', '1.5', '0.7', '1.2',\n",
       "       '2.3', '0.5', '1.3', '0.2', '0.6', '1.4', '0.9', '1', '9.7'],\n",
       "      dtype=object)"
      ]
     },
     "execution_count": 17,
     "metadata": {},
     "output_type": "execute_result"
    }
   ],
   "source": [
    "gd[\"user_score\"].unique()"
   ]
  },
  {
   "cell_type": "code",
   "execution_count": 18,
   "metadata": {},
   "outputs": [
    {
     "data": {
      "text/plain": [
       "array(['E', nan, 'M', 'T', 'E10+', 'K-A', 'AO', 'EC', 'RP'], dtype=object)"
      ]
     },
     "execution_count": 18,
     "metadata": {},
     "output_type": "execute_result"
    }
   ],
   "source": [
    "gd[\"rating\"].unique()"
   ]
  },
  {
   "cell_type": "code",
   "execution_count": 19,
   "metadata": {},
   "outputs": [],
   "source": [
    "#\n",
    "gd.loc[gd[\"user_score\"] == \"tbd\", \"user_score\"] = float(\"NaN\")"
   ]
  },
  {
   "cell_type": "code",
   "execution_count": 20,
   "metadata": {},
   "outputs": [],
   "source": [
    "gd[\"user_score\"] = gd[\"user_score\"].astype(\"float64\")"
   ]
  },
  {
   "cell_type": "code",
   "execution_count": 21,
   "metadata": {},
   "outputs": [
    {
     "data": {
      "text/plain": [
       "array([8. , nan, 8.3, 8.5, 6.6, 8.4, 8.6, 7.7, 6.3, 7.4, 8.2, 9. , 7.9,\n",
       "       8.1, 8.7, 7.1, 3.4, 5.3, 4.8, 3.2, 8.9, 6.4, 7.8, 7.5, 2.6, 7.2,\n",
       "       9.2, 7. , 7.3, 4.3, 7.6, 5.7, 5. , 9.1, 6.5, 8.8, 6.9, 9.4, 6.8,\n",
       "       6.1, 6.7, 5.4, 4. , 4.9, 4.5, 9.3, 6.2, 4.2, 6. , 3.7, 4.1, 5.8,\n",
       "       5.6, 5.5, 4.4, 4.6, 5.9, 3.9, 3.1, 2.9, 5.2, 3.3, 4.7, 5.1, 3.5,\n",
       "       2.5, 1.9, 3. , 2.7, 2.2, 2. , 9.5, 2.1, 3.6, 2.8, 1.8, 3.8, 0. ,\n",
       "       1.6, 9.6, 2.4, 1.7, 1.1, 0.3, 1.5, 0.7, 1.2, 2.3, 0.5, 1.3, 0.2,\n",
       "       0.6, 1.4, 0.9, 1. , 9.7])"
      ]
     },
     "execution_count": 21,
     "metadata": {},
     "output_type": "execute_result"
    }
   ],
   "source": [
    "gd[\"user_score\"].unique()"
   ]
  },
  {
   "cell_type": "code",
   "execution_count": 22,
   "metadata": {},
   "outputs": [
    {
     "data": {
      "text/html": [
       "<div>\n",
       "<style scoped>\n",
       "    .dataframe tbody tr th:only-of-type {\n",
       "        vertical-align: middle;\n",
       "    }\n",
       "\n",
       "    .dataframe tbody tr th {\n",
       "        vertical-align: top;\n",
       "    }\n",
       "\n",
       "    .dataframe thead th {\n",
       "        text-align: right;\n",
       "    }\n",
       "</style>\n",
       "<table border=\"1\" class=\"dataframe\">\n",
       "  <thead>\n",
       "    <tr style=\"text-align: right;\">\n",
       "      <th></th>\n",
       "      <th>name</th>\n",
       "      <th>platform</th>\n",
       "      <th>year_of_release</th>\n",
       "      <th>genre</th>\n",
       "      <th>na_sales</th>\n",
       "      <th>eu_sales</th>\n",
       "      <th>jp_sales</th>\n",
       "      <th>other_sales</th>\n",
       "      <th>critic_score</th>\n",
       "      <th>user_score</th>\n",
       "      <th>rating</th>\n",
       "      <th>total_sales</th>\n",
       "    </tr>\n",
       "  </thead>\n",
       "  <tbody>\n",
       "    <tr>\n",
       "      <th>0</th>\n",
       "      <td>Wii Sports</td>\n",
       "      <td>Wii</td>\n",
       "      <td>2006.0</td>\n",
       "      <td>Sports</td>\n",
       "      <td>41.36</td>\n",
       "      <td>28.96</td>\n",
       "      <td>3.77</td>\n",
       "      <td>8.45</td>\n",
       "      <td>76.0</td>\n",
       "      <td>8.0</td>\n",
       "      <td>E</td>\n",
       "      <td>82.54</td>\n",
       "    </tr>\n",
       "    <tr>\n",
       "      <th>1</th>\n",
       "      <td>Super Mario Bros.</td>\n",
       "      <td>NES</td>\n",
       "      <td>1985.0</td>\n",
       "      <td>Platform</td>\n",
       "      <td>29.08</td>\n",
       "      <td>3.58</td>\n",
       "      <td>6.81</td>\n",
       "      <td>0.77</td>\n",
       "      <td>NaN</td>\n",
       "      <td>NaN</td>\n",
       "      <td>NaN</td>\n",
       "      <td>40.24</td>\n",
       "    </tr>\n",
       "    <tr>\n",
       "      <th>2</th>\n",
       "      <td>Mario Kart Wii</td>\n",
       "      <td>Wii</td>\n",
       "      <td>2008.0</td>\n",
       "      <td>Racing</td>\n",
       "      <td>15.68</td>\n",
       "      <td>12.76</td>\n",
       "      <td>3.79</td>\n",
       "      <td>3.29</td>\n",
       "      <td>82.0</td>\n",
       "      <td>8.3</td>\n",
       "      <td>E</td>\n",
       "      <td>35.52</td>\n",
       "    </tr>\n",
       "    <tr>\n",
       "      <th>3</th>\n",
       "      <td>Wii Sports Resort</td>\n",
       "      <td>Wii</td>\n",
       "      <td>2009.0</td>\n",
       "      <td>Sports</td>\n",
       "      <td>15.61</td>\n",
       "      <td>10.93</td>\n",
       "      <td>3.28</td>\n",
       "      <td>2.95</td>\n",
       "      <td>80.0</td>\n",
       "      <td>8.0</td>\n",
       "      <td>E</td>\n",
       "      <td>32.77</td>\n",
       "    </tr>\n",
       "    <tr>\n",
       "      <th>4</th>\n",
       "      <td>Pokemon Red/Pokemon Blue</td>\n",
       "      <td>GB</td>\n",
       "      <td>1996.0</td>\n",
       "      <td>Role-Playing</td>\n",
       "      <td>11.27</td>\n",
       "      <td>8.89</td>\n",
       "      <td>10.22</td>\n",
       "      <td>1.00</td>\n",
       "      <td>NaN</td>\n",
       "      <td>NaN</td>\n",
       "      <td>NaN</td>\n",
       "      <td>31.38</td>\n",
       "    </tr>\n",
       "  </tbody>\n",
       "</table>\n",
       "</div>"
      ],
      "text/plain": [
       "                       name platform  year_of_release         genre  na_sales  \\\n",
       "0                Wii Sports      Wii           2006.0        Sports     41.36   \n",
       "1         Super Mario Bros.      NES           1985.0      Platform     29.08   \n",
       "2            Mario Kart Wii      Wii           2008.0        Racing     15.68   \n",
       "3         Wii Sports Resort      Wii           2009.0        Sports     15.61   \n",
       "4  Pokemon Red/Pokemon Blue       GB           1996.0  Role-Playing     11.27   \n",
       "\n",
       "   eu_sales  jp_sales  other_sales  critic_score  user_score rating  \\\n",
       "0     28.96      3.77         8.45          76.0         8.0      E   \n",
       "1      3.58      6.81         0.77           NaN         NaN    NaN   \n",
       "2     12.76      3.79         3.29          82.0         8.3      E   \n",
       "3     10.93      3.28         2.95          80.0         8.0      E   \n",
       "4      8.89     10.22         1.00           NaN         NaN    NaN   \n",
       "\n",
       "   total_sales  \n",
       "0        82.54  \n",
       "1        40.24  \n",
       "2        35.52  \n",
       "3        32.77  \n",
       "4        31.38  "
      ]
     },
     "execution_count": 22,
     "metadata": {},
     "output_type": "execute_result"
    }
   ],
   "source": [
    "#Calculando las ventas totales\n",
    "gd[\"total_sales\"] = gd[\"na_sales\"] + gd[\"eu_sales\"] + gd[\"jp_sales\"] + gd[\"other_sales\"]\n",
    "gd.head()"
   ]
  },
  {
   "cell_type": "markdown",
   "metadata": {},
   "source": [
    "[Volver a Contenidos](#back)"
   ]
  },
  {
   "cell_type": "markdown",
   "metadata": {},
   "source": [
    "## Tratar los valores ausentes <a id='tratar_los_valores_ausentes'></a>"
   ]
  },
  {
   "cell_type": "markdown",
   "metadata": {},
   "source": [
    "### Preprocesamiento de datos"
   ]
  },
  {
   "cell_type": "code",
   "execution_count": 23,
   "metadata": {},
   "outputs": [
    {
     "data": {
      "text/plain": [
       "user_score         0.545917\n",
       "critic_score       0.513192\n",
       "rating             0.404786\n",
       "year_of_release    0.016093\n",
       "genre              0.000120\n",
       "name               0.000000\n",
       "platform           0.000000\n",
       "na_sales           0.000000\n",
       "eu_sales           0.000000\n",
       "jp_sales           0.000000\n",
       "other_sales        0.000000\n",
       "total_sales        0.000000\n",
       "dtype: float64"
      ]
     },
     "execution_count": 23,
     "metadata": {},
     "output_type": "execute_result"
    }
   ],
   "source": [
    "#Calculando el % de valores ausentes por columna\n",
    "gd.isna().sum().sort_values(ascending=False) / 16715"
   ]
  },
  {
   "cell_type": "code",
   "execution_count": 24,
   "metadata": {},
   "outputs": [
    {
     "data": {
      "text/html": [
       "<div>\n",
       "<style scoped>\n",
       "    .dataframe tbody tr th:only-of-type {\n",
       "        vertical-align: middle;\n",
       "    }\n",
       "\n",
       "    .dataframe tbody tr th {\n",
       "        vertical-align: top;\n",
       "    }\n",
       "\n",
       "    .dataframe thead th {\n",
       "        text-align: right;\n",
       "    }\n",
       "</style>\n",
       "<table border=\"1\" class=\"dataframe\">\n",
       "  <thead>\n",
       "    <tr style=\"text-align: right;\">\n",
       "      <th></th>\n",
       "      <th>name</th>\n",
       "      <th>platform</th>\n",
       "      <th>year_of_release</th>\n",
       "      <th>genre</th>\n",
       "      <th>na_sales</th>\n",
       "      <th>eu_sales</th>\n",
       "      <th>jp_sales</th>\n",
       "      <th>other_sales</th>\n",
       "      <th>critic_score</th>\n",
       "      <th>user_score</th>\n",
       "      <th>rating</th>\n",
       "      <th>total_sales</th>\n",
       "    </tr>\n",
       "  </thead>\n",
       "  <tbody>\n",
       "    <tr>\n",
       "      <th>0</th>\n",
       "      <td>Wii Sports</td>\n",
       "      <td>Wii</td>\n",
       "      <td>2006.0</td>\n",
       "      <td>Sports</td>\n",
       "      <td>41.36</td>\n",
       "      <td>28.96</td>\n",
       "      <td>3.77</td>\n",
       "      <td>8.45</td>\n",
       "      <td>76.0</td>\n",
       "      <td>8.0</td>\n",
       "      <td>E</td>\n",
       "      <td>82.54</td>\n",
       "    </tr>\n",
       "    <tr>\n",
       "      <th>2</th>\n",
       "      <td>Mario Kart Wii</td>\n",
       "      <td>Wii</td>\n",
       "      <td>2008.0</td>\n",
       "      <td>Racing</td>\n",
       "      <td>15.68</td>\n",
       "      <td>12.76</td>\n",
       "      <td>3.79</td>\n",
       "      <td>3.29</td>\n",
       "      <td>82.0</td>\n",
       "      <td>8.3</td>\n",
       "      <td>E</td>\n",
       "      <td>35.52</td>\n",
       "    </tr>\n",
       "    <tr>\n",
       "      <th>3</th>\n",
       "      <td>Wii Sports Resort</td>\n",
       "      <td>Wii</td>\n",
       "      <td>2009.0</td>\n",
       "      <td>Sports</td>\n",
       "      <td>15.61</td>\n",
       "      <td>10.93</td>\n",
       "      <td>3.28</td>\n",
       "      <td>2.95</td>\n",
       "      <td>80.0</td>\n",
       "      <td>8.0</td>\n",
       "      <td>E</td>\n",
       "      <td>32.77</td>\n",
       "    </tr>\n",
       "    <tr>\n",
       "      <th>6</th>\n",
       "      <td>New Super Mario Bros.</td>\n",
       "      <td>DS</td>\n",
       "      <td>2006.0</td>\n",
       "      <td>Platform</td>\n",
       "      <td>11.28</td>\n",
       "      <td>9.14</td>\n",
       "      <td>6.50</td>\n",
       "      <td>2.88</td>\n",
       "      <td>89.0</td>\n",
       "      <td>8.5</td>\n",
       "      <td>E</td>\n",
       "      <td>29.80</td>\n",
       "    </tr>\n",
       "    <tr>\n",
       "      <th>7</th>\n",
       "      <td>Wii Play</td>\n",
       "      <td>Wii</td>\n",
       "      <td>2006.0</td>\n",
       "      <td>Misc</td>\n",
       "      <td>13.96</td>\n",
       "      <td>9.18</td>\n",
       "      <td>2.93</td>\n",
       "      <td>2.84</td>\n",
       "      <td>58.0</td>\n",
       "      <td>6.6</td>\n",
       "      <td>E</td>\n",
       "      <td>28.91</td>\n",
       "    </tr>\n",
       "  </tbody>\n",
       "</table>\n",
       "</div>"
      ],
      "text/plain": [
       "                    name platform  year_of_release     genre  na_sales  \\\n",
       "0             Wii Sports      Wii           2006.0    Sports     41.36   \n",
       "2         Mario Kart Wii      Wii           2008.0    Racing     15.68   \n",
       "3      Wii Sports Resort      Wii           2009.0    Sports     15.61   \n",
       "6  New Super Mario Bros.       DS           2006.0  Platform     11.28   \n",
       "7               Wii Play      Wii           2006.0      Misc     13.96   \n",
       "\n",
       "   eu_sales  jp_sales  other_sales  critic_score  user_score rating  \\\n",
       "0     28.96      3.77         8.45          76.0         8.0      E   \n",
       "2     12.76      3.79         3.29          82.0         8.3      E   \n",
       "3     10.93      3.28         2.95          80.0         8.0      E   \n",
       "6      9.14      6.50         2.88          89.0         8.5      E   \n",
       "7      9.18      2.93         2.84          58.0         6.6      E   \n",
       "\n",
       "   total_sales  \n",
       "0        82.54  \n",
       "2        35.52  \n",
       "3        32.77  \n",
       "6        29.80  \n",
       "7        28.91  "
      ]
     },
     "execution_count": 24,
     "metadata": {},
     "output_type": "execute_result"
    }
   ],
   "source": [
    "#DataFrame sin valores ausentes\n",
    "gd_notnan = gd.dropna()\n",
    "gd_notnan.head()"
   ]
  },
  {
   "cell_type": "code",
   "execution_count": 25,
   "metadata": {},
   "outputs": [
    {
     "name": "stdout",
     "output_type": "stream",
     "text": [
      "<class 'pandas.core.frame.DataFrame'>\n",
      "Int64Index: 6826 entries, 0 to 16702\n",
      "Data columns (total 12 columns):\n",
      " #   Column           Non-Null Count  Dtype  \n",
      "---  ------           --------------  -----  \n",
      " 0   name             6826 non-null   object \n",
      " 1   platform         6826 non-null   object \n",
      " 2   year_of_release  6826 non-null   float64\n",
      " 3   genre            6826 non-null   object \n",
      " 4   na_sales         6826 non-null   float64\n",
      " 5   eu_sales         6826 non-null   float64\n",
      " 6   jp_sales         6826 non-null   float64\n",
      " 7   other_sales      6826 non-null   float64\n",
      " 8   critic_score     6826 non-null   float64\n",
      " 9   user_score       6826 non-null   float64\n",
      " 10  rating           6826 non-null   object \n",
      " 11  total_sales      6826 non-null   float64\n",
      "dtypes: float64(8), object(4)\n",
      "memory usage: 693.3+ KB\n"
     ]
    }
   ],
   "source": [
    "gd_notnan.info()"
   ]
  },
  {
   "cell_type": "code",
   "execution_count": 26,
   "metadata": {},
   "outputs": [
    {
     "data": {
      "text/plain": [
       "array([8. , 8.3, 8.5, 6.6, 8.4, 8.6, 7.7, 6.3, 7.4, 8.2, 9. , 7.9, 8.1,\n",
       "       8.7, 7.1, 3.4, 5.3, 4.8, 3.2, 8.9, 6.4, 7.8, 7.5, 2.6, 7.2, 9.2,\n",
       "       7. , 7.3, 4.3, 7.6, 5.7, 5. , 9.1, 6.5, 8.8, 6.9, 9.4, 6.8, 6.1,\n",
       "       6.7, 5.4, 4. , 9.3, 6.2, 4.2, 6. , 4.9, 3.7, 4.1, 5.8, 5.6, 5.5,\n",
       "       4.4, 4.6, 5.9, 3.9, 3.1, 2.9, 5.2, 3.3, 4.5, 5.1, 3.5, 2.5, 1.9,\n",
       "       2.2, 2. , 9.5, 4.7, 2.1, 3.6, 1.8, 3.8, 3. , 9.6, 2.8, 1.7, 2.7,\n",
       "       2.4, 1.5, 1.2, 2.3, 0.5, 0.6, 0.9, 1. , 1.4, 1.3, 0.7])"
      ]
     },
     "execution_count": 26,
     "metadata": {},
     "output_type": "execute_result"
    }
   ],
   "source": [
    "gd_notnan[\"user_score\"].unique()"
   ]
  },
  {
   "cell_type": "code",
   "execution_count": 27,
   "metadata": {},
   "outputs": [],
   "source": [
    "gd_notnan[\"user_score\"] = gd_notnan[\"user_score\"].astype(\"float64\")"
   ]
  },
  {
   "cell_type": "code",
   "execution_count": 28,
   "metadata": {},
   "outputs": [
    {
     "data": {
      "text/plain": [
       "0        8.0\n",
       "2        8.3\n",
       "3        8.0\n",
       "6        8.5\n",
       "7        6.6\n",
       "        ... \n",
       "16663    2.4\n",
       "16673    8.8\n",
       "16692    7.6\n",
       "16696    5.8\n",
       "16702    7.2\n",
       "Name: user_score, Length: 6826, dtype: float64"
      ]
     },
     "execution_count": 28,
     "metadata": {},
     "output_type": "execute_result"
    }
   ],
   "source": [
    "gd_notnan[\"user_score\"]"
   ]
  },
  {
   "cell_type": "code",
   "execution_count": 29,
   "metadata": {},
   "outputs": [
    {
     "name": "stdout",
     "output_type": "stream",
     "text": [
      "T       0.348374\n",
      "E       0.305010\n",
      "M       0.209933\n",
      "E10+    0.136244\n",
      "AO      0.000146\n",
      "K-A     0.000146\n",
      "RP      0.000146\n",
      "Name: rating, dtype: float64\n",
      "E       0.401045\n",
      "T       0.297618\n",
      "M       0.157101\n",
      "E10+    0.142728\n",
      "EC      0.000804\n",
      "K-A     0.000302\n",
      "RP      0.000302\n",
      "AO      0.000101\n",
      "Name: rating, dtype: float64\n"
     ]
    }
   ],
   "source": [
    "#Comparando columna rating con valores ausentes vs no valores ausentes\n",
    "print(gd_notnan[\"rating\"].value_counts(normalize=True))\n",
    "print(gd[\"rating\"].value_counts(normalize=True))"
   ]
  },
  {
   "cell_type": "code",
   "execution_count": 30,
   "metadata": {},
   "outputs": [
    {
     "name": "stdout",
     "output_type": "stream",
     "text": [
      "2008.0    0.086727\n",
      "2007.0    0.086434\n",
      "2005.0    0.082332\n",
      "2009.0    0.080574\n",
      "2006.0    0.077351\n",
      "2003.0    0.072956\n",
      "2004.0    0.069733\n",
      "2002.0    0.066657\n",
      "2011.0    0.066510\n",
      "2010.0    0.062848\n",
      "2012.0    0.045854\n",
      "2013.0    0.038969\n",
      "2001.0    0.037504\n",
      "2014.0    0.037064\n",
      "2016.0    0.031058\n",
      "2015.0    0.030911\n",
      "2000.0    0.014943\n",
      "1999.0    0.004395\n",
      "1998.0    0.003662\n",
      "1997.0    0.001904\n",
      "1996.0    0.001025\n",
      "1988.0    0.000146\n",
      "1992.0    0.000146\n",
      "1994.0    0.000146\n",
      "1985.0    0.000146\n",
      "Name: year_of_release, dtype: float64\n",
      "2008.0    0.086769\n",
      "2009.0    0.086708\n",
      "2010.0    0.076310\n",
      "2007.0    0.072784\n",
      "2011.0    0.069075\n",
      "2006.0    0.061170\n",
      "2005.0    0.057096\n",
      "2002.0    0.050407\n",
      "2003.0    0.047124\n",
      "2004.0    0.046333\n",
      "2012.0    0.039706\n",
      "2015.0    0.036848\n",
      "2014.0    0.035328\n",
      "2013.0    0.033078\n",
      "2016.0    0.030524\n",
      "2001.0    0.029308\n",
      "1998.0    0.023045\n",
      "2000.0    0.021282\n",
      "1999.0    0.020552\n",
      "1997.0    0.017573\n",
      "1996.0    0.015992\n",
      "1995.0    0.013316\n",
      "1994.0    0.007357\n",
      "1993.0    0.003770\n",
      "1981.0    0.002797\n",
      "1992.0    0.002615\n",
      "1991.0    0.002493\n",
      "1982.0    0.002189\n",
      "1986.0    0.001277\n",
      "1989.0    0.001034\n",
      "1983.0    0.001034\n",
      "1987.0    0.000973\n",
      "1990.0    0.000973\n",
      "1988.0    0.000912\n",
      "1984.0    0.000851\n",
      "1985.0    0.000851\n",
      "1980.0    0.000547\n",
      "Name: year_of_release, dtype: float64\n"
     ]
    }
   ],
   "source": [
    "#Comparando columna year_of_release con valores ausentes vs no valores ausentes\n",
    "print(gd_notnan[\"year_of_release\"].value_counts(normalize=True))\n",
    "print(gd[\"year_of_release\"].value_counts(normalize=True))"
   ]
  },
  {
   "cell_type": "code",
   "execution_count": 31,
   "metadata": {},
   "outputs": [
    {
     "name": "stdout",
     "output_type": "stream",
     "text": [
      "Action          0.238793\n",
      "Sports          0.138148\n",
      "Shooter         0.126575\n",
      "Role-Playing    0.104307\n",
      "Racing          0.085116\n",
      "Platform        0.059039\n",
      "Misc            0.056255\n",
      "Fighting        0.055377\n",
      "Simulation      0.043510\n",
      "Strategy        0.039262\n",
      "Adventure       0.036332\n",
      "Puzzle          0.017287\n",
      "Name: genre, dtype: float64\n",
      "Action          0.201580\n",
      "Sports          0.140489\n",
      "Misc            0.104709\n",
      "Role-Playing    0.089631\n",
      "Shooter         0.079160\n",
      "Adventure       0.077963\n",
      "Racing          0.074732\n",
      "Platform        0.053132\n",
      "Simulation      0.052235\n",
      "Fighting        0.050799\n",
      "Strategy        0.040866\n",
      "Puzzle          0.034704\n",
      "Name: genre, dtype: float64\n"
     ]
    }
   ],
   "source": [
    "#Comparando columna genre con valores ausentes vs no valores ausentes\n",
    "print(gd_notnan[\"genre\"].value_counts(normalize=True))\n",
    "print(gd[\"genre\"].value_counts(normalize=True))"
   ]
  },
  {
   "cell_type": "code",
   "execution_count": 32,
   "metadata": {},
   "outputs": [
    {
     "data": {
      "text/html": [
       "<div>\n",
       "<style scoped>\n",
       "    .dataframe tbody tr th:only-of-type {\n",
       "        vertical-align: middle;\n",
       "    }\n",
       "\n",
       "    .dataframe tbody tr th {\n",
       "        vertical-align: top;\n",
       "    }\n",
       "\n",
       "    .dataframe thead th {\n",
       "        text-align: right;\n",
       "    }\n",
       "</style>\n",
       "<table border=\"1\" class=\"dataframe\">\n",
       "  <thead>\n",
       "    <tr style=\"text-align: right;\">\n",
       "      <th></th>\n",
       "      <th>year_of_release</th>\n",
       "      <th>na_sales</th>\n",
       "      <th>eu_sales</th>\n",
       "      <th>jp_sales</th>\n",
       "      <th>other_sales</th>\n",
       "      <th>critic_score</th>\n",
       "      <th>user_score</th>\n",
       "      <th>total_sales</th>\n",
       "    </tr>\n",
       "  </thead>\n",
       "  <tbody>\n",
       "    <tr>\n",
       "      <th>count</th>\n",
       "      <td>6826.000000</td>\n",
       "      <td>6826.000000</td>\n",
       "      <td>6826.000000</td>\n",
       "      <td>6826.000000</td>\n",
       "      <td>6826.000000</td>\n",
       "      <td>6826.000000</td>\n",
       "      <td>6826.000000</td>\n",
       "      <td>6826.000000</td>\n",
       "    </tr>\n",
       "    <tr>\n",
       "      <th>mean</th>\n",
       "      <td>2007.437299</td>\n",
       "      <td>0.394435</td>\n",
       "      <td>0.236069</td>\n",
       "      <td>0.064149</td>\n",
       "      <td>0.082665</td>\n",
       "      <td>70.268679</td>\n",
       "      <td>7.185013</td>\n",
       "      <td>0.777318</td>\n",
       "    </tr>\n",
       "    <tr>\n",
       "      <th>std</th>\n",
       "      <td>4.211160</td>\n",
       "      <td>0.967323</td>\n",
       "      <td>0.687282</td>\n",
       "      <td>0.287550</td>\n",
       "      <td>0.269853</td>\n",
       "      <td>13.870417</td>\n",
       "      <td>1.440727</td>\n",
       "      <td>1.963539</td>\n",
       "    </tr>\n",
       "    <tr>\n",
       "      <th>min</th>\n",
       "      <td>1985.000000</td>\n",
       "      <td>0.000000</td>\n",
       "      <td>0.000000</td>\n",
       "      <td>0.000000</td>\n",
       "      <td>0.000000</td>\n",
       "      <td>13.000000</td>\n",
       "      <td>0.500000</td>\n",
       "      <td>0.010000</td>\n",
       "    </tr>\n",
       "    <tr>\n",
       "      <th>25%</th>\n",
       "      <td>2004.000000</td>\n",
       "      <td>0.060000</td>\n",
       "      <td>0.020000</td>\n",
       "      <td>0.000000</td>\n",
       "      <td>0.010000</td>\n",
       "      <td>62.000000</td>\n",
       "      <td>6.500000</td>\n",
       "      <td>0.110000</td>\n",
       "    </tr>\n",
       "    <tr>\n",
       "      <th>50%</th>\n",
       "      <td>2007.000000</td>\n",
       "      <td>0.150000</td>\n",
       "      <td>0.060000</td>\n",
       "      <td>0.000000</td>\n",
       "      <td>0.020000</td>\n",
       "      <td>72.000000</td>\n",
       "      <td>7.500000</td>\n",
       "      <td>0.290000</td>\n",
       "    </tr>\n",
       "    <tr>\n",
       "      <th>75%</th>\n",
       "      <td>2011.000000</td>\n",
       "      <td>0.390000</td>\n",
       "      <td>0.210000</td>\n",
       "      <td>0.010000</td>\n",
       "      <td>0.070000</td>\n",
       "      <td>80.000000</td>\n",
       "      <td>8.200000</td>\n",
       "      <td>0.750000</td>\n",
       "    </tr>\n",
       "    <tr>\n",
       "      <th>95%</th>\n",
       "      <td>2015.000000</td>\n",
       "      <td>1.520000</td>\n",
       "      <td>0.987500</td>\n",
       "      <td>0.300000</td>\n",
       "      <td>0.310000</td>\n",
       "      <td>89.000000</td>\n",
       "      <td>8.900000</td>\n",
       "      <td>2.897500</td>\n",
       "    </tr>\n",
       "    <tr>\n",
       "      <th>99%</th>\n",
       "      <td>2016.000000</td>\n",
       "      <td>3.555000</td>\n",
       "      <td>2.515000</td>\n",
       "      <td>1.110000</td>\n",
       "      <td>0.950000</td>\n",
       "      <td>94.000000</td>\n",
       "      <td>9.200000</td>\n",
       "      <td>7.177500</td>\n",
       "    </tr>\n",
       "    <tr>\n",
       "      <th>max</th>\n",
       "      <td>2016.000000</td>\n",
       "      <td>41.360000</td>\n",
       "      <td>28.960000</td>\n",
       "      <td>6.500000</td>\n",
       "      <td>10.570000</td>\n",
       "      <td>98.000000</td>\n",
       "      <td>9.600000</td>\n",
       "      <td>82.540000</td>\n",
       "    </tr>\n",
       "  </tbody>\n",
       "</table>\n",
       "</div>"
      ],
      "text/plain": [
       "       year_of_release     na_sales     eu_sales     jp_sales  other_sales  \\\n",
       "count      6826.000000  6826.000000  6826.000000  6826.000000  6826.000000   \n",
       "mean       2007.437299     0.394435     0.236069     0.064149     0.082665   \n",
       "std           4.211160     0.967323     0.687282     0.287550     0.269853   \n",
       "min        1985.000000     0.000000     0.000000     0.000000     0.000000   \n",
       "25%        2004.000000     0.060000     0.020000     0.000000     0.010000   \n",
       "50%        2007.000000     0.150000     0.060000     0.000000     0.020000   \n",
       "75%        2011.000000     0.390000     0.210000     0.010000     0.070000   \n",
       "95%        2015.000000     1.520000     0.987500     0.300000     0.310000   \n",
       "99%        2016.000000     3.555000     2.515000     1.110000     0.950000   \n",
       "max        2016.000000    41.360000    28.960000     6.500000    10.570000   \n",
       "\n",
       "       critic_score   user_score  total_sales  \n",
       "count   6826.000000  6826.000000  6826.000000  \n",
       "mean      70.268679     7.185013     0.777318  \n",
       "std       13.870417     1.440727     1.963539  \n",
       "min       13.000000     0.500000     0.010000  \n",
       "25%       62.000000     6.500000     0.110000  \n",
       "50%       72.000000     7.500000     0.290000  \n",
       "75%       80.000000     8.200000     0.750000  \n",
       "95%       89.000000     8.900000     2.897500  \n",
       "99%       94.000000     9.200000     7.177500  \n",
       "max       98.000000     9.600000    82.540000  "
      ]
     },
     "execution_count": 32,
     "metadata": {},
     "output_type": "execute_result"
    }
   ],
   "source": [
    "#Descripción del DataFrame sin valores ausentes\n",
    "gd_notnan.describe(percentiles=[0.25, 0.5, 0.75, 0.95, 0.99])"
   ]
  },
  {
   "cell_type": "code",
   "execution_count": 33,
   "metadata": {},
   "outputs": [
    {
     "data": {
      "text/plain": [
       "0.0"
      ]
     },
     "execution_count": 33,
     "metadata": {},
     "output_type": "execute_result"
    }
   ],
   "source": [
    "gd[\"total_sales\"].min()"
   ]
  },
  {
   "cell_type": "code",
   "execution_count": 34,
   "metadata": {},
   "outputs": [
    {
     "data": {
      "text/plain": [
       "82.53999999999999"
      ]
     },
     "execution_count": 34,
     "metadata": {},
     "output_type": "execute_result"
    }
   ],
   "source": [
    "gd[\"total_sales\"].max()"
   ]
  },
  {
   "cell_type": "code",
   "execution_count": 35,
   "metadata": {},
   "outputs": [
    {
     "data": {
      "text/plain": [
       "0        8.0\n",
       "2        8.3\n",
       "3        8.0\n",
       "6        8.5\n",
       "7        6.6\n",
       "        ... \n",
       "16663    2.4\n",
       "16673    8.8\n",
       "16692    7.6\n",
       "16696    5.8\n",
       "16702    7.2\n",
       "Name: user_score, Length: 6826, dtype: float64"
      ]
     },
     "execution_count": 35,
     "metadata": {},
     "output_type": "execute_result"
    }
   ],
   "source": [
    "gd_notnan[\"user_score\"]"
   ]
  },
  {
   "cell_type": "markdown",
   "metadata": {},
   "source": [
    "**Conclusión intermedia**\n",
    "\n",
    "La columna \"user_score\", \"critic_score\" y \"rating\" tienen los valores ausentes ás altos del DataFrame, con un 55%, 51% y 40% aprox. respectivamente. Las columnas \"genre\" y \"name\" al tener un bajo porcentaje de ausencia, se eliminarán las dos filas que continen valores ausentes para cada columna.\n",
    "\n",
    "Se creo el DataFrame gd_notnan, el cúal utilizaremos para apoyarnos al restaurar los valores de las columnas antes mencionadas, según corresponda."
   ]
  },
  {
   "cell_type": "markdown",
   "metadata": {},
   "source": [
    "### Restaurar valores ausentes en `Genre`"
   ]
  },
  {
   "cell_type": "code",
   "execution_count": 36,
   "metadata": {},
   "outputs": [
    {
     "data": {
      "text/html": [
       "<div>\n",
       "<style scoped>\n",
       "    .dataframe tbody tr th:only-of-type {\n",
       "        vertical-align: middle;\n",
       "    }\n",
       "\n",
       "    .dataframe tbody tr th {\n",
       "        vertical-align: top;\n",
       "    }\n",
       "\n",
       "    .dataframe thead th {\n",
       "        text-align: right;\n",
       "    }\n",
       "</style>\n",
       "<table border=\"1\" class=\"dataframe\">\n",
       "  <thead>\n",
       "    <tr style=\"text-align: right;\">\n",
       "      <th></th>\n",
       "      <th>name</th>\n",
       "      <th>platform</th>\n",
       "      <th>year_of_release</th>\n",
       "      <th>genre</th>\n",
       "      <th>na_sales</th>\n",
       "      <th>eu_sales</th>\n",
       "      <th>jp_sales</th>\n",
       "      <th>other_sales</th>\n",
       "      <th>critic_score</th>\n",
       "      <th>user_score</th>\n",
       "      <th>rating</th>\n",
       "      <th>total_sales</th>\n",
       "    </tr>\n",
       "  </thead>\n",
       "  <tbody>\n",
       "    <tr>\n",
       "      <th>659</th>\n",
       "      <td>nan</td>\n",
       "      <td>GEN</td>\n",
       "      <td>1993.0</td>\n",
       "      <td>NaN</td>\n",
       "      <td>1.78</td>\n",
       "      <td>0.53</td>\n",
       "      <td>0.00</td>\n",
       "      <td>0.08</td>\n",
       "      <td>NaN</td>\n",
       "      <td>NaN</td>\n",
       "      <td>NaN</td>\n",
       "      <td>2.39</td>\n",
       "    </tr>\n",
       "    <tr>\n",
       "      <th>14244</th>\n",
       "      <td>nan</td>\n",
       "      <td>GEN</td>\n",
       "      <td>1993.0</td>\n",
       "      <td>NaN</td>\n",
       "      <td>0.00</td>\n",
       "      <td>0.00</td>\n",
       "      <td>0.03</td>\n",
       "      <td>0.00</td>\n",
       "      <td>NaN</td>\n",
       "      <td>NaN</td>\n",
       "      <td>NaN</td>\n",
       "      <td>0.03</td>\n",
       "    </tr>\n",
       "  </tbody>\n",
       "</table>\n",
       "</div>"
      ],
      "text/plain": [
       "      name platform  year_of_release genre  na_sales  eu_sales  jp_sales  \\\n",
       "659    nan      GEN           1993.0   NaN      1.78      0.53      0.00   \n",
       "14244  nan      GEN           1993.0   NaN      0.00      0.00      0.03   \n",
       "\n",
       "       other_sales  critic_score  user_score rating  total_sales  \n",
       "659           0.08           NaN         NaN    NaN         2.39  \n",
       "14244         0.00           NaN         NaN    NaN         0.03  "
      ]
     },
     "execution_count": 36,
     "metadata": {},
     "output_type": "execute_result"
    }
   ],
   "source": [
    "# Visualizando los valores ausentes\n",
    "gd.loc[gd[\"genre\"].isna()]"
   ]
  },
  {
   "cell_type": "code",
   "execution_count": 37,
   "metadata": {},
   "outputs": [],
   "source": [
    "gd.dropna(subset=[\"genre\"], inplace=True)"
   ]
  },
  {
   "cell_type": "code",
   "execution_count": 38,
   "metadata": {},
   "outputs": [
    {
     "data": {
      "text/html": [
       "<div>\n",
       "<style scoped>\n",
       "    .dataframe tbody tr th:only-of-type {\n",
       "        vertical-align: middle;\n",
       "    }\n",
       "\n",
       "    .dataframe tbody tr th {\n",
       "        vertical-align: top;\n",
       "    }\n",
       "\n",
       "    .dataframe thead th {\n",
       "        text-align: right;\n",
       "    }\n",
       "</style>\n",
       "<table border=\"1\" class=\"dataframe\">\n",
       "  <thead>\n",
       "    <tr style=\"text-align: right;\">\n",
       "      <th></th>\n",
       "      <th>name</th>\n",
       "      <th>platform</th>\n",
       "      <th>year_of_release</th>\n",
       "      <th>genre</th>\n",
       "      <th>na_sales</th>\n",
       "      <th>eu_sales</th>\n",
       "      <th>jp_sales</th>\n",
       "      <th>other_sales</th>\n",
       "      <th>critic_score</th>\n",
       "      <th>user_score</th>\n",
       "      <th>rating</th>\n",
       "      <th>total_sales</th>\n",
       "    </tr>\n",
       "  </thead>\n",
       "  <tbody>\n",
       "  </tbody>\n",
       "</table>\n",
       "</div>"
      ],
      "text/plain": [
       "Empty DataFrame\n",
       "Columns: [name, platform, year_of_release, genre, na_sales, eu_sales, jp_sales, other_sales, critic_score, user_score, rating, total_sales]\n",
       "Index: []"
      ]
     },
     "execution_count": 38,
     "metadata": {},
     "output_type": "execute_result"
    }
   ],
   "source": [
    "# Comprobando si la función funcionó\n",
    "gd.loc[gd[\"genre\"].isna()]"
   ]
  },
  {
   "cell_type": "markdown",
   "metadata": {},
   "source": [
    "Al solo ser dos filas con valores ausentes, las eliminamos."
   ]
  },
  {
   "cell_type": "markdown",
   "metadata": {},
   "source": [
    "### Restaurar valores ausentes en `Name`"
   ]
  },
  {
   "cell_type": "code",
   "execution_count": 39,
   "metadata": {},
   "outputs": [
    {
     "data": {
      "text/html": [
       "<div>\n",
       "<style scoped>\n",
       "    .dataframe tbody tr th:only-of-type {\n",
       "        vertical-align: middle;\n",
       "    }\n",
       "\n",
       "    .dataframe tbody tr th {\n",
       "        vertical-align: top;\n",
       "    }\n",
       "\n",
       "    .dataframe thead th {\n",
       "        text-align: right;\n",
       "    }\n",
       "</style>\n",
       "<table border=\"1\" class=\"dataframe\">\n",
       "  <thead>\n",
       "    <tr style=\"text-align: right;\">\n",
       "      <th></th>\n",
       "      <th>name</th>\n",
       "      <th>platform</th>\n",
       "      <th>year_of_release</th>\n",
       "      <th>genre</th>\n",
       "      <th>na_sales</th>\n",
       "      <th>eu_sales</th>\n",
       "      <th>jp_sales</th>\n",
       "      <th>other_sales</th>\n",
       "      <th>critic_score</th>\n",
       "      <th>user_score</th>\n",
       "      <th>rating</th>\n",
       "      <th>total_sales</th>\n",
       "    </tr>\n",
       "  </thead>\n",
       "  <tbody>\n",
       "  </tbody>\n",
       "</table>\n",
       "</div>"
      ],
      "text/plain": [
       "Empty DataFrame\n",
       "Columns: [name, platform, year_of_release, genre, na_sales, eu_sales, jp_sales, other_sales, critic_score, user_score, rating, total_sales]\n",
       "Index: []"
      ]
     },
     "execution_count": 39,
     "metadata": {},
     "output_type": "execute_result"
    }
   ],
   "source": [
    "# Visualizando los valores ausentes\n",
    "gd.loc[gd[\"name\"].isna()]"
   ]
  },
  {
   "cell_type": "code",
   "execution_count": 40,
   "metadata": {},
   "outputs": [],
   "source": [
    "gd.dropna(subset=[\"name\"], inplace=True)"
   ]
  },
  {
   "cell_type": "code",
   "execution_count": 41,
   "metadata": {},
   "outputs": [
    {
     "data": {
      "text/html": [
       "<div>\n",
       "<style scoped>\n",
       "    .dataframe tbody tr th:only-of-type {\n",
       "        vertical-align: middle;\n",
       "    }\n",
       "\n",
       "    .dataframe tbody tr th {\n",
       "        vertical-align: top;\n",
       "    }\n",
       "\n",
       "    .dataframe thead th {\n",
       "        text-align: right;\n",
       "    }\n",
       "</style>\n",
       "<table border=\"1\" class=\"dataframe\">\n",
       "  <thead>\n",
       "    <tr style=\"text-align: right;\">\n",
       "      <th></th>\n",
       "      <th>name</th>\n",
       "      <th>platform</th>\n",
       "      <th>year_of_release</th>\n",
       "      <th>genre</th>\n",
       "      <th>na_sales</th>\n",
       "      <th>eu_sales</th>\n",
       "      <th>jp_sales</th>\n",
       "      <th>other_sales</th>\n",
       "      <th>critic_score</th>\n",
       "      <th>user_score</th>\n",
       "      <th>rating</th>\n",
       "      <th>total_sales</th>\n",
       "    </tr>\n",
       "  </thead>\n",
       "  <tbody>\n",
       "  </tbody>\n",
       "</table>\n",
       "</div>"
      ],
      "text/plain": [
       "Empty DataFrame\n",
       "Columns: [name, platform, year_of_release, genre, na_sales, eu_sales, jp_sales, other_sales, critic_score, user_score, rating, total_sales]\n",
       "Index: []"
      ]
     },
     "execution_count": 41,
     "metadata": {},
     "output_type": "execute_result"
    }
   ],
   "source": [
    "# Comprobando si la función funcionó\n",
    "gd.loc[gd[\"name\"].isna()]"
   ]
  },
  {
   "cell_type": "markdown",
   "metadata": {},
   "source": [
    "Al solo ser dos filas con valores ausentes, las eliminamos."
   ]
  },
  {
   "cell_type": "markdown",
   "metadata": {},
   "source": [
    "### Restaurar valores ausentes en `Year_of_Release`"
   ]
  },
  {
   "cell_type": "code",
   "execution_count": 42,
   "metadata": {},
   "outputs": [
    {
     "data": {
      "text/plain": [
       "array([2006., 1985., 2008., 2009., 1996., 1989., 1984., 2005., 1999.,\n",
       "       2007., 2010., 2013., 2004., 1990., 1988., 2002., 2001., 2011.,\n",
       "       1998., 2015., 2012., 2014., 1992., 1997., 1993., 1994., 1982.,\n",
       "       2016., 2003., 1986., 2000.,   nan, 1995., 1991., 1981., 1987.,\n",
       "       1980., 1983.])"
      ]
     },
     "execution_count": 42,
     "metadata": {},
     "output_type": "execute_result"
    }
   ],
   "source": [
    "gd[\"year_of_release\"].unique()"
   ]
  },
  {
   "cell_type": "code",
   "execution_count": 43,
   "metadata": {},
   "outputs": [
    {
     "data": {
      "text/plain": [
       "array(['Wii', 'NES', 'GB', 'DS', 'X360', 'PS3', 'PS2', 'SNES', 'GBA',\n",
       "       'PS4', '3DS', 'N64', 'PS', 'XB', 'PC', '2600', 'PSP', 'XOne',\n",
       "       'WiiU', 'GC', 'GEN', 'DC', 'PSV', 'SAT', 'SCD', 'WS', 'NG', 'TG16',\n",
       "       '3DO', 'GG', 'PCFX'], dtype=object)"
      ]
     },
     "execution_count": 43,
     "metadata": {},
     "output_type": "execute_result"
    }
   ],
   "source": [
    "gd[\"platform\"].unique()"
   ]
  },
  {
   "cell_type": "code",
   "execution_count": 44,
   "metadata": {},
   "outputs": [
    {
     "data": {
      "text/html": [
       "<div>\n",
       "<style scoped>\n",
       "    .dataframe tbody tr th:only-of-type {\n",
       "        vertical-align: middle;\n",
       "    }\n",
       "\n",
       "    .dataframe tbody tr th {\n",
       "        vertical-align: top;\n",
       "    }\n",
       "\n",
       "    .dataframe thead th {\n",
       "        text-align: right;\n",
       "    }\n",
       "</style>\n",
       "<table border=\"1\" class=\"dataframe\">\n",
       "  <thead>\n",
       "    <tr style=\"text-align: right;\">\n",
       "      <th></th>\n",
       "      <th>name</th>\n",
       "      <th>platform</th>\n",
       "      <th>year_of_release</th>\n",
       "      <th>genre</th>\n",
       "      <th>na_sales</th>\n",
       "      <th>eu_sales</th>\n",
       "      <th>jp_sales</th>\n",
       "      <th>other_sales</th>\n",
       "      <th>critic_score</th>\n",
       "      <th>user_score</th>\n",
       "      <th>rating</th>\n",
       "      <th>total_sales</th>\n",
       "    </tr>\n",
       "  </thead>\n",
       "  <tbody>\n",
       "    <tr>\n",
       "      <th>0</th>\n",
       "      <td>Wii Sports</td>\n",
       "      <td>Wii</td>\n",
       "      <td>2006.0</td>\n",
       "      <td>Sports</td>\n",
       "      <td>41.36</td>\n",
       "      <td>28.96</td>\n",
       "      <td>3.77</td>\n",
       "      <td>8.45</td>\n",
       "      <td>76.0</td>\n",
       "      <td>8.0</td>\n",
       "      <td>E</td>\n",
       "      <td>82.54</td>\n",
       "    </tr>\n",
       "    <tr>\n",
       "      <th>2</th>\n",
       "      <td>Mario Kart Wii</td>\n",
       "      <td>Wii</td>\n",
       "      <td>2008.0</td>\n",
       "      <td>Racing</td>\n",
       "      <td>15.68</td>\n",
       "      <td>12.76</td>\n",
       "      <td>3.79</td>\n",
       "      <td>3.29</td>\n",
       "      <td>82.0</td>\n",
       "      <td>8.3</td>\n",
       "      <td>E</td>\n",
       "      <td>35.52</td>\n",
       "    </tr>\n",
       "    <tr>\n",
       "      <th>3</th>\n",
       "      <td>Wii Sports Resort</td>\n",
       "      <td>Wii</td>\n",
       "      <td>2009.0</td>\n",
       "      <td>Sports</td>\n",
       "      <td>15.61</td>\n",
       "      <td>10.93</td>\n",
       "      <td>3.28</td>\n",
       "      <td>2.95</td>\n",
       "      <td>80.0</td>\n",
       "      <td>8.0</td>\n",
       "      <td>E</td>\n",
       "      <td>32.77</td>\n",
       "    </tr>\n",
       "    <tr>\n",
       "      <th>6</th>\n",
       "      <td>New Super Mario Bros.</td>\n",
       "      <td>DS</td>\n",
       "      <td>2006.0</td>\n",
       "      <td>Platform</td>\n",
       "      <td>11.28</td>\n",
       "      <td>9.14</td>\n",
       "      <td>6.50</td>\n",
       "      <td>2.88</td>\n",
       "      <td>89.0</td>\n",
       "      <td>8.5</td>\n",
       "      <td>E</td>\n",
       "      <td>29.80</td>\n",
       "    </tr>\n",
       "    <tr>\n",
       "      <th>7</th>\n",
       "      <td>Wii Play</td>\n",
       "      <td>Wii</td>\n",
       "      <td>2006.0</td>\n",
       "      <td>Misc</td>\n",
       "      <td>13.96</td>\n",
       "      <td>9.18</td>\n",
       "      <td>2.93</td>\n",
       "      <td>2.84</td>\n",
       "      <td>58.0</td>\n",
       "      <td>6.6</td>\n",
       "      <td>E</td>\n",
       "      <td>28.91</td>\n",
       "    </tr>\n",
       "  </tbody>\n",
       "</table>\n",
       "</div>"
      ],
      "text/plain": [
       "                    name platform  year_of_release     genre  na_sales  \\\n",
       "0             Wii Sports      Wii           2006.0    Sports     41.36   \n",
       "2         Mario Kart Wii      Wii           2008.0    Racing     15.68   \n",
       "3      Wii Sports Resort      Wii           2009.0    Sports     15.61   \n",
       "6  New Super Mario Bros.       DS           2006.0  Platform     11.28   \n",
       "7               Wii Play      Wii           2006.0      Misc     13.96   \n",
       "\n",
       "   eu_sales  jp_sales  other_sales  critic_score  user_score rating  \\\n",
       "0     28.96      3.77         8.45          76.0         8.0      E   \n",
       "2     12.76      3.79         3.29          82.0         8.3      E   \n",
       "3     10.93      3.28         2.95          80.0         8.0      E   \n",
       "6      9.14      6.50         2.88          89.0         8.5      E   \n",
       "7      9.18      2.93         2.84          58.0         6.6      E   \n",
       "\n",
       "   total_sales  \n",
       "0        82.54  \n",
       "2        35.52  \n",
       "3        32.77  \n",
       "6        29.80  \n",
       "7        28.91  "
      ]
     },
     "execution_count": 44,
     "metadata": {},
     "output_type": "execute_result"
    }
   ],
   "source": [
    "gd_notnan.head()"
   ]
  },
  {
   "cell_type": "code",
   "execution_count": 45,
   "metadata": {},
   "outputs": [
    {
     "data": {
      "text/html": [
       "<div>\n",
       "<style scoped>\n",
       "    .dataframe tbody tr th:only-of-type {\n",
       "        vertical-align: middle;\n",
       "    }\n",
       "\n",
       "    .dataframe tbody tr th {\n",
       "        vertical-align: top;\n",
       "    }\n",
       "\n",
       "    .dataframe thead th {\n",
       "        text-align: right;\n",
       "    }\n",
       "</style>\n",
       "<table border=\"1\" class=\"dataframe\">\n",
       "  <thead>\n",
       "    <tr style=\"text-align: right;\">\n",
       "      <th></th>\n",
       "      <th>year_of_release</th>\n",
       "    </tr>\n",
       "    <tr>\n",
       "      <th>platform</th>\n",
       "      <th></th>\n",
       "    </tr>\n",
       "  </thead>\n",
       "  <tbody>\n",
       "    <tr>\n",
       "      <th>3DS</th>\n",
       "      <td>2012.0</td>\n",
       "    </tr>\n",
       "    <tr>\n",
       "      <th>DC</th>\n",
       "      <td>2000.0</td>\n",
       "    </tr>\n",
       "    <tr>\n",
       "      <th>DS</th>\n",
       "      <td>2007.0</td>\n",
       "    </tr>\n",
       "    <tr>\n",
       "      <th>GBA</th>\n",
       "      <td>2003.0</td>\n",
       "    </tr>\n",
       "    <tr>\n",
       "      <th>GC</th>\n",
       "      <td>2003.0</td>\n",
       "    </tr>\n",
       "    <tr>\n",
       "      <th>PC</th>\n",
       "      <td>2009.0</td>\n",
       "    </tr>\n",
       "    <tr>\n",
       "      <th>PS</th>\n",
       "      <td>2000.0</td>\n",
       "    </tr>\n",
       "    <tr>\n",
       "      <th>PS2</th>\n",
       "      <td>2004.0</td>\n",
       "    </tr>\n",
       "    <tr>\n",
       "      <th>PS3</th>\n",
       "      <td>2010.0</td>\n",
       "    </tr>\n",
       "    <tr>\n",
       "      <th>PS4</th>\n",
       "      <td>2015.0</td>\n",
       "    </tr>\n",
       "    <tr>\n",
       "      <th>PSP</th>\n",
       "      <td>2007.0</td>\n",
       "    </tr>\n",
       "    <tr>\n",
       "      <th>PSV</th>\n",
       "      <td>2013.0</td>\n",
       "    </tr>\n",
       "    <tr>\n",
       "      <th>Wii</th>\n",
       "      <td>2008.0</td>\n",
       "    </tr>\n",
       "    <tr>\n",
       "      <th>WiiU</th>\n",
       "      <td>2013.0</td>\n",
       "    </tr>\n",
       "    <tr>\n",
       "      <th>X360</th>\n",
       "      <td>2009.0</td>\n",
       "    </tr>\n",
       "    <tr>\n",
       "      <th>XB</th>\n",
       "      <td>2004.0</td>\n",
       "    </tr>\n",
       "    <tr>\n",
       "      <th>XOne</th>\n",
       "      <td>2015.0</td>\n",
       "    </tr>\n",
       "  </tbody>\n",
       "</table>\n",
       "</div>"
      ],
      "text/plain": [
       "          year_of_release\n",
       "platform                 \n",
       "3DS                2012.0\n",
       "DC                 2000.0\n",
       "DS                 2007.0\n",
       "GBA                2003.0\n",
       "GC                 2003.0\n",
       "PC                 2009.0\n",
       "PS                 2000.0\n",
       "PS2                2004.0\n",
       "PS3                2010.0\n",
       "PS4                2015.0\n",
       "PSP                2007.0\n",
       "PSV                2013.0\n",
       "Wii                2008.0\n",
       "WiiU               2013.0\n",
       "X360               2009.0\n",
       "XB                 2004.0\n",
       "XOne               2015.0"
      ]
     },
     "execution_count": 45,
     "metadata": {},
     "output_type": "execute_result"
    }
   ],
   "source": [
    "t = gd_notnan.pivot_table(index=\"platform\", values=\"year_of_release\", aggfunc=\"median\")\n",
    "t"
   ]
  },
  {
   "cell_type": "code",
   "execution_count": 46,
   "metadata": {},
   "outputs": [
    {
     "data": {
      "text/plain": [
       "2015.0"
      ]
     },
     "execution_count": 46,
     "metadata": {},
     "output_type": "execute_result"
    }
   ],
   "source": [
    "t[\"year_of_release\"][\"PS4\"]"
   ]
  },
  {
   "cell_type": "code",
   "execution_count": 47,
   "metadata": {},
   "outputs": [],
   "source": [
    "#Función que usaremos para completar los valores ausentes\n",
    "def year(row):\n",
    "    year_of_release = row[\"year_of_release\"]\n",
    "    platform = row[\"platform\"]\n",
    "    if pd.isna(year_of_release):\n",
    "        try:\n",
    "            return t[\"year_of_release\"][platform]\n",
    "        except:\n",
    "            return t[\"year_of_release\"].median()\n",
    "    return year_of_release"
   ]
  },
  {
   "cell_type": "code",
   "execution_count": 48,
   "metadata": {},
   "outputs": [
    {
     "data": {
      "text/plain": [
       "0"
      ]
     },
     "execution_count": 48,
     "metadata": {},
     "output_type": "execute_result"
    }
   ],
   "source": [
    "gd.apply(year, axis=1).isna().sum()"
   ]
  },
  {
   "cell_type": "code",
   "execution_count": 49,
   "metadata": {},
   "outputs": [
    {
     "data": {
      "text/plain": [
       "0"
      ]
     },
     "execution_count": 49,
     "metadata": {},
     "output_type": "execute_result"
    }
   ],
   "source": [
    "gd_notnan.apply(year, axis=1).isna().sum()"
   ]
  },
  {
   "cell_type": "code",
   "execution_count": 50,
   "metadata": {},
   "outputs": [
    {
     "data": {
      "text/html": [
       "<div>\n",
       "<style scoped>\n",
       "    .dataframe tbody tr th:only-of-type {\n",
       "        vertical-align: middle;\n",
       "    }\n",
       "\n",
       "    .dataframe tbody tr th {\n",
       "        vertical-align: top;\n",
       "    }\n",
       "\n",
       "    .dataframe thead th {\n",
       "        text-align: right;\n",
       "    }\n",
       "</style>\n",
       "<table border=\"1\" class=\"dataframe\">\n",
       "  <thead>\n",
       "    <tr style=\"text-align: right;\">\n",
       "      <th></th>\n",
       "      <th>name</th>\n",
       "      <th>platform</th>\n",
       "      <th>year_of_release</th>\n",
       "      <th>genre</th>\n",
       "      <th>na_sales</th>\n",
       "      <th>eu_sales</th>\n",
       "      <th>jp_sales</th>\n",
       "      <th>other_sales</th>\n",
       "      <th>critic_score</th>\n",
       "      <th>user_score</th>\n",
       "      <th>rating</th>\n",
       "      <th>total_sales</th>\n",
       "    </tr>\n",
       "  </thead>\n",
       "  <tbody>\n",
       "    <tr>\n",
       "      <th>0</th>\n",
       "      <td>Wii Sports</td>\n",
       "      <td>Wii</td>\n",
       "      <td>2006.0</td>\n",
       "      <td>Sports</td>\n",
       "      <td>41.36</td>\n",
       "      <td>28.96</td>\n",
       "      <td>3.77</td>\n",
       "      <td>8.45</td>\n",
       "      <td>76.0</td>\n",
       "      <td>8.0</td>\n",
       "      <td>E</td>\n",
       "      <td>82.54</td>\n",
       "    </tr>\n",
       "    <tr>\n",
       "      <th>2</th>\n",
       "      <td>Mario Kart Wii</td>\n",
       "      <td>Wii</td>\n",
       "      <td>2008.0</td>\n",
       "      <td>Racing</td>\n",
       "      <td>15.68</td>\n",
       "      <td>12.76</td>\n",
       "      <td>3.79</td>\n",
       "      <td>3.29</td>\n",
       "      <td>82.0</td>\n",
       "      <td>8.3</td>\n",
       "      <td>E</td>\n",
       "      <td>35.52</td>\n",
       "    </tr>\n",
       "    <tr>\n",
       "      <th>3</th>\n",
       "      <td>Wii Sports Resort</td>\n",
       "      <td>Wii</td>\n",
       "      <td>2009.0</td>\n",
       "      <td>Sports</td>\n",
       "      <td>15.61</td>\n",
       "      <td>10.93</td>\n",
       "      <td>3.28</td>\n",
       "      <td>2.95</td>\n",
       "      <td>80.0</td>\n",
       "      <td>8.0</td>\n",
       "      <td>E</td>\n",
       "      <td>32.77</td>\n",
       "    </tr>\n",
       "    <tr>\n",
       "      <th>6</th>\n",
       "      <td>New Super Mario Bros.</td>\n",
       "      <td>DS</td>\n",
       "      <td>2006.0</td>\n",
       "      <td>Platform</td>\n",
       "      <td>11.28</td>\n",
       "      <td>9.14</td>\n",
       "      <td>6.50</td>\n",
       "      <td>2.88</td>\n",
       "      <td>89.0</td>\n",
       "      <td>8.5</td>\n",
       "      <td>E</td>\n",
       "      <td>29.80</td>\n",
       "    </tr>\n",
       "    <tr>\n",
       "      <th>7</th>\n",
       "      <td>Wii Play</td>\n",
       "      <td>Wii</td>\n",
       "      <td>2006.0</td>\n",
       "      <td>Misc</td>\n",
       "      <td>13.96</td>\n",
       "      <td>9.18</td>\n",
       "      <td>2.93</td>\n",
       "      <td>2.84</td>\n",
       "      <td>58.0</td>\n",
       "      <td>6.6</td>\n",
       "      <td>E</td>\n",
       "      <td>28.91</td>\n",
       "    </tr>\n",
       "  </tbody>\n",
       "</table>\n",
       "</div>"
      ],
      "text/plain": [
       "                    name platform  year_of_release     genre  na_sales  \\\n",
       "0             Wii Sports      Wii           2006.0    Sports     41.36   \n",
       "2         Mario Kart Wii      Wii           2008.0    Racing     15.68   \n",
       "3      Wii Sports Resort      Wii           2009.0    Sports     15.61   \n",
       "6  New Super Mario Bros.       DS           2006.0  Platform     11.28   \n",
       "7               Wii Play      Wii           2006.0      Misc     13.96   \n",
       "\n",
       "   eu_sales  jp_sales  other_sales  critic_score  user_score rating  \\\n",
       "0     28.96      3.77         8.45          76.0         8.0      E   \n",
       "2     12.76      3.79         3.29          82.0         8.3      E   \n",
       "3     10.93      3.28         2.95          80.0         8.0      E   \n",
       "6      9.14      6.50         2.88          89.0         8.5      E   \n",
       "7      9.18      2.93         2.84          58.0         6.6      E   \n",
       "\n",
       "   total_sales  \n",
       "0        82.54  \n",
       "2        35.52  \n",
       "3        32.77  \n",
       "6        29.80  \n",
       "7        28.91  "
      ]
     },
     "execution_count": 50,
     "metadata": {},
     "output_type": "execute_result"
    }
   ],
   "source": [
    "gd[\"good_year\"] = gd.apply(year, axis=1)\n",
    "gd_notnan.head()"
   ]
  },
  {
   "cell_type": "code",
   "execution_count": 51,
   "metadata": {},
   "outputs": [
    {
     "data": {
      "text/html": [
       "<div>\n",
       "<style scoped>\n",
       "    .dataframe tbody tr th:only-of-type {\n",
       "        vertical-align: middle;\n",
       "    }\n",
       "\n",
       "    .dataframe tbody tr th {\n",
       "        vertical-align: top;\n",
       "    }\n",
       "\n",
       "    .dataframe thead th {\n",
       "        text-align: right;\n",
       "    }\n",
       "</style>\n",
       "<table border=\"1\" class=\"dataframe\">\n",
       "  <thead>\n",
       "    <tr style=\"text-align: right;\">\n",
       "      <th></th>\n",
       "      <th>name</th>\n",
       "      <th>platform</th>\n",
       "      <th>year_of_release</th>\n",
       "      <th>genre</th>\n",
       "      <th>na_sales</th>\n",
       "      <th>eu_sales</th>\n",
       "      <th>jp_sales</th>\n",
       "      <th>other_sales</th>\n",
       "      <th>critic_score</th>\n",
       "      <th>user_score</th>\n",
       "      <th>rating</th>\n",
       "      <th>total_sales</th>\n",
       "      <th>good_year</th>\n",
       "    </tr>\n",
       "  </thead>\n",
       "  <tbody>\n",
       "    <tr>\n",
       "      <th>0</th>\n",
       "      <td>Wii Sports</td>\n",
       "      <td>Wii</td>\n",
       "      <td>2006.0</td>\n",
       "      <td>Sports</td>\n",
       "      <td>41.36</td>\n",
       "      <td>28.96</td>\n",
       "      <td>3.77</td>\n",
       "      <td>8.45</td>\n",
       "      <td>76.0</td>\n",
       "      <td>8.0</td>\n",
       "      <td>E</td>\n",
       "      <td>82.54</td>\n",
       "      <td>2006.0</td>\n",
       "    </tr>\n",
       "    <tr>\n",
       "      <th>2</th>\n",
       "      <td>Mario Kart Wii</td>\n",
       "      <td>Wii</td>\n",
       "      <td>2008.0</td>\n",
       "      <td>Racing</td>\n",
       "      <td>15.68</td>\n",
       "      <td>12.76</td>\n",
       "      <td>3.79</td>\n",
       "      <td>3.29</td>\n",
       "      <td>82.0</td>\n",
       "      <td>8.3</td>\n",
       "      <td>E</td>\n",
       "      <td>35.52</td>\n",
       "      <td>2008.0</td>\n",
       "    </tr>\n",
       "    <tr>\n",
       "      <th>3</th>\n",
       "      <td>Wii Sports Resort</td>\n",
       "      <td>Wii</td>\n",
       "      <td>2009.0</td>\n",
       "      <td>Sports</td>\n",
       "      <td>15.61</td>\n",
       "      <td>10.93</td>\n",
       "      <td>3.28</td>\n",
       "      <td>2.95</td>\n",
       "      <td>80.0</td>\n",
       "      <td>8.0</td>\n",
       "      <td>E</td>\n",
       "      <td>32.77</td>\n",
       "      <td>2009.0</td>\n",
       "    </tr>\n",
       "    <tr>\n",
       "      <th>6</th>\n",
       "      <td>New Super Mario Bros.</td>\n",
       "      <td>DS</td>\n",
       "      <td>2006.0</td>\n",
       "      <td>Platform</td>\n",
       "      <td>11.28</td>\n",
       "      <td>9.14</td>\n",
       "      <td>6.50</td>\n",
       "      <td>2.88</td>\n",
       "      <td>89.0</td>\n",
       "      <td>8.5</td>\n",
       "      <td>E</td>\n",
       "      <td>29.80</td>\n",
       "      <td>2006.0</td>\n",
       "    </tr>\n",
       "    <tr>\n",
       "      <th>7</th>\n",
       "      <td>Wii Play</td>\n",
       "      <td>Wii</td>\n",
       "      <td>2006.0</td>\n",
       "      <td>Misc</td>\n",
       "      <td>13.96</td>\n",
       "      <td>9.18</td>\n",
       "      <td>2.93</td>\n",
       "      <td>2.84</td>\n",
       "      <td>58.0</td>\n",
       "      <td>6.6</td>\n",
       "      <td>E</td>\n",
       "      <td>28.91</td>\n",
       "      <td>2006.0</td>\n",
       "    </tr>\n",
       "  </tbody>\n",
       "</table>\n",
       "</div>"
      ],
      "text/plain": [
       "                    name platform  year_of_release     genre  na_sales  \\\n",
       "0             Wii Sports      Wii           2006.0    Sports     41.36   \n",
       "2         Mario Kart Wii      Wii           2008.0    Racing     15.68   \n",
       "3      Wii Sports Resort      Wii           2009.0    Sports     15.61   \n",
       "6  New Super Mario Bros.       DS           2006.0  Platform     11.28   \n",
       "7               Wii Play      Wii           2006.0      Misc     13.96   \n",
       "\n",
       "   eu_sales  jp_sales  other_sales  critic_score  user_score rating  \\\n",
       "0     28.96      3.77         8.45          76.0         8.0      E   \n",
       "2     12.76      3.79         3.29          82.0         8.3      E   \n",
       "3     10.93      3.28         2.95          80.0         8.0      E   \n",
       "6      9.14      6.50         2.88          89.0         8.5      E   \n",
       "7      9.18      2.93         2.84          58.0         6.6      E   \n",
       "\n",
       "   total_sales  good_year  \n",
       "0        82.54     2006.0  \n",
       "2        35.52     2008.0  \n",
       "3        32.77     2009.0  \n",
       "6        29.80     2006.0  \n",
       "7        28.91     2006.0  "
      ]
     },
     "execution_count": 51,
     "metadata": {},
     "output_type": "execute_result"
    }
   ],
   "source": [
    "gd_notnan[\"good_year\"] = gd_notnan.apply(year, axis=1)\n",
    "gd_notnan.head()"
   ]
  },
  {
   "cell_type": "code",
   "execution_count": 52,
   "metadata": {},
   "outputs": [
    {
     "data": {
      "text/html": [
       "<div>\n",
       "<style scoped>\n",
       "    .dataframe tbody tr th:only-of-type {\n",
       "        vertical-align: middle;\n",
       "    }\n",
       "\n",
       "    .dataframe tbody tr th {\n",
       "        vertical-align: top;\n",
       "    }\n",
       "\n",
       "    .dataframe thead th {\n",
       "        text-align: right;\n",
       "    }\n",
       "</style>\n",
       "<table border=\"1\" class=\"dataframe\">\n",
       "  <thead>\n",
       "    <tr style=\"text-align: right;\">\n",
       "      <th></th>\n",
       "      <th>name</th>\n",
       "      <th>platform</th>\n",
       "      <th>year_of_release</th>\n",
       "      <th>genre</th>\n",
       "      <th>na_sales</th>\n",
       "      <th>eu_sales</th>\n",
       "      <th>jp_sales</th>\n",
       "      <th>other_sales</th>\n",
       "      <th>critic_score</th>\n",
       "      <th>user_score</th>\n",
       "      <th>rating</th>\n",
       "      <th>total_sales</th>\n",
       "      <th>good_year</th>\n",
       "    </tr>\n",
       "  </thead>\n",
       "  <tbody>\n",
       "  </tbody>\n",
       "</table>\n",
       "</div>"
      ],
      "text/plain": [
       "Empty DataFrame\n",
       "Columns: [name, platform, year_of_release, genre, na_sales, eu_sales, jp_sales, other_sales, critic_score, user_score, rating, total_sales, good_year]\n",
       "Index: []"
      ]
     },
     "execution_count": 52,
     "metadata": {},
     "output_type": "execute_result"
    }
   ],
   "source": [
    "# Comprobando si la función funcionó\n",
    "gd.loc[gd[\"good_year\"].isna()]"
   ]
  },
  {
   "cell_type": "code",
   "execution_count": 53,
   "metadata": {},
   "outputs": [
    {
     "data": {
      "text/html": [
       "<div>\n",
       "<style scoped>\n",
       "    .dataframe tbody tr th:only-of-type {\n",
       "        vertical-align: middle;\n",
       "    }\n",
       "\n",
       "    .dataframe tbody tr th {\n",
       "        vertical-align: top;\n",
       "    }\n",
       "\n",
       "    .dataframe thead th {\n",
       "        text-align: right;\n",
       "    }\n",
       "</style>\n",
       "<table border=\"1\" class=\"dataframe\">\n",
       "  <thead>\n",
       "    <tr style=\"text-align: right;\">\n",
       "      <th></th>\n",
       "      <th>name</th>\n",
       "      <th>platform</th>\n",
       "      <th>year_of_release</th>\n",
       "      <th>genre</th>\n",
       "      <th>na_sales</th>\n",
       "      <th>eu_sales</th>\n",
       "      <th>jp_sales</th>\n",
       "      <th>other_sales</th>\n",
       "      <th>critic_score</th>\n",
       "      <th>user_score</th>\n",
       "      <th>rating</th>\n",
       "      <th>total_sales</th>\n",
       "      <th>good_year</th>\n",
       "    </tr>\n",
       "  </thead>\n",
       "  <tbody>\n",
       "  </tbody>\n",
       "</table>\n",
       "</div>"
      ],
      "text/plain": [
       "Empty DataFrame\n",
       "Columns: [name, platform, year_of_release, genre, na_sales, eu_sales, jp_sales, other_sales, critic_score, user_score, rating, total_sales, good_year]\n",
       "Index: []"
      ]
     },
     "execution_count": 53,
     "metadata": {},
     "output_type": "execute_result"
    }
   ],
   "source": [
    "# Comprobando si la función funcionó\n",
    "gd.loc[gd[\"good_year\"].isna()]"
   ]
  },
  {
   "cell_type": "markdown",
   "metadata": {},
   "source": [
    "### Restaurar valores ausentes en `User_Score`"
   ]
  },
  {
   "cell_type": "code",
   "execution_count": 54,
   "metadata": {},
   "outputs": [
    {
     "data": {
      "text/html": [
       "<div>\n",
       "<style scoped>\n",
       "    .dataframe tbody tr th:only-of-type {\n",
       "        vertical-align: middle;\n",
       "    }\n",
       "\n",
       "    .dataframe tbody tr th {\n",
       "        vertical-align: top;\n",
       "    }\n",
       "\n",
       "    .dataframe thead th {\n",
       "        text-align: right;\n",
       "    }\n",
       "</style>\n",
       "<table border=\"1\" class=\"dataframe\">\n",
       "  <thead>\n",
       "    <tr style=\"text-align: right;\">\n",
       "      <th></th>\n",
       "      <th>name</th>\n",
       "      <th>platform</th>\n",
       "      <th>year_of_release</th>\n",
       "      <th>genre</th>\n",
       "      <th>na_sales</th>\n",
       "      <th>eu_sales</th>\n",
       "      <th>jp_sales</th>\n",
       "      <th>other_sales</th>\n",
       "      <th>critic_score</th>\n",
       "      <th>user_score</th>\n",
       "      <th>rating</th>\n",
       "      <th>total_sales</th>\n",
       "      <th>good_year</th>\n",
       "    </tr>\n",
       "  </thead>\n",
       "  <tbody>\n",
       "    <tr>\n",
       "      <th>0</th>\n",
       "      <td>Wii Sports</td>\n",
       "      <td>Wii</td>\n",
       "      <td>2006.0</td>\n",
       "      <td>Sports</td>\n",
       "      <td>41.36</td>\n",
       "      <td>28.96</td>\n",
       "      <td>3.77</td>\n",
       "      <td>8.45</td>\n",
       "      <td>76.0</td>\n",
       "      <td>8.0</td>\n",
       "      <td>E</td>\n",
       "      <td>82.54</td>\n",
       "      <td>2006.0</td>\n",
       "    </tr>\n",
       "    <tr>\n",
       "      <th>1</th>\n",
       "      <td>Super Mario Bros.</td>\n",
       "      <td>NES</td>\n",
       "      <td>1985.0</td>\n",
       "      <td>Platform</td>\n",
       "      <td>29.08</td>\n",
       "      <td>3.58</td>\n",
       "      <td>6.81</td>\n",
       "      <td>0.77</td>\n",
       "      <td>NaN</td>\n",
       "      <td>NaN</td>\n",
       "      <td>NaN</td>\n",
       "      <td>40.24</td>\n",
       "      <td>1985.0</td>\n",
       "    </tr>\n",
       "    <tr>\n",
       "      <th>2</th>\n",
       "      <td>Mario Kart Wii</td>\n",
       "      <td>Wii</td>\n",
       "      <td>2008.0</td>\n",
       "      <td>Racing</td>\n",
       "      <td>15.68</td>\n",
       "      <td>12.76</td>\n",
       "      <td>3.79</td>\n",
       "      <td>3.29</td>\n",
       "      <td>82.0</td>\n",
       "      <td>8.3</td>\n",
       "      <td>E</td>\n",
       "      <td>35.52</td>\n",
       "      <td>2008.0</td>\n",
       "    </tr>\n",
       "    <tr>\n",
       "      <th>3</th>\n",
       "      <td>Wii Sports Resort</td>\n",
       "      <td>Wii</td>\n",
       "      <td>2009.0</td>\n",
       "      <td>Sports</td>\n",
       "      <td>15.61</td>\n",
       "      <td>10.93</td>\n",
       "      <td>3.28</td>\n",
       "      <td>2.95</td>\n",
       "      <td>80.0</td>\n",
       "      <td>8.0</td>\n",
       "      <td>E</td>\n",
       "      <td>32.77</td>\n",
       "      <td>2009.0</td>\n",
       "    </tr>\n",
       "    <tr>\n",
       "      <th>4</th>\n",
       "      <td>Pokemon Red/Pokemon Blue</td>\n",
       "      <td>GB</td>\n",
       "      <td>1996.0</td>\n",
       "      <td>Role-Playing</td>\n",
       "      <td>11.27</td>\n",
       "      <td>8.89</td>\n",
       "      <td>10.22</td>\n",
       "      <td>1.00</td>\n",
       "      <td>NaN</td>\n",
       "      <td>NaN</td>\n",
       "      <td>NaN</td>\n",
       "      <td>31.38</td>\n",
       "      <td>1996.0</td>\n",
       "    </tr>\n",
       "  </tbody>\n",
       "</table>\n",
       "</div>"
      ],
      "text/plain": [
       "                       name platform  year_of_release         genre  na_sales  \\\n",
       "0                Wii Sports      Wii           2006.0        Sports     41.36   \n",
       "1         Super Mario Bros.      NES           1985.0      Platform     29.08   \n",
       "2            Mario Kart Wii      Wii           2008.0        Racing     15.68   \n",
       "3         Wii Sports Resort      Wii           2009.0        Sports     15.61   \n",
       "4  Pokemon Red/Pokemon Blue       GB           1996.0  Role-Playing     11.27   \n",
       "\n",
       "   eu_sales  jp_sales  other_sales  critic_score  user_score rating  \\\n",
       "0     28.96      3.77         8.45          76.0         8.0      E   \n",
       "1      3.58      6.81         0.77           NaN         NaN    NaN   \n",
       "2     12.76      3.79         3.29          82.0         8.3      E   \n",
       "3     10.93      3.28         2.95          80.0         8.0      E   \n",
       "4      8.89     10.22         1.00           NaN         NaN    NaN   \n",
       "\n",
       "   total_sales  good_year  \n",
       "0        82.54     2006.0  \n",
       "1        40.24     1985.0  \n",
       "2        35.52     2008.0  \n",
       "3        32.77     2009.0  \n",
       "4        31.38     1996.0  "
      ]
     },
     "execution_count": 54,
     "metadata": {},
     "output_type": "execute_result"
    }
   ],
   "source": [
    "gd_notnan[\"total_sales_group\"] = pd.qcut(gd_notnan[\"total_sales\"], q=5)\n",
    "gd.head()"
   ]
  },
  {
   "cell_type": "code",
   "execution_count": 55,
   "metadata": {},
   "outputs": [
    {
     "data": {
      "text/plain": [
       "[(0.96, 82.54], (0.43, 0.96], (0.2, 0.43], (0.09, 0.2], (0.009000000000000001, 0.09]]\n",
       "Categories (5, interval[float64]): [(0.009000000000000001, 0.09] < (0.09, 0.2] < (0.2, 0.43] < (0.43, 0.96] < (0.96, 82.54]]"
      ]
     },
     "execution_count": 55,
     "metadata": {},
     "output_type": "execute_result"
    }
   ],
   "source": [
    "gd_notnan[\"total_sales_group\"].unique( )"
   ]
  },
  {
   "cell_type": "code",
   "execution_count": 56,
   "metadata": {},
   "outputs": [
    {
     "name": "stdout",
     "output_type": "stream",
     "text": [
      "<class 'pandas.core.frame.DataFrame'>\n",
      "Int64Index: 6826 entries, 0 to 16702\n",
      "Data columns (total 14 columns):\n",
      " #   Column             Non-Null Count  Dtype   \n",
      "---  ------             --------------  -----   \n",
      " 0   name               6826 non-null   object  \n",
      " 1   platform           6826 non-null   object  \n",
      " 2   year_of_release    6826 non-null   float64 \n",
      " 3   genre              6826 non-null   object  \n",
      " 4   na_sales           6826 non-null   float64 \n",
      " 5   eu_sales           6826 non-null   float64 \n",
      " 6   jp_sales           6826 non-null   float64 \n",
      " 7   other_sales        6826 non-null   float64 \n",
      " 8   critic_score       6826 non-null   float64 \n",
      " 9   user_score         6826 non-null   float64 \n",
      " 10  rating             6826 non-null   object  \n",
      " 11  total_sales        6826 non-null   float64 \n",
      " 12  good_year          6826 non-null   float64 \n",
      " 13  total_sales_group  6826 non-null   category\n",
      "dtypes: category(1), float64(9), object(4)\n",
      "memory usage: 753.5+ KB\n"
     ]
    }
   ],
   "source": [
    "gd_notnan.info()"
   ]
  },
  {
   "cell_type": "code",
   "execution_count": 57,
   "metadata": {},
   "outputs": [
    {
     "name": "stdout",
     "output_type": "stream",
     "text": [
      "<class 'pandas.core.frame.DataFrame'>\n",
      "Int64Index: 16713 entries, 0 to 16714\n",
      "Data columns (total 13 columns):\n",
      " #   Column           Non-Null Count  Dtype  \n",
      "---  ------           --------------  -----  \n",
      " 0   name             16713 non-null  object \n",
      " 1   platform         16713 non-null  object \n",
      " 2   year_of_release  16444 non-null  float64\n",
      " 3   genre            16713 non-null  object \n",
      " 4   na_sales         16713 non-null  float64\n",
      " 5   eu_sales         16713 non-null  float64\n",
      " 6   jp_sales         16713 non-null  float64\n",
      " 7   other_sales      16713 non-null  float64\n",
      " 8   critic_score     8137 non-null   float64\n",
      " 9   user_score       7590 non-null   float64\n",
      " 10  rating           9949 non-null   object \n",
      " 11  total_sales      16713 non-null  float64\n",
      " 12  good_year        16713 non-null  float64\n",
      "dtypes: float64(9), object(4)\n",
      "memory usage: 1.8+ MB\n"
     ]
    }
   ],
   "source": [
    "gd.info()"
   ]
  },
  {
   "cell_type": "code",
   "execution_count": 58,
   "metadata": {},
   "outputs": [
    {
     "data": {
      "text/html": [
       "<div>\n",
       "<style scoped>\n",
       "    .dataframe tbody tr th:only-of-type {\n",
       "        vertical-align: middle;\n",
       "    }\n",
       "\n",
       "    .dataframe tbody tr th {\n",
       "        vertical-align: top;\n",
       "    }\n",
       "\n",
       "    .dataframe thead th {\n",
       "        text-align: right;\n",
       "    }\n",
       "</style>\n",
       "<table border=\"1\" class=\"dataframe\">\n",
       "  <thead>\n",
       "    <tr style=\"text-align: right;\">\n",
       "      <th></th>\n",
       "      <th>user_score</th>\n",
       "    </tr>\n",
       "    <tr>\n",
       "      <th>platform</th>\n",
       "      <th></th>\n",
       "    </tr>\n",
       "  </thead>\n",
       "  <tbody>\n",
       "    <tr>\n",
       "      <th>3DS</th>\n",
       "      <td>6.940645</td>\n",
       "    </tr>\n",
       "    <tr>\n",
       "      <th>DC</th>\n",
       "      <td>8.528571</td>\n",
       "    </tr>\n",
       "    <tr>\n",
       "      <th>DS</th>\n",
       "      <td>7.047198</td>\n",
       "    </tr>\n",
       "    <tr>\n",
       "      <th>GBA</th>\n",
       "      <td>7.691983</td>\n",
       "    </tr>\n",
       "    <tr>\n",
       "      <th>GC</th>\n",
       "      <td>7.616667</td>\n",
       "    </tr>\n",
       "    <tr>\n",
       "      <th>PC</th>\n",
       "      <td>7.054141</td>\n",
       "    </tr>\n",
       "    <tr>\n",
       "      <th>PS</th>\n",
       "      <td>7.860000</td>\n",
       "    </tr>\n",
       "    <tr>\n",
       "      <th>PS2</th>\n",
       "      <td>7.664386</td>\n",
       "    </tr>\n",
       "    <tr>\n",
       "      <th>PS3</th>\n",
       "      <td>6.782705</td>\n",
       "    </tr>\n",
       "    <tr>\n",
       "      <th>PS4</th>\n",
       "      <td>6.739331</td>\n",
       "    </tr>\n",
       "    <tr>\n",
       "      <th>PSP</th>\n",
       "      <td>7.270513</td>\n",
       "    </tr>\n",
       "    <tr>\n",
       "      <th>PSV</th>\n",
       "      <td>7.491525</td>\n",
       "    </tr>\n",
       "    <tr>\n",
       "      <th>Wii</th>\n",
       "      <td>6.903758</td>\n",
       "    </tr>\n",
       "    <tr>\n",
       "      <th>WiiU</th>\n",
       "      <td>7.041573</td>\n",
       "    </tr>\n",
       "    <tr>\n",
       "      <th>X360</th>\n",
       "      <td>6.780769</td>\n",
       "    </tr>\n",
       "    <tr>\n",
       "      <th>XB</th>\n",
       "      <td>7.540708</td>\n",
       "    </tr>\n",
       "    <tr>\n",
       "      <th>XOne</th>\n",
       "      <td>6.493082</td>\n",
       "    </tr>\n",
       "  </tbody>\n",
       "</table>\n",
       "</div>"
      ],
      "text/plain": [
       "          user_score\n",
       "platform            \n",
       "3DS         6.940645\n",
       "DC          8.528571\n",
       "DS          7.047198\n",
       "GBA         7.691983\n",
       "GC          7.616667\n",
       "PC          7.054141\n",
       "PS          7.860000\n",
       "PS2         7.664386\n",
       "PS3         6.782705\n",
       "PS4         6.739331\n",
       "PSP         7.270513\n",
       "PSV         7.491525\n",
       "Wii         6.903758\n",
       "WiiU        7.041573\n",
       "X360        6.780769\n",
       "XB          7.540708\n",
       "XOne        6.493082"
      ]
     },
     "execution_count": 58,
     "metadata": {},
     "output_type": "execute_result"
    }
   ],
   "source": [
    "u = gd_notnan.pivot_table(index=\"platform\", values=\"user_score\", aggfunc=\"mean\")\n",
    "u"
   ]
  },
  {
   "cell_type": "code",
   "execution_count": 59,
   "metadata": {},
   "outputs": [
    {
     "data": {
      "text/plain": [
       "6.739330543933056"
      ]
     },
     "execution_count": 59,
     "metadata": {},
     "output_type": "execute_result"
    }
   ],
   "source": [
    "u[\"user_score\"][\"PS4\"]"
   ]
  },
  {
   "cell_type": "code",
   "execution_count": 60,
   "metadata": {},
   "outputs": [],
   "source": [
    "#Función que usaremos para completar los valores ausentes\n",
    "def score(row):\n",
    "    user_score = row[\"user_score\"]\n",
    "    platform = row[\"platform\"]\n",
    "    if pd.isna(user_score):\n",
    "        try:\n",
    "            return u[\"user_score\"][platform]\n",
    "        except:\n",
    "            return u[\"user_score\"].median()\n",
    "    return user_score"
   ]
  },
  {
   "cell_type": "code",
   "execution_count": 61,
   "metadata": {},
   "outputs": [
    {
     "data": {
      "text/plain": [
       "0"
      ]
     },
     "execution_count": 61,
     "metadata": {},
     "output_type": "execute_result"
    }
   ],
   "source": [
    "gd.apply(score, axis=1).isna().sum()"
   ]
  },
  {
   "cell_type": "code",
   "execution_count": 62,
   "metadata": {},
   "outputs": [
    {
     "data": {
      "text/html": [
       "<div>\n",
       "<style scoped>\n",
       "    .dataframe tbody tr th:only-of-type {\n",
       "        vertical-align: middle;\n",
       "    }\n",
       "\n",
       "    .dataframe tbody tr th {\n",
       "        vertical-align: top;\n",
       "    }\n",
       "\n",
       "    .dataframe thead th {\n",
       "        text-align: right;\n",
       "    }\n",
       "</style>\n",
       "<table border=\"1\" class=\"dataframe\">\n",
       "  <thead>\n",
       "    <tr style=\"text-align: right;\">\n",
       "      <th></th>\n",
       "      <th>name</th>\n",
       "      <th>platform</th>\n",
       "      <th>year_of_release</th>\n",
       "      <th>genre</th>\n",
       "      <th>na_sales</th>\n",
       "      <th>eu_sales</th>\n",
       "      <th>jp_sales</th>\n",
       "      <th>other_sales</th>\n",
       "      <th>critic_score</th>\n",
       "      <th>user_score</th>\n",
       "      <th>rating</th>\n",
       "      <th>total_sales</th>\n",
       "      <th>good_year</th>\n",
       "    </tr>\n",
       "  </thead>\n",
       "  <tbody>\n",
       "    <tr>\n",
       "      <th>0</th>\n",
       "      <td>Wii Sports</td>\n",
       "      <td>Wii</td>\n",
       "      <td>2006.0</td>\n",
       "      <td>Sports</td>\n",
       "      <td>41.36</td>\n",
       "      <td>28.96</td>\n",
       "      <td>3.77</td>\n",
       "      <td>8.45</td>\n",
       "      <td>76.0</td>\n",
       "      <td>8.0</td>\n",
       "      <td>E</td>\n",
       "      <td>82.54</td>\n",
       "      <td>2006.0</td>\n",
       "    </tr>\n",
       "    <tr>\n",
       "      <th>1</th>\n",
       "      <td>Super Mario Bros.</td>\n",
       "      <td>NES</td>\n",
       "      <td>1985.0</td>\n",
       "      <td>Platform</td>\n",
       "      <td>29.08</td>\n",
       "      <td>3.58</td>\n",
       "      <td>6.81</td>\n",
       "      <td>0.77</td>\n",
       "      <td>NaN</td>\n",
       "      <td>NaN</td>\n",
       "      <td>NaN</td>\n",
       "      <td>40.24</td>\n",
       "      <td>1985.0</td>\n",
       "    </tr>\n",
       "    <tr>\n",
       "      <th>2</th>\n",
       "      <td>Mario Kart Wii</td>\n",
       "      <td>Wii</td>\n",
       "      <td>2008.0</td>\n",
       "      <td>Racing</td>\n",
       "      <td>15.68</td>\n",
       "      <td>12.76</td>\n",
       "      <td>3.79</td>\n",
       "      <td>3.29</td>\n",
       "      <td>82.0</td>\n",
       "      <td>8.3</td>\n",
       "      <td>E</td>\n",
       "      <td>35.52</td>\n",
       "      <td>2008.0</td>\n",
       "    </tr>\n",
       "    <tr>\n",
       "      <th>3</th>\n",
       "      <td>Wii Sports Resort</td>\n",
       "      <td>Wii</td>\n",
       "      <td>2009.0</td>\n",
       "      <td>Sports</td>\n",
       "      <td>15.61</td>\n",
       "      <td>10.93</td>\n",
       "      <td>3.28</td>\n",
       "      <td>2.95</td>\n",
       "      <td>80.0</td>\n",
       "      <td>8.0</td>\n",
       "      <td>E</td>\n",
       "      <td>32.77</td>\n",
       "      <td>2009.0</td>\n",
       "    </tr>\n",
       "    <tr>\n",
       "      <th>4</th>\n",
       "      <td>Pokemon Red/Pokemon Blue</td>\n",
       "      <td>GB</td>\n",
       "      <td>1996.0</td>\n",
       "      <td>Role-Playing</td>\n",
       "      <td>11.27</td>\n",
       "      <td>8.89</td>\n",
       "      <td>10.22</td>\n",
       "      <td>1.00</td>\n",
       "      <td>NaN</td>\n",
       "      <td>NaN</td>\n",
       "      <td>NaN</td>\n",
       "      <td>31.38</td>\n",
       "      <td>1996.0</td>\n",
       "    </tr>\n",
       "  </tbody>\n",
       "</table>\n",
       "</div>"
      ],
      "text/plain": [
       "                       name platform  year_of_release         genre  na_sales  \\\n",
       "0                Wii Sports      Wii           2006.0        Sports     41.36   \n",
       "1         Super Mario Bros.      NES           1985.0      Platform     29.08   \n",
       "2            Mario Kart Wii      Wii           2008.0        Racing     15.68   \n",
       "3         Wii Sports Resort      Wii           2009.0        Sports     15.61   \n",
       "4  Pokemon Red/Pokemon Blue       GB           1996.0  Role-Playing     11.27   \n",
       "\n",
       "   eu_sales  jp_sales  other_sales  critic_score  user_score rating  \\\n",
       "0     28.96      3.77         8.45          76.0         8.0      E   \n",
       "1      3.58      6.81         0.77           NaN         NaN    NaN   \n",
       "2     12.76      3.79         3.29          82.0         8.3      E   \n",
       "3     10.93      3.28         2.95          80.0         8.0      E   \n",
       "4      8.89     10.22         1.00           NaN         NaN    NaN   \n",
       "\n",
       "   total_sales  good_year  \n",
       "0        82.54     2006.0  \n",
       "1        40.24     1985.0  \n",
       "2        35.52     2008.0  \n",
       "3        32.77     2009.0  \n",
       "4        31.38     1996.0  "
      ]
     },
     "execution_count": 62,
     "metadata": {},
     "output_type": "execute_result"
    }
   ],
   "source": [
    "gd.head()"
   ]
  },
  {
   "cell_type": "markdown",
   "metadata": {},
   "source": [
    "A pesar de que se hizo el calculo, en su momento, para reemplazar los valores ausentes de la columna \"user_score\", más adelante se evidenció que no fue correcto el calculo y restaurar los valores ausentes, por lo cuál los mismo se dejaron sin modificación."
   ]
  },
  {
   "cell_type": "markdown",
   "metadata": {},
   "source": [
    "### Restaurar valores ausentes en `Critic_Score`"
   ]
  },
  {
   "cell_type": "code",
   "execution_count": 63,
   "metadata": {},
   "outputs": [
    {
     "data": {
      "text/html": [
       "<div>\n",
       "<style scoped>\n",
       "    .dataframe tbody tr th:only-of-type {\n",
       "        vertical-align: middle;\n",
       "    }\n",
       "\n",
       "    .dataframe tbody tr th {\n",
       "        vertical-align: top;\n",
       "    }\n",
       "\n",
       "    .dataframe thead th {\n",
       "        text-align: right;\n",
       "    }\n",
       "</style>\n",
       "<table border=\"1\" class=\"dataframe\">\n",
       "  <thead>\n",
       "    <tr style=\"text-align: right;\">\n",
       "      <th></th>\n",
       "      <th>critic_score</th>\n",
       "    </tr>\n",
       "    <tr>\n",
       "      <th>platform</th>\n",
       "      <th></th>\n",
       "    </tr>\n",
       "  </thead>\n",
       "  <tbody>\n",
       "    <tr>\n",
       "      <th>3DS</th>\n",
       "      <td>68.064516</td>\n",
       "    </tr>\n",
       "    <tr>\n",
       "      <th>DC</th>\n",
       "      <td>87.357143</td>\n",
       "    </tr>\n",
       "    <tr>\n",
       "      <th>DS</th>\n",
       "      <td>66.523707</td>\n",
       "    </tr>\n",
       "    <tr>\n",
       "      <th>GBA</th>\n",
       "      <td>70.400844</td>\n",
       "    </tr>\n",
       "    <tr>\n",
       "      <th>GC</th>\n",
       "      <td>71.204023</td>\n",
       "    </tr>\n",
       "    <tr>\n",
       "      <th>PC</th>\n",
       "      <td>76.216258</td>\n",
       "    </tr>\n",
       "    <tr>\n",
       "      <th>PS</th>\n",
       "      <td>73.853333</td>\n",
       "    </tr>\n",
       "    <tr>\n",
       "      <th>PS2</th>\n",
       "      <td>69.492105</td>\n",
       "    </tr>\n",
       "    <tr>\n",
       "      <th>PS3</th>\n",
       "      <td>70.953186</td>\n",
       "    </tr>\n",
       "    <tr>\n",
       "      <th>PS4</th>\n",
       "      <td>72.669456</td>\n",
       "    </tr>\n",
       "    <tr>\n",
       "      <th>PSP</th>\n",
       "      <td>68.797436</td>\n",
       "    </tr>\n",
       "    <tr>\n",
       "      <th>PSV</th>\n",
       "      <td>70.737288</td>\n",
       "    </tr>\n",
       "    <tr>\n",
       "      <th>Wii</th>\n",
       "      <td>64.175365</td>\n",
       "    </tr>\n",
       "    <tr>\n",
       "      <th>WiiU</th>\n",
       "      <td>70.674157</td>\n",
       "    </tr>\n",
       "    <tr>\n",
       "      <th>X360</th>\n",
       "      <td>69.041958</td>\n",
       "    </tr>\n",
       "    <tr>\n",
       "      <th>XB</th>\n",
       "      <td>71.607080</td>\n",
       "    </tr>\n",
       "    <tr>\n",
       "      <th>XOne</th>\n",
       "      <td>73.729560</td>\n",
       "    </tr>\n",
       "  </tbody>\n",
       "</table>\n",
       "</div>"
      ],
      "text/plain": [
       "          critic_score\n",
       "platform              \n",
       "3DS          68.064516\n",
       "DC           87.357143\n",
       "DS           66.523707\n",
       "GBA          70.400844\n",
       "GC           71.204023\n",
       "PC           76.216258\n",
       "PS           73.853333\n",
       "PS2          69.492105\n",
       "PS3          70.953186\n",
       "PS4          72.669456\n",
       "PSP          68.797436\n",
       "PSV          70.737288\n",
       "Wii          64.175365\n",
       "WiiU         70.674157\n",
       "X360         69.041958\n",
       "XB           71.607080\n",
       "XOne         73.729560"
      ]
     },
     "execution_count": 63,
     "metadata": {},
     "output_type": "execute_result"
    }
   ],
   "source": [
    "v = gd_notnan.pivot_table(index=\"platform\", values=\"critic_score\", aggfunc=\"mean\")\n",
    "v"
   ]
  },
  {
   "cell_type": "code",
   "execution_count": 64,
   "metadata": {},
   "outputs": [
    {
     "data": {
      "text/plain": [
       "72.66945606694561"
      ]
     },
     "execution_count": 64,
     "metadata": {},
     "output_type": "execute_result"
    }
   ],
   "source": [
    "v[\"critic_score\"][\"PS4\"]"
   ]
  },
  {
   "cell_type": "code",
   "execution_count": 65,
   "metadata": {},
   "outputs": [],
   "source": [
    "#Función que usaremos para completar los valores ausentes\n",
    "def scores(row):\n",
    "    critic_score = row[\"critic_score\"]\n",
    "    platform = row[\"platform\"]\n",
    "    if pd.isna(critic_score):\n",
    "        try:\n",
    "            return v[\"critic_score\"][platform]\n",
    "        except:\n",
    "            return v[\"critic_score\"].median()\n",
    "    return critic_score"
   ]
  },
  {
   "cell_type": "code",
   "execution_count": 66,
   "metadata": {},
   "outputs": [
    {
     "data": {
      "text/plain": [
       "0"
      ]
     },
     "execution_count": 66,
     "metadata": {},
     "output_type": "execute_result"
    }
   ],
   "source": [
    "gd.apply(scores, axis=1).isna().sum()"
   ]
  },
  {
   "cell_type": "code",
   "execution_count": 67,
   "metadata": {},
   "outputs": [
    {
     "data": {
      "text/html": [
       "<div>\n",
       "<style scoped>\n",
       "    .dataframe tbody tr th:only-of-type {\n",
       "        vertical-align: middle;\n",
       "    }\n",
       "\n",
       "    .dataframe tbody tr th {\n",
       "        vertical-align: top;\n",
       "    }\n",
       "\n",
       "    .dataframe thead th {\n",
       "        text-align: right;\n",
       "    }\n",
       "</style>\n",
       "<table border=\"1\" class=\"dataframe\">\n",
       "  <thead>\n",
       "    <tr style=\"text-align: right;\">\n",
       "      <th></th>\n",
       "      <th>name</th>\n",
       "      <th>platform</th>\n",
       "      <th>year_of_release</th>\n",
       "      <th>genre</th>\n",
       "      <th>na_sales</th>\n",
       "      <th>eu_sales</th>\n",
       "      <th>jp_sales</th>\n",
       "      <th>other_sales</th>\n",
       "      <th>critic_score</th>\n",
       "      <th>user_score</th>\n",
       "      <th>rating</th>\n",
       "      <th>total_sales</th>\n",
       "      <th>good_year</th>\n",
       "    </tr>\n",
       "  </thead>\n",
       "  <tbody>\n",
       "    <tr>\n",
       "      <th>0</th>\n",
       "      <td>Wii Sports</td>\n",
       "      <td>Wii</td>\n",
       "      <td>2006.0</td>\n",
       "      <td>Sports</td>\n",
       "      <td>41.36</td>\n",
       "      <td>28.96</td>\n",
       "      <td>3.77</td>\n",
       "      <td>8.45</td>\n",
       "      <td>76.0</td>\n",
       "      <td>8.0</td>\n",
       "      <td>E</td>\n",
       "      <td>82.54</td>\n",
       "      <td>2006.0</td>\n",
       "    </tr>\n",
       "    <tr>\n",
       "      <th>1</th>\n",
       "      <td>Super Mario Bros.</td>\n",
       "      <td>NES</td>\n",
       "      <td>1985.0</td>\n",
       "      <td>Platform</td>\n",
       "      <td>29.08</td>\n",
       "      <td>3.58</td>\n",
       "      <td>6.81</td>\n",
       "      <td>0.77</td>\n",
       "      <td>NaN</td>\n",
       "      <td>NaN</td>\n",
       "      <td>NaN</td>\n",
       "      <td>40.24</td>\n",
       "      <td>1985.0</td>\n",
       "    </tr>\n",
       "    <tr>\n",
       "      <th>2</th>\n",
       "      <td>Mario Kart Wii</td>\n",
       "      <td>Wii</td>\n",
       "      <td>2008.0</td>\n",
       "      <td>Racing</td>\n",
       "      <td>15.68</td>\n",
       "      <td>12.76</td>\n",
       "      <td>3.79</td>\n",
       "      <td>3.29</td>\n",
       "      <td>82.0</td>\n",
       "      <td>8.3</td>\n",
       "      <td>E</td>\n",
       "      <td>35.52</td>\n",
       "      <td>2008.0</td>\n",
       "    </tr>\n",
       "    <tr>\n",
       "      <th>3</th>\n",
       "      <td>Wii Sports Resort</td>\n",
       "      <td>Wii</td>\n",
       "      <td>2009.0</td>\n",
       "      <td>Sports</td>\n",
       "      <td>15.61</td>\n",
       "      <td>10.93</td>\n",
       "      <td>3.28</td>\n",
       "      <td>2.95</td>\n",
       "      <td>80.0</td>\n",
       "      <td>8.0</td>\n",
       "      <td>E</td>\n",
       "      <td>32.77</td>\n",
       "      <td>2009.0</td>\n",
       "    </tr>\n",
       "    <tr>\n",
       "      <th>4</th>\n",
       "      <td>Pokemon Red/Pokemon Blue</td>\n",
       "      <td>GB</td>\n",
       "      <td>1996.0</td>\n",
       "      <td>Role-Playing</td>\n",
       "      <td>11.27</td>\n",
       "      <td>8.89</td>\n",
       "      <td>10.22</td>\n",
       "      <td>1.00</td>\n",
       "      <td>NaN</td>\n",
       "      <td>NaN</td>\n",
       "      <td>NaN</td>\n",
       "      <td>31.38</td>\n",
       "      <td>1996.0</td>\n",
       "    </tr>\n",
       "  </tbody>\n",
       "</table>\n",
       "</div>"
      ],
      "text/plain": [
       "                       name platform  year_of_release         genre  na_sales  \\\n",
       "0                Wii Sports      Wii           2006.0        Sports     41.36   \n",
       "1         Super Mario Bros.      NES           1985.0      Platform     29.08   \n",
       "2            Mario Kart Wii      Wii           2008.0        Racing     15.68   \n",
       "3         Wii Sports Resort      Wii           2009.0        Sports     15.61   \n",
       "4  Pokemon Red/Pokemon Blue       GB           1996.0  Role-Playing     11.27   \n",
       "\n",
       "   eu_sales  jp_sales  other_sales  critic_score  user_score rating  \\\n",
       "0     28.96      3.77         8.45          76.0         8.0      E   \n",
       "1      3.58      6.81         0.77           NaN         NaN    NaN   \n",
       "2     12.76      3.79         3.29          82.0         8.3      E   \n",
       "3     10.93      3.28         2.95          80.0         8.0      E   \n",
       "4      8.89     10.22         1.00           NaN         NaN    NaN   \n",
       "\n",
       "   total_sales  good_year  \n",
       "0        82.54     2006.0  \n",
       "1        40.24     1985.0  \n",
       "2        35.52     2008.0  \n",
       "3        32.77     2009.0  \n",
       "4        31.38     1996.0  "
      ]
     },
     "execution_count": 67,
     "metadata": {},
     "output_type": "execute_result"
    }
   ],
   "source": [
    "gd.head()"
   ]
  },
  {
   "cell_type": "markdown",
   "metadata": {},
   "source": [
    "A pesar de que se hizo el calculo, en su momento, para reemplazar los valores ausentes de la columna \"critic_score\", más adelante se evidenció que no fue correcto el calculo y restaurar los valores ausentes, por lo cuál los mismo se dejaron sin modificación."
   ]
  },
  {
   "cell_type": "markdown",
   "metadata": {},
   "source": [
    "### Restaurar valores ausentes en `Rating`"
   ]
  },
  {
   "cell_type": "code",
   "execution_count": 68,
   "metadata": {},
   "outputs": [],
   "source": [
    "gd_notnan = gd.dropna()"
   ]
  },
  {
   "cell_type": "code",
   "execution_count": 69,
   "metadata": {},
   "outputs": [],
   "source": [
    "# Vamos a escribir una función que calcule la categoría de edad\n",
    "def age_category(rating):\n",
    "    if rating == \"AO\":\n",
    "        return \"+18\"\n",
    "    elif rating == \"E\":\n",
    "        return \"Todos\"\n",
    "    elif rating == \"E10+\":\n",
    "        return \"+10\"\n",
    "    elif rating == \"EC\":\n",
    "        return \"+3\"\n",
    "    elif rating == \"M\":\n",
    "        return \"+17\"\n",
    "    elif rating == \"RP\":\n",
    "        return \"Aún sin calificar\"\n",
    "    elif rating == \"T\":\n",
    "        return \"Adolescentes\"\n",
    "    else:\n",
    "        return \"Sin información\""
   ]
  },
  {
   "cell_type": "code",
   "execution_count": 70,
   "metadata": {},
   "outputs": [
    {
     "name": "stdout",
     "output_type": "stream",
     "text": [
      "+18\n"
     ]
    }
   ],
   "source": [
    "print(age_category(\"AO\"))"
   ]
  },
  {
   "cell_type": "code",
   "execution_count": 71,
   "metadata": {},
   "outputs": [],
   "source": [
    "# Creando una nueva columna basada en la función\n",
    "gd_notnan[\"rating_category\"] = gd_notnan[\"rating\"].apply(age_category)"
   ]
  },
  {
   "cell_type": "code",
   "execution_count": 72,
   "metadata": {},
   "outputs": [
    {
     "data": {
      "text/html": [
       "<div>\n",
       "<style scoped>\n",
       "    .dataframe tbody tr th:only-of-type {\n",
       "        vertical-align: middle;\n",
       "    }\n",
       "\n",
       "    .dataframe tbody tr th {\n",
       "        vertical-align: top;\n",
       "    }\n",
       "\n",
       "    .dataframe thead th {\n",
       "        text-align: right;\n",
       "    }\n",
       "</style>\n",
       "<table border=\"1\" class=\"dataframe\">\n",
       "  <thead>\n",
       "    <tr style=\"text-align: right;\">\n",
       "      <th></th>\n",
       "      <th>name</th>\n",
       "      <th>platform</th>\n",
       "      <th>year_of_release</th>\n",
       "      <th>genre</th>\n",
       "      <th>na_sales</th>\n",
       "      <th>eu_sales</th>\n",
       "      <th>jp_sales</th>\n",
       "      <th>other_sales</th>\n",
       "      <th>critic_score</th>\n",
       "      <th>user_score</th>\n",
       "      <th>rating</th>\n",
       "      <th>total_sales</th>\n",
       "      <th>good_year</th>\n",
       "      <th>rating_category</th>\n",
       "    </tr>\n",
       "  </thead>\n",
       "  <tbody>\n",
       "    <tr>\n",
       "      <th>0</th>\n",
       "      <td>Wii Sports</td>\n",
       "      <td>Wii</td>\n",
       "      <td>2006.0</td>\n",
       "      <td>Sports</td>\n",
       "      <td>41.36</td>\n",
       "      <td>28.96</td>\n",
       "      <td>3.77</td>\n",
       "      <td>8.45</td>\n",
       "      <td>76.0</td>\n",
       "      <td>8.0</td>\n",
       "      <td>E</td>\n",
       "      <td>82.54</td>\n",
       "      <td>2006.0</td>\n",
       "      <td>Todos</td>\n",
       "    </tr>\n",
       "    <tr>\n",
       "      <th>2</th>\n",
       "      <td>Mario Kart Wii</td>\n",
       "      <td>Wii</td>\n",
       "      <td>2008.0</td>\n",
       "      <td>Racing</td>\n",
       "      <td>15.68</td>\n",
       "      <td>12.76</td>\n",
       "      <td>3.79</td>\n",
       "      <td>3.29</td>\n",
       "      <td>82.0</td>\n",
       "      <td>8.3</td>\n",
       "      <td>E</td>\n",
       "      <td>35.52</td>\n",
       "      <td>2008.0</td>\n",
       "      <td>Todos</td>\n",
       "    </tr>\n",
       "    <tr>\n",
       "      <th>3</th>\n",
       "      <td>Wii Sports Resort</td>\n",
       "      <td>Wii</td>\n",
       "      <td>2009.0</td>\n",
       "      <td>Sports</td>\n",
       "      <td>15.61</td>\n",
       "      <td>10.93</td>\n",
       "      <td>3.28</td>\n",
       "      <td>2.95</td>\n",
       "      <td>80.0</td>\n",
       "      <td>8.0</td>\n",
       "      <td>E</td>\n",
       "      <td>32.77</td>\n",
       "      <td>2009.0</td>\n",
       "      <td>Todos</td>\n",
       "    </tr>\n",
       "    <tr>\n",
       "      <th>6</th>\n",
       "      <td>New Super Mario Bros.</td>\n",
       "      <td>DS</td>\n",
       "      <td>2006.0</td>\n",
       "      <td>Platform</td>\n",
       "      <td>11.28</td>\n",
       "      <td>9.14</td>\n",
       "      <td>6.50</td>\n",
       "      <td>2.88</td>\n",
       "      <td>89.0</td>\n",
       "      <td>8.5</td>\n",
       "      <td>E</td>\n",
       "      <td>29.80</td>\n",
       "      <td>2006.0</td>\n",
       "      <td>Todos</td>\n",
       "    </tr>\n",
       "    <tr>\n",
       "      <th>7</th>\n",
       "      <td>Wii Play</td>\n",
       "      <td>Wii</td>\n",
       "      <td>2006.0</td>\n",
       "      <td>Misc</td>\n",
       "      <td>13.96</td>\n",
       "      <td>9.18</td>\n",
       "      <td>2.93</td>\n",
       "      <td>2.84</td>\n",
       "      <td>58.0</td>\n",
       "      <td>6.6</td>\n",
       "      <td>E</td>\n",
       "      <td>28.91</td>\n",
       "      <td>2006.0</td>\n",
       "      <td>Todos</td>\n",
       "    </tr>\n",
       "  </tbody>\n",
       "</table>\n",
       "</div>"
      ],
      "text/plain": [
       "                    name platform  year_of_release     genre  na_sales  \\\n",
       "0             Wii Sports      Wii           2006.0    Sports     41.36   \n",
       "2         Mario Kart Wii      Wii           2008.0    Racing     15.68   \n",
       "3      Wii Sports Resort      Wii           2009.0    Sports     15.61   \n",
       "6  New Super Mario Bros.       DS           2006.0  Platform     11.28   \n",
       "7               Wii Play      Wii           2006.0      Misc     13.96   \n",
       "\n",
       "   eu_sales  jp_sales  other_sales  critic_score  user_score rating  \\\n",
       "0     28.96      3.77         8.45          76.0         8.0      E   \n",
       "2     12.76      3.79         3.29          82.0         8.3      E   \n",
       "3     10.93      3.28         2.95          80.0         8.0      E   \n",
       "6      9.14      6.50         2.88          89.0         8.5      E   \n",
       "7      9.18      2.93         2.84          58.0         6.6      E   \n",
       "\n",
       "   total_sales  good_year rating_category  \n",
       "0        82.54     2006.0           Todos  \n",
       "2        35.52     2008.0           Todos  \n",
       "3        32.77     2009.0           Todos  \n",
       "6        29.80     2006.0           Todos  \n",
       "7        28.91     2006.0           Todos  "
      ]
     },
     "execution_count": 72,
     "metadata": {},
     "output_type": "execute_result"
    }
   ],
   "source": [
    "# Comprobando cómo los valores en la nueva columna\n",
    "gd_notnan.head()"
   ]
  },
  {
   "cell_type": "code",
   "execution_count": 73,
   "metadata": {},
   "outputs": [
    {
     "data": {
      "text/html": [
       "<div>\n",
       "<style scoped>\n",
       "    .dataframe tbody tr th:only-of-type {\n",
       "        vertical-align: middle;\n",
       "    }\n",
       "\n",
       "    .dataframe tbody tr th {\n",
       "        vertical-align: top;\n",
       "    }\n",
       "\n",
       "    .dataframe thead th {\n",
       "        text-align: right;\n",
       "    }\n",
       "</style>\n",
       "<table border=\"1\" class=\"dataframe\">\n",
       "  <thead>\n",
       "    <tr style=\"text-align: right;\">\n",
       "      <th></th>\n",
       "      <th>genre</th>\n",
       "      <th>rating</th>\n",
       "      <th>rating_category</th>\n",
       "    </tr>\n",
       "  </thead>\n",
       "  <tbody>\n",
       "    <tr>\n",
       "      <th>4</th>\n",
       "      <td>Action</td>\n",
       "      <td>T</td>\n",
       "      <td>582</td>\n",
       "    </tr>\n",
       "    <tr>\n",
       "      <th>3</th>\n",
       "      <td>Action</td>\n",
       "      <td>M</td>\n",
       "      <td>557</td>\n",
       "    </tr>\n",
       "    <tr>\n",
       "      <th>2</th>\n",
       "      <td>Action</td>\n",
       "      <td>E10+</td>\n",
       "      <td>299</td>\n",
       "    </tr>\n",
       "    <tr>\n",
       "      <th>1</th>\n",
       "      <td>Action</td>\n",
       "      <td>E</td>\n",
       "      <td>191</td>\n",
       "    </tr>\n",
       "    <tr>\n",
       "      <th>0</th>\n",
       "      <td>Action</td>\n",
       "      <td>AO</td>\n",
       "      <td>1</td>\n",
       "    </tr>\n",
       "  </tbody>\n",
       "</table>\n",
       "</div>"
      ],
      "text/plain": [
       "    genre rating  rating_category\n",
       "4  Action      T              582\n",
       "3  Action      M              557\n",
       "2  Action   E10+              299\n",
       "1  Action      E              191\n",
       "0  Action     AO                1"
      ]
     },
     "execution_count": 73,
     "metadata": {},
     "output_type": "execute_result"
    }
   ],
   "source": [
    "w = (\n",
    "    gd_notnan\n",
    "    .groupby([\"genre\", \"rating\"])[\"rating_category\"]\n",
    "    .count()\n",
    "    .reset_index()\n",
    "    .sort_values(by=[\"genre\", \"rating_category\"], ascending=False)\n",
    ")\n",
    "\n",
    "w.tail()"
   ]
  },
  {
   "cell_type": "code",
   "execution_count": 74,
   "metadata": {},
   "outputs": [],
   "source": [
    "game= w.groupby(\"genre\").head(1).drop(columns=\"rating_category\").set_index(\"genre\")"
   ]
  },
  {
   "cell_type": "code",
   "execution_count": 75,
   "metadata": {},
   "outputs": [
    {
     "data": {
      "text/html": [
       "<div>\n",
       "<style scoped>\n",
       "    .dataframe tbody tr th:only-of-type {\n",
       "        vertical-align: middle;\n",
       "    }\n",
       "\n",
       "    .dataframe tbody tr th {\n",
       "        vertical-align: top;\n",
       "    }\n",
       "\n",
       "    .dataframe thead th {\n",
       "        text-align: right;\n",
       "    }\n",
       "</style>\n",
       "<table border=\"1\" class=\"dataframe\">\n",
       "  <thead>\n",
       "    <tr style=\"text-align: right;\">\n",
       "      <th></th>\n",
       "      <th>rating</th>\n",
       "    </tr>\n",
       "    <tr>\n",
       "      <th>genre</th>\n",
       "      <th></th>\n",
       "    </tr>\n",
       "  </thead>\n",
       "  <tbody>\n",
       "    <tr>\n",
       "      <th>Strategy</th>\n",
       "      <td>T</td>\n",
       "    </tr>\n",
       "    <tr>\n",
       "      <th>Sports</th>\n",
       "      <td>E</td>\n",
       "    </tr>\n",
       "    <tr>\n",
       "      <th>Simulation</th>\n",
       "      <td>T</td>\n",
       "    </tr>\n",
       "    <tr>\n",
       "      <th>Shooter</th>\n",
       "      <td>M</td>\n",
       "    </tr>\n",
       "    <tr>\n",
       "      <th>Role-Playing</th>\n",
       "      <td>T</td>\n",
       "    </tr>\n",
       "    <tr>\n",
       "      <th>Racing</th>\n",
       "      <td>E</td>\n",
       "    </tr>\n",
       "    <tr>\n",
       "      <th>Puzzle</th>\n",
       "      <td>E</td>\n",
       "    </tr>\n",
       "    <tr>\n",
       "      <th>Platform</th>\n",
       "      <td>E</td>\n",
       "    </tr>\n",
       "    <tr>\n",
       "      <th>Misc</th>\n",
       "      <td>E</td>\n",
       "    </tr>\n",
       "    <tr>\n",
       "      <th>Fighting</th>\n",
       "      <td>T</td>\n",
       "    </tr>\n",
       "    <tr>\n",
       "      <th>Adventure</th>\n",
       "      <td>M</td>\n",
       "    </tr>\n",
       "    <tr>\n",
       "      <th>Action</th>\n",
       "      <td>T</td>\n",
       "    </tr>\n",
       "  </tbody>\n",
       "</table>\n",
       "</div>"
      ],
      "text/plain": [
       "             rating\n",
       "genre              \n",
       "Strategy          T\n",
       "Sports            E\n",
       "Simulation        T\n",
       "Shooter           M\n",
       "Role-Playing      T\n",
       "Racing            E\n",
       "Puzzle            E\n",
       "Platform          E\n",
       "Misc              E\n",
       "Fighting          T\n",
       "Adventure         M\n",
       "Action            T"
      ]
     },
     "execution_count": 75,
     "metadata": {},
     "output_type": "execute_result"
    }
   ],
   "source": [
    "game"
   ]
  },
  {
   "cell_type": "code",
   "execution_count": 76,
   "metadata": {},
   "outputs": [],
   "source": [
    "#Función que usaremos para completar los valores ausentes\n",
    "def ratings(row):\n",
    "    rating = row[\"rating\"]\n",
    "    genre = row[\"genre\"]\n",
    "    if pd.isna(rating):\n",
    "        try:\n",
    "            return game[\"rating\"][genre]\n",
    "        except:\n",
    "            return None\n",
    "    return rating"
   ]
  },
  {
   "cell_type": "code",
   "execution_count": 77,
   "metadata": {},
   "outputs": [
    {
     "data": {
      "text/plain": [
       "0"
      ]
     },
     "execution_count": 77,
     "metadata": {},
     "output_type": "execute_result"
    }
   ],
   "source": [
    "# Comprobando si funciona\n",
    "gd.apply(ratings, axis=1).isna().sum()"
   ]
  },
  {
   "cell_type": "code",
   "execution_count": 78,
   "metadata": {},
   "outputs": [
    {
     "data": {
      "text/html": [
       "<div>\n",
       "<style scoped>\n",
       "    .dataframe tbody tr th:only-of-type {\n",
       "        vertical-align: middle;\n",
       "    }\n",
       "\n",
       "    .dataframe tbody tr th {\n",
       "        vertical-align: top;\n",
       "    }\n",
       "\n",
       "    .dataframe thead th {\n",
       "        text-align: right;\n",
       "    }\n",
       "</style>\n",
       "<table border=\"1\" class=\"dataframe\">\n",
       "  <thead>\n",
       "    <tr style=\"text-align: right;\">\n",
       "      <th></th>\n",
       "      <th>name</th>\n",
       "      <th>platform</th>\n",
       "      <th>year_of_release</th>\n",
       "      <th>genre</th>\n",
       "      <th>na_sales</th>\n",
       "      <th>eu_sales</th>\n",
       "      <th>jp_sales</th>\n",
       "      <th>other_sales</th>\n",
       "      <th>critic_score</th>\n",
       "      <th>user_score</th>\n",
       "      <th>rating</th>\n",
       "      <th>total_sales</th>\n",
       "      <th>good_year</th>\n",
       "    </tr>\n",
       "  </thead>\n",
       "  <tbody>\n",
       "    <tr>\n",
       "      <th>0</th>\n",
       "      <td>Wii Sports</td>\n",
       "      <td>Wii</td>\n",
       "      <td>2006.0</td>\n",
       "      <td>Sports</td>\n",
       "      <td>41.36</td>\n",
       "      <td>28.96</td>\n",
       "      <td>3.77</td>\n",
       "      <td>8.45</td>\n",
       "      <td>76.0</td>\n",
       "      <td>8.0</td>\n",
       "      <td>E</td>\n",
       "      <td>82.54</td>\n",
       "      <td>2006.0</td>\n",
       "    </tr>\n",
       "    <tr>\n",
       "      <th>1</th>\n",
       "      <td>Super Mario Bros.</td>\n",
       "      <td>NES</td>\n",
       "      <td>1985.0</td>\n",
       "      <td>Platform</td>\n",
       "      <td>29.08</td>\n",
       "      <td>3.58</td>\n",
       "      <td>6.81</td>\n",
       "      <td>0.77</td>\n",
       "      <td>NaN</td>\n",
       "      <td>NaN</td>\n",
       "      <td>E</td>\n",
       "      <td>40.24</td>\n",
       "      <td>1985.0</td>\n",
       "    </tr>\n",
       "    <tr>\n",
       "      <th>2</th>\n",
       "      <td>Mario Kart Wii</td>\n",
       "      <td>Wii</td>\n",
       "      <td>2008.0</td>\n",
       "      <td>Racing</td>\n",
       "      <td>15.68</td>\n",
       "      <td>12.76</td>\n",
       "      <td>3.79</td>\n",
       "      <td>3.29</td>\n",
       "      <td>82.0</td>\n",
       "      <td>8.3</td>\n",
       "      <td>E</td>\n",
       "      <td>35.52</td>\n",
       "      <td>2008.0</td>\n",
       "    </tr>\n",
       "    <tr>\n",
       "      <th>3</th>\n",
       "      <td>Wii Sports Resort</td>\n",
       "      <td>Wii</td>\n",
       "      <td>2009.0</td>\n",
       "      <td>Sports</td>\n",
       "      <td>15.61</td>\n",
       "      <td>10.93</td>\n",
       "      <td>3.28</td>\n",
       "      <td>2.95</td>\n",
       "      <td>80.0</td>\n",
       "      <td>8.0</td>\n",
       "      <td>E</td>\n",
       "      <td>32.77</td>\n",
       "      <td>2009.0</td>\n",
       "    </tr>\n",
       "    <tr>\n",
       "      <th>4</th>\n",
       "      <td>Pokemon Red/Pokemon Blue</td>\n",
       "      <td>GB</td>\n",
       "      <td>1996.0</td>\n",
       "      <td>Role-Playing</td>\n",
       "      <td>11.27</td>\n",
       "      <td>8.89</td>\n",
       "      <td>10.22</td>\n",
       "      <td>1.00</td>\n",
       "      <td>NaN</td>\n",
       "      <td>NaN</td>\n",
       "      <td>T</td>\n",
       "      <td>31.38</td>\n",
       "      <td>1996.0</td>\n",
       "    </tr>\n",
       "    <tr>\n",
       "      <th>5</th>\n",
       "      <td>Tetris</td>\n",
       "      <td>GB</td>\n",
       "      <td>1989.0</td>\n",
       "      <td>Puzzle</td>\n",
       "      <td>23.20</td>\n",
       "      <td>2.26</td>\n",
       "      <td>4.22</td>\n",
       "      <td>0.58</td>\n",
       "      <td>NaN</td>\n",
       "      <td>NaN</td>\n",
       "      <td>E</td>\n",
       "      <td>30.26</td>\n",
       "      <td>1989.0</td>\n",
       "    </tr>\n",
       "    <tr>\n",
       "      <th>6</th>\n",
       "      <td>New Super Mario Bros.</td>\n",
       "      <td>DS</td>\n",
       "      <td>2006.0</td>\n",
       "      <td>Platform</td>\n",
       "      <td>11.28</td>\n",
       "      <td>9.14</td>\n",
       "      <td>6.50</td>\n",
       "      <td>2.88</td>\n",
       "      <td>89.0</td>\n",
       "      <td>8.5</td>\n",
       "      <td>E</td>\n",
       "      <td>29.80</td>\n",
       "      <td>2006.0</td>\n",
       "    </tr>\n",
       "    <tr>\n",
       "      <th>7</th>\n",
       "      <td>Wii Play</td>\n",
       "      <td>Wii</td>\n",
       "      <td>2006.0</td>\n",
       "      <td>Misc</td>\n",
       "      <td>13.96</td>\n",
       "      <td>9.18</td>\n",
       "      <td>2.93</td>\n",
       "      <td>2.84</td>\n",
       "      <td>58.0</td>\n",
       "      <td>6.6</td>\n",
       "      <td>E</td>\n",
       "      <td>28.91</td>\n",
       "      <td>2006.0</td>\n",
       "    </tr>\n",
       "    <tr>\n",
       "      <th>8</th>\n",
       "      <td>New Super Mario Bros. Wii</td>\n",
       "      <td>Wii</td>\n",
       "      <td>2009.0</td>\n",
       "      <td>Platform</td>\n",
       "      <td>14.44</td>\n",
       "      <td>6.94</td>\n",
       "      <td>4.70</td>\n",
       "      <td>2.24</td>\n",
       "      <td>87.0</td>\n",
       "      <td>8.4</td>\n",
       "      <td>E</td>\n",
       "      <td>28.32</td>\n",
       "      <td>2009.0</td>\n",
       "    </tr>\n",
       "    <tr>\n",
       "      <th>9</th>\n",
       "      <td>Duck Hunt</td>\n",
       "      <td>NES</td>\n",
       "      <td>1984.0</td>\n",
       "      <td>Shooter</td>\n",
       "      <td>26.93</td>\n",
       "      <td>0.63</td>\n",
       "      <td>0.28</td>\n",
       "      <td>0.47</td>\n",
       "      <td>NaN</td>\n",
       "      <td>NaN</td>\n",
       "      <td>M</td>\n",
       "      <td>28.31</td>\n",
       "      <td>1984.0</td>\n",
       "    </tr>\n",
       "  </tbody>\n",
       "</table>\n",
       "</div>"
      ],
      "text/plain": [
       "                        name platform  year_of_release         genre  \\\n",
       "0                 Wii Sports      Wii           2006.0        Sports   \n",
       "1          Super Mario Bros.      NES           1985.0      Platform   \n",
       "2             Mario Kart Wii      Wii           2008.0        Racing   \n",
       "3          Wii Sports Resort      Wii           2009.0        Sports   \n",
       "4   Pokemon Red/Pokemon Blue       GB           1996.0  Role-Playing   \n",
       "5                     Tetris       GB           1989.0        Puzzle   \n",
       "6      New Super Mario Bros.       DS           2006.0      Platform   \n",
       "7                   Wii Play      Wii           2006.0          Misc   \n",
       "8  New Super Mario Bros. Wii      Wii           2009.0      Platform   \n",
       "9                  Duck Hunt      NES           1984.0       Shooter   \n",
       "\n",
       "   na_sales  eu_sales  jp_sales  other_sales  critic_score  user_score rating  \\\n",
       "0     41.36     28.96      3.77         8.45          76.0         8.0      E   \n",
       "1     29.08      3.58      6.81         0.77           NaN         NaN      E   \n",
       "2     15.68     12.76      3.79         3.29          82.0         8.3      E   \n",
       "3     15.61     10.93      3.28         2.95          80.0         8.0      E   \n",
       "4     11.27      8.89     10.22         1.00           NaN         NaN      T   \n",
       "5     23.20      2.26      4.22         0.58           NaN         NaN      E   \n",
       "6     11.28      9.14      6.50         2.88          89.0         8.5      E   \n",
       "7     13.96      9.18      2.93         2.84          58.0         6.6      E   \n",
       "8     14.44      6.94      4.70         2.24          87.0         8.4      E   \n",
       "9     26.93      0.63      0.28         0.47           NaN         NaN      M   \n",
       "\n",
       "   total_sales  good_year  \n",
       "0        82.54     2006.0  \n",
       "1        40.24     1985.0  \n",
       "2        35.52     2008.0  \n",
       "3        32.77     2009.0  \n",
       "4        31.38     1996.0  \n",
       "5        30.26     1989.0  \n",
       "6        29.80     2006.0  \n",
       "7        28.91     2006.0  \n",
       "8        28.32     2009.0  \n",
       "9        28.31     1984.0  "
      ]
     },
     "execution_count": 78,
     "metadata": {},
     "output_type": "execute_result"
    }
   ],
   "source": [
    "# Aplicando la función al income_type\n",
    "gd[\"rating\"] = gd.apply(ratings, axis=1)\n",
    "gd.head(10)"
   ]
  },
  {
   "cell_type": "code",
   "execution_count": 79,
   "metadata": {},
   "outputs": [
    {
     "data": {
      "text/html": [
       "<div>\n",
       "<style scoped>\n",
       "    .dataframe tbody tr th:only-of-type {\n",
       "        vertical-align: middle;\n",
       "    }\n",
       "\n",
       "    .dataframe tbody tr th {\n",
       "        vertical-align: top;\n",
       "    }\n",
       "\n",
       "    .dataframe thead th {\n",
       "        text-align: right;\n",
       "    }\n",
       "</style>\n",
       "<table border=\"1\" class=\"dataframe\">\n",
       "  <thead>\n",
       "    <tr style=\"text-align: right;\">\n",
       "      <th></th>\n",
       "      <th>name</th>\n",
       "      <th>platform</th>\n",
       "      <th>year_of_release</th>\n",
       "      <th>genre</th>\n",
       "      <th>na_sales</th>\n",
       "      <th>eu_sales</th>\n",
       "      <th>jp_sales</th>\n",
       "      <th>other_sales</th>\n",
       "      <th>critic_score</th>\n",
       "      <th>user_score</th>\n",
       "      <th>rating</th>\n",
       "      <th>total_sales</th>\n",
       "      <th>good_year</th>\n",
       "    </tr>\n",
       "  </thead>\n",
       "  <tbody>\n",
       "  </tbody>\n",
       "</table>\n",
       "</div>"
      ],
      "text/plain": [
       "Empty DataFrame\n",
       "Columns: [name, platform, year_of_release, genre, na_sales, eu_sales, jp_sales, other_sales, critic_score, user_score, rating, total_sales, good_year]\n",
       "Index: []"
      ]
     },
     "execution_count": 79,
     "metadata": {},
     "output_type": "execute_result"
    }
   ],
   "source": [
    "# Comprobando si la función funcionó\n",
    "gd.loc[gd[\"rating\"].isna()]"
   ]
  },
  {
   "cell_type": "code",
   "execution_count": 80,
   "metadata": {},
   "outputs": [
    {
     "data": {
      "text/plain": [
       "array(['E', 'T', 'M', 'E10+', 'K-A', 'AO', 'EC', 'RP'], dtype=object)"
      ]
     },
     "execution_count": 80,
     "metadata": {},
     "output_type": "execute_result"
    }
   ],
   "source": [
    "gd[\"rating\"].unique()"
   ]
  },
  {
   "cell_type": "markdown",
   "metadata": {},
   "source": [
    "Se crearon categorias para cada rating con lo que significa cada una de ellas (según investigaciones del analista), se incluyó al DataFrame la columna \"rating_category\", esta nos permitió ver mediante una agrupación, los ratings por genero que más se repeten (moda), tomar el valor más alto y rellenar los valores ausentes de la columna rating."
   ]
  },
  {
   "cell_type": "markdown",
   "metadata": {},
   "source": [
    "[Volver a Contenidos](#back)"
   ]
  },
  {
   "cell_type": "markdown",
   "metadata": {},
   "source": [
    "## Corregiendo los datos <a id='corregiendo_los_datos'></a>"
   ]
  },
  {
   "cell_type": "code",
   "execution_count": 81,
   "metadata": {},
   "outputs": [],
   "source": [
    "# Dandole atributo a la columna year_t\n",
    "gd[\"year_t\"] = pd.to_datetime(gd[\"year_of_release\"], format=\"%Y\")"
   ]
  },
  {
   "cell_type": "code",
   "execution_count": 82,
   "metadata": {},
   "outputs": [],
   "source": [
    "# Transformando TBD\n",
    "gd.loc[gd[\"user_score\"] == \"TBD\", \"user_score\"] =  float(\"NaN\")"
   ]
  },
  {
   "cell_type": "code",
   "execution_count": 83,
   "metadata": {
    "scrolled": true
   },
   "outputs": [
    {
     "name": "stdout",
     "output_type": "stream",
     "text": [
      "<class 'pandas.core.frame.DataFrame'>\n",
      "Int64Index: 16713 entries, 0 to 16714\n",
      "Data columns (total 14 columns):\n",
      " #   Column           Non-Null Count  Dtype         \n",
      "---  ------           --------------  -----         \n",
      " 0   name             16713 non-null  object        \n",
      " 1   platform         16713 non-null  object        \n",
      " 2   year_of_release  16444 non-null  float64       \n",
      " 3   genre            16713 non-null  object        \n",
      " 4   na_sales         16713 non-null  float64       \n",
      " 5   eu_sales         16713 non-null  float64       \n",
      " 6   jp_sales         16713 non-null  float64       \n",
      " 7   other_sales      16713 non-null  float64       \n",
      " 8   critic_score     8137 non-null   float64       \n",
      " 9   user_score       7590 non-null   float64       \n",
      " 10  rating           16713 non-null  object        \n",
      " 11  total_sales      16713 non-null  float64       \n",
      " 12  good_year        16713 non-null  float64       \n",
      " 13  year_t           16444 non-null  datetime64[ns]\n",
      "dtypes: datetime64[ns](1), float64(9), object(4)\n",
      "memory usage: 1.9+ MB\n"
     ]
    }
   ],
   "source": [
    "gd.info()"
   ]
  },
  {
   "cell_type": "code",
   "execution_count": 84,
   "metadata": {},
   "outputs": [
    {
     "data": {
      "text/html": [
       "<div>\n",
       "<style scoped>\n",
       "    .dataframe tbody tr th:only-of-type {\n",
       "        vertical-align: middle;\n",
       "    }\n",
       "\n",
       "    .dataframe tbody tr th {\n",
       "        vertical-align: top;\n",
       "    }\n",
       "\n",
       "    .dataframe thead th {\n",
       "        text-align: right;\n",
       "    }\n",
       "</style>\n",
       "<table border=\"1\" class=\"dataframe\">\n",
       "  <thead>\n",
       "    <tr style=\"text-align: right;\">\n",
       "      <th></th>\n",
       "      <th>name</th>\n",
       "      <th>platform</th>\n",
       "      <th>year_of_release</th>\n",
       "      <th>genre</th>\n",
       "      <th>na_sales</th>\n",
       "      <th>eu_sales</th>\n",
       "      <th>jp_sales</th>\n",
       "      <th>other_sales</th>\n",
       "      <th>critic_score</th>\n",
       "      <th>user_score</th>\n",
       "      <th>rating</th>\n",
       "      <th>total_sales</th>\n",
       "      <th>good_year</th>\n",
       "      <th>year_t</th>\n",
       "    </tr>\n",
       "  </thead>\n",
       "  <tbody>\n",
       "    <tr>\n",
       "      <th>0</th>\n",
       "      <td>Wii Sports</td>\n",
       "      <td>Wii</td>\n",
       "      <td>2006.0</td>\n",
       "      <td>Sports</td>\n",
       "      <td>41.36</td>\n",
       "      <td>28.96</td>\n",
       "      <td>3.77</td>\n",
       "      <td>8.45</td>\n",
       "      <td>76.0</td>\n",
       "      <td>8.0</td>\n",
       "      <td>E</td>\n",
       "      <td>82.54</td>\n",
       "      <td>2006.0</td>\n",
       "      <td>2006-01-01</td>\n",
       "    </tr>\n",
       "    <tr>\n",
       "      <th>1</th>\n",
       "      <td>Super Mario Bros.</td>\n",
       "      <td>NES</td>\n",
       "      <td>1985.0</td>\n",
       "      <td>Platform</td>\n",
       "      <td>29.08</td>\n",
       "      <td>3.58</td>\n",
       "      <td>6.81</td>\n",
       "      <td>0.77</td>\n",
       "      <td>NaN</td>\n",
       "      <td>NaN</td>\n",
       "      <td>E</td>\n",
       "      <td>40.24</td>\n",
       "      <td>1985.0</td>\n",
       "      <td>1985-01-01</td>\n",
       "    </tr>\n",
       "    <tr>\n",
       "      <th>2</th>\n",
       "      <td>Mario Kart Wii</td>\n",
       "      <td>Wii</td>\n",
       "      <td>2008.0</td>\n",
       "      <td>Racing</td>\n",
       "      <td>15.68</td>\n",
       "      <td>12.76</td>\n",
       "      <td>3.79</td>\n",
       "      <td>3.29</td>\n",
       "      <td>82.0</td>\n",
       "      <td>8.3</td>\n",
       "      <td>E</td>\n",
       "      <td>35.52</td>\n",
       "      <td>2008.0</td>\n",
       "      <td>2008-01-01</td>\n",
       "    </tr>\n",
       "    <tr>\n",
       "      <th>3</th>\n",
       "      <td>Wii Sports Resort</td>\n",
       "      <td>Wii</td>\n",
       "      <td>2009.0</td>\n",
       "      <td>Sports</td>\n",
       "      <td>15.61</td>\n",
       "      <td>10.93</td>\n",
       "      <td>3.28</td>\n",
       "      <td>2.95</td>\n",
       "      <td>80.0</td>\n",
       "      <td>8.0</td>\n",
       "      <td>E</td>\n",
       "      <td>32.77</td>\n",
       "      <td>2009.0</td>\n",
       "      <td>2009-01-01</td>\n",
       "    </tr>\n",
       "    <tr>\n",
       "      <th>4</th>\n",
       "      <td>Pokemon Red/Pokemon Blue</td>\n",
       "      <td>GB</td>\n",
       "      <td>1996.0</td>\n",
       "      <td>Role-Playing</td>\n",
       "      <td>11.27</td>\n",
       "      <td>8.89</td>\n",
       "      <td>10.22</td>\n",
       "      <td>1.00</td>\n",
       "      <td>NaN</td>\n",
       "      <td>NaN</td>\n",
       "      <td>T</td>\n",
       "      <td>31.38</td>\n",
       "      <td>1996.0</td>\n",
       "      <td>1996-01-01</td>\n",
       "    </tr>\n",
       "  </tbody>\n",
       "</table>\n",
       "</div>"
      ],
      "text/plain": [
       "                       name platform  year_of_release         genre  na_sales  \\\n",
       "0                Wii Sports      Wii           2006.0        Sports     41.36   \n",
       "1         Super Mario Bros.      NES           1985.0      Platform     29.08   \n",
       "2            Mario Kart Wii      Wii           2008.0        Racing     15.68   \n",
       "3         Wii Sports Resort      Wii           2009.0        Sports     15.61   \n",
       "4  Pokemon Red/Pokemon Blue       GB           1996.0  Role-Playing     11.27   \n",
       "\n",
       "   eu_sales  jp_sales  other_sales  critic_score  user_score rating  \\\n",
       "0     28.96      3.77         8.45          76.0         8.0      E   \n",
       "1      3.58      6.81         0.77           NaN         NaN      E   \n",
       "2     12.76      3.79         3.29          82.0         8.3      E   \n",
       "3     10.93      3.28         2.95          80.0         8.0      E   \n",
       "4      8.89     10.22         1.00           NaN         NaN      T   \n",
       "\n",
       "   total_sales  good_year     year_t  \n",
       "0        82.54     2006.0 2006-01-01  \n",
       "1        40.24     1985.0 1985-01-01  \n",
       "2        35.52     2008.0 2008-01-01  \n",
       "3        32.77     2009.0 2009-01-01  \n",
       "4        31.38     1996.0 1996-01-01  "
      ]
     },
     "execution_count": 84,
     "metadata": {},
     "output_type": "execute_result"
    }
   ],
   "source": [
    "gd.head()"
   ]
  },
  {
   "cell_type": "code",
   "execution_count": 85,
   "metadata": {},
   "outputs": [
    {
     "data": {
      "text/plain": [
       "1980.0"
      ]
     },
     "execution_count": 85,
     "metadata": {},
     "output_type": "execute_result"
    }
   ],
   "source": [
    "gd[\"year_of_release\"].min()"
   ]
  },
  {
   "cell_type": "code",
   "execution_count": 86,
   "metadata": {},
   "outputs": [
    {
     "data": {
      "text/plain": [
       "2016.0"
      ]
     },
     "execution_count": 86,
     "metadata": {},
     "output_type": "execute_result"
    }
   ],
   "source": [
    "gd[\"year_of_release\"].max()"
   ]
  },
  {
   "cell_type": "code",
   "execution_count": 87,
   "metadata": {},
   "outputs": [],
   "source": [
    "# Vamos a escribir una función que calcule la categoría por decada\n",
    "def year_category(years):\n",
    "    if years < 1990:\n",
    "        return \"1980-1989\"\n",
    "    elif years < 2000:\n",
    "        return \"1990-1999\"\n",
    "    elif years < 2010:\n",
    "        return \"2000-2009\"\n",
    "    elif years < 2017:\n",
    "        return \"2010-2016\"\n",
    "    elif years < 70:\n",
    "        return \"60-69\"\n",
    "    else:\n",
    "        return \"2010-2016\""
   ]
  },
  {
   "cell_type": "code",
   "execution_count": 88,
   "metadata": {},
   "outputs": [
    {
     "data": {
      "text/html": [
       "<div>\n",
       "<style scoped>\n",
       "    .dataframe tbody tr th:only-of-type {\n",
       "        vertical-align: middle;\n",
       "    }\n",
       "\n",
       "    .dataframe tbody tr th {\n",
       "        vertical-align: top;\n",
       "    }\n",
       "\n",
       "    .dataframe thead th {\n",
       "        text-align: right;\n",
       "    }\n",
       "</style>\n",
       "<table border=\"1\" class=\"dataframe\">\n",
       "  <thead>\n",
       "    <tr style=\"text-align: right;\">\n",
       "      <th></th>\n",
       "      <th>name</th>\n",
       "      <th>platform</th>\n",
       "      <th>year_of_release</th>\n",
       "      <th>genre</th>\n",
       "      <th>na_sales</th>\n",
       "      <th>eu_sales</th>\n",
       "      <th>jp_sales</th>\n",
       "      <th>other_sales</th>\n",
       "      <th>critic_score</th>\n",
       "      <th>user_score</th>\n",
       "      <th>rating</th>\n",
       "      <th>total_sales</th>\n",
       "      <th>good_year</th>\n",
       "      <th>year_t</th>\n",
       "      <th>year_category</th>\n",
       "    </tr>\n",
       "  </thead>\n",
       "  <tbody>\n",
       "    <tr>\n",
       "      <th>0</th>\n",
       "      <td>Wii Sports</td>\n",
       "      <td>Wii</td>\n",
       "      <td>2006.0</td>\n",
       "      <td>Sports</td>\n",
       "      <td>41.36</td>\n",
       "      <td>28.96</td>\n",
       "      <td>3.77</td>\n",
       "      <td>8.45</td>\n",
       "      <td>76.0</td>\n",
       "      <td>8.0</td>\n",
       "      <td>E</td>\n",
       "      <td>82.54</td>\n",
       "      <td>2006.0</td>\n",
       "      <td>2006-01-01</td>\n",
       "      <td>2000-2009</td>\n",
       "    </tr>\n",
       "    <tr>\n",
       "      <th>1</th>\n",
       "      <td>Super Mario Bros.</td>\n",
       "      <td>NES</td>\n",
       "      <td>1985.0</td>\n",
       "      <td>Platform</td>\n",
       "      <td>29.08</td>\n",
       "      <td>3.58</td>\n",
       "      <td>6.81</td>\n",
       "      <td>0.77</td>\n",
       "      <td>NaN</td>\n",
       "      <td>NaN</td>\n",
       "      <td>E</td>\n",
       "      <td>40.24</td>\n",
       "      <td>1985.0</td>\n",
       "      <td>1985-01-01</td>\n",
       "      <td>1980-1989</td>\n",
       "    </tr>\n",
       "    <tr>\n",
       "      <th>2</th>\n",
       "      <td>Mario Kart Wii</td>\n",
       "      <td>Wii</td>\n",
       "      <td>2008.0</td>\n",
       "      <td>Racing</td>\n",
       "      <td>15.68</td>\n",
       "      <td>12.76</td>\n",
       "      <td>3.79</td>\n",
       "      <td>3.29</td>\n",
       "      <td>82.0</td>\n",
       "      <td>8.3</td>\n",
       "      <td>E</td>\n",
       "      <td>35.52</td>\n",
       "      <td>2008.0</td>\n",
       "      <td>2008-01-01</td>\n",
       "      <td>2000-2009</td>\n",
       "    </tr>\n",
       "    <tr>\n",
       "      <th>3</th>\n",
       "      <td>Wii Sports Resort</td>\n",
       "      <td>Wii</td>\n",
       "      <td>2009.0</td>\n",
       "      <td>Sports</td>\n",
       "      <td>15.61</td>\n",
       "      <td>10.93</td>\n",
       "      <td>3.28</td>\n",
       "      <td>2.95</td>\n",
       "      <td>80.0</td>\n",
       "      <td>8.0</td>\n",
       "      <td>E</td>\n",
       "      <td>32.77</td>\n",
       "      <td>2009.0</td>\n",
       "      <td>2009-01-01</td>\n",
       "      <td>2000-2009</td>\n",
       "    </tr>\n",
       "    <tr>\n",
       "      <th>4</th>\n",
       "      <td>Pokemon Red/Pokemon Blue</td>\n",
       "      <td>GB</td>\n",
       "      <td>1996.0</td>\n",
       "      <td>Role-Playing</td>\n",
       "      <td>11.27</td>\n",
       "      <td>8.89</td>\n",
       "      <td>10.22</td>\n",
       "      <td>1.00</td>\n",
       "      <td>NaN</td>\n",
       "      <td>NaN</td>\n",
       "      <td>T</td>\n",
       "      <td>31.38</td>\n",
       "      <td>1996.0</td>\n",
       "      <td>1996-01-01</td>\n",
       "      <td>1990-1999</td>\n",
       "    </tr>\n",
       "  </tbody>\n",
       "</table>\n",
       "</div>"
      ],
      "text/plain": [
       "                       name platform  year_of_release         genre  na_sales  \\\n",
       "0                Wii Sports      Wii           2006.0        Sports     41.36   \n",
       "1         Super Mario Bros.      NES           1985.0      Platform     29.08   \n",
       "2            Mario Kart Wii      Wii           2008.0        Racing     15.68   \n",
       "3         Wii Sports Resort      Wii           2009.0        Sports     15.61   \n",
       "4  Pokemon Red/Pokemon Blue       GB           1996.0  Role-Playing     11.27   \n",
       "\n",
       "   eu_sales  jp_sales  other_sales  critic_score  user_score rating  \\\n",
       "0     28.96      3.77         8.45          76.0         8.0      E   \n",
       "1      3.58      6.81         0.77           NaN         NaN      E   \n",
       "2     12.76      3.79         3.29          82.0         8.3      E   \n",
       "3     10.93      3.28         2.95          80.0         8.0      E   \n",
       "4      8.89     10.22         1.00           NaN         NaN      T   \n",
       "\n",
       "   total_sales  good_year     year_t year_category  \n",
       "0        82.54     2006.0 2006-01-01     2000-2009  \n",
       "1        40.24     1985.0 1985-01-01     1980-1989  \n",
       "2        35.52     2008.0 2008-01-01     2000-2009  \n",
       "3        32.77     2009.0 2009-01-01     2000-2009  \n",
       "4        31.38     1996.0 1996-01-01     1990-1999  "
      ]
     },
     "execution_count": 88,
     "metadata": {},
     "output_type": "execute_result"
    }
   ],
   "source": [
    "# Creando una nueva columna basada en la función\n",
    "gd[\"year_category\"] = gd[\"year_of_release\"].apply(year_category)\n",
    "gd.head()"
   ]
  },
  {
   "cell_type": "markdown",
   "metadata": {},
   "source": [
    "Se creó una categoria para clasificar por decada los años de lanzamiento\n",
    "\n",
    "[Volver a Contenidos](#back)"
   ]
  },
  {
   "cell_type": "markdown",
   "metadata": {},
   "source": [
    "## Estudiar parámetros principales <a id='estudiar_parámetros_principales'></a> "
   ]
  },
  {
   "cell_type": "code",
   "execution_count": 89,
   "metadata": {},
   "outputs": [
    {
     "data": {
      "image/png": "[encoded data removed]",
      "text/plain": [
       "<Figure size 720x432 with 1 Axes>"
      ]
     },
     "metadata": {
      "needs_background": "light"
     },
     "output_type": "display_data"
    }
   ],
   "source": [
    "#Cuantos juegos fueron lanzados por periodo de año (por rango de año)\n",
    "gd.groupby(\"year_t\")[\"name\"].count().plot(figsize=(10, 6))\n",
    "plt.show()"
   ]
  },
  {
   "cell_type": "markdown",
   "metadata": {},
   "source": [
    "Se investigó a que pudo haberse debido la disminución de videojuegos lanzados a partir del 2011, y fue por la falta de novedades en las consolas. Del año 2006 al 2011, y los lanzamientos estuveron por encima de los 1.000 videojuegos, alcanzando su valor más alto en el año 2008-2009, entre 1.400 juegos aprox."
   ]
  },
  {
   "cell_type": "code",
   "execution_count": 90,
   "metadata": {},
   "outputs": [
    {
     "data": {
      "image/png": "[encoded data removed]",
      "text/plain": [
       "<Figure size 720x432 with 1 Axes>"
      ]
     },
     "metadata": {
      "needs_background": "light"
     },
     "output_type": "display_data"
    }
   ],
   "source": [
    "#Variación de las ventas de una plataforma a otra\n",
    "sales_platform = gd.groupby(\"platform\")[\"total_sales\"].agg(sum)\n",
    "sales_platform.sort_values().plot(kind=\"bar\", title= f\"Sales by platform\", figsize=(10, 6))\n",
    "plt.xlabel(f\"platform\")\n",
    "plt.ylabel(f\"total_sales\")\n",
    "plt.show() "
   ]
  },
  {
   "cell_type": "code",
   "execution_count": 91,
   "metadata": {},
   "outputs": [
    {
     "data": {
      "text/plain": [
       "['PS2', 'X360', 'PS3', 'Wii', 'DS']"
      ]
     },
     "execution_count": 91,
     "metadata": {},
     "output_type": "execute_result"
    }
   ],
   "source": [
    "#Plataforma con mayores ventas totales\n",
    "m_p_p = gd.groupby(\"platform\")[\"total_sales\"].sum().sort_values(ascending=False).head().index.tolist()\n",
    "m_p_p"
   ]
  },
  {
   "cell_type": "code",
   "execution_count": 92,
   "metadata": {
    "scrolled": false
   },
   "outputs": [
    {
     "data": {
      "image/png": "[encoded data removed]",
      "text/plain": [
       "<Figure size 720x432 with 1 Axes>"
      ]
     },
     "metadata": {
      "needs_background": "light"
     },
     "output_type": "display_data"
    },
    {
     "data": {
      "image/png": "[encoded data removed]",
      "text/plain": [
       "<Figure size 720x432 with 1 Axes>"
      ]
     },
     "metadata": {
      "needs_background": "light"
     },
     "output_type": "display_data"
    },
    {
     "data": {
      "image/png": "[encoded data removed]",
      "text/plain": [
       "<Figure size 720x432 with 1 Axes>"
      ]
     },
     "metadata": {
      "needs_background": "light"
     },
     "output_type": "display_data"
    },
    {
     "data": {
      "image/png": "[encoded data removed]",
      "text/plain": [
       "<Figure size 720x432 with 1 Axes>"
      ]
     },
     "metadata": {
      "needs_background": "light"
     },
     "output_type": "display_data"
    },
    {
     "data": {
      "image/png": "[encoded data removed]",
      "text/plain": [
       "<Figure size 720x432 with 1 Axes>"
      ]
     },
     "metadata": {
      "needs_background": "light"
     },
     "output_type": "display_data"
    }
   ],
   "source": [
    "#Función que usaremos para estudiar los parámetros principales de las plataformas con mayores ventas totales\n",
    "\n",
    "for y in m_p_p:\n",
    "    \n",
    "    gd[gd[\"platform\"] == y][\"good_year\"].plot(kind=\"hist\", bins=50, title= f\"{y} sales per year\", figsize=(10,6), grid=True)\n",
    "    plt.xlabel(f\"{y}\")\n",
    "    plt.show()"
   ]
  },
  {
   "cell_type": "code",
   "execution_count": 93,
   "metadata": {},
   "outputs": [
    {
     "data": {
      "image/png": "[encoded data removed]",
      "text/plain": [
       "<Figure size 1008x576 with 2 Axes>"
      ]
     },
     "metadata": {
      "needs_background": "light"
     },
     "output_type": "display_data"
    }
   ],
   "source": [
    "#¿Cuánto tardan generalmente las nuevas plataformas en aparecer y las antiguas en desaparecer?\n",
    "fig,ax=plt.subplots(1,1,figsize=(14,8))\n",
    "a = (\n",
    "gd\n",
    ".pivot_table(index=\"good_year\", columns= \"platform\", values= \"total_sales\", aggfunc= \"sum\").T\n",
    ")\n",
    "sns.heatmap(a, cmap=\"viridis\", vmax=150)\n",
    "plt.show()"
   ]
  },
  {
   "cell_type": "markdown",
   "metadata": {},
   "source": [
    "Las antiguas plataformas tardan en desaparecer aprox. 10 años, y las nuevas plataformas en aparecer siete años aprox."
   ]
  },
  {
   "cell_type": "code",
   "execution_count": 94,
   "metadata": {},
   "outputs": [],
   "source": [
    "#Determinando para qué período tomar datos\n",
    "new_gd = gd[gd[\"good_year\"] >= 2013]"
   ]
  },
  {
   "cell_type": "code",
   "execution_count": 95,
   "metadata": {},
   "outputs": [
    {
     "data": {
      "text/plain": [
       "0.8663315981571232"
      ]
     },
     "execution_count": 95,
     "metadata": {},
     "output_type": "execute_result"
    }
   ],
   "source": [
    "len(gd.loc[gd[\"good_year\"] < 2013]) / len(gd)"
   ]
  },
  {
   "cell_type": "code",
   "execution_count": 96,
   "metadata": {},
   "outputs": [
    {
     "data": {
      "text/plain": [
       "array([2013., 2015., 2014., 2016.])"
      ]
     },
     "execution_count": 96,
     "metadata": {},
     "output_type": "execute_result"
    }
   ],
   "source": [
    "new_gd[\"good_year\"].unique()"
   ]
  },
  {
   "cell_type": "code",
   "execution_count": 97,
   "metadata": {},
   "outputs": [
    {
     "data": {
      "text/html": [
       "<div>\n",
       "<style scoped>\n",
       "    .dataframe tbody tr th:only-of-type {\n",
       "        vertical-align: middle;\n",
       "    }\n",
       "\n",
       "    .dataframe tbody tr th {\n",
       "        vertical-align: top;\n",
       "    }\n",
       "\n",
       "    .dataframe thead th {\n",
       "        text-align: right;\n",
       "    }\n",
       "</style>\n",
       "<table border=\"1\" class=\"dataframe\">\n",
       "  <thead>\n",
       "    <tr style=\"text-align: right;\">\n",
       "      <th></th>\n",
       "      <th>name</th>\n",
       "      <th>platform</th>\n",
       "      <th>year_of_release</th>\n",
       "      <th>genre</th>\n",
       "      <th>na_sales</th>\n",
       "      <th>eu_sales</th>\n",
       "      <th>jp_sales</th>\n",
       "      <th>other_sales</th>\n",
       "      <th>critic_score</th>\n",
       "      <th>user_score</th>\n",
       "      <th>rating</th>\n",
       "      <th>total_sales</th>\n",
       "      <th>good_year</th>\n",
       "      <th>year_t</th>\n",
       "      <th>year_category</th>\n",
       "    </tr>\n",
       "  </thead>\n",
       "  <tbody>\n",
       "    <tr>\n",
       "      <th>16</th>\n",
       "      <td>Grand Theft Auto V</td>\n",
       "      <td>PS3</td>\n",
       "      <td>2013.0</td>\n",
       "      <td>Action</td>\n",
       "      <td>7.02</td>\n",
       "      <td>9.09</td>\n",
       "      <td>0.98</td>\n",
       "      <td>3.96</td>\n",
       "      <td>97.0</td>\n",
       "      <td>8.2</td>\n",
       "      <td>M</td>\n",
       "      <td>21.05</td>\n",
       "      <td>2013.0</td>\n",
       "      <td>2013-01-01</td>\n",
       "      <td>2010-2016</td>\n",
       "    </tr>\n",
       "    <tr>\n",
       "      <th>23</th>\n",
       "      <td>Grand Theft Auto V</td>\n",
       "      <td>X360</td>\n",
       "      <td>2013.0</td>\n",
       "      <td>Action</td>\n",
       "      <td>9.66</td>\n",
       "      <td>5.14</td>\n",
       "      <td>0.06</td>\n",
       "      <td>1.41</td>\n",
       "      <td>97.0</td>\n",
       "      <td>8.1</td>\n",
       "      <td>M</td>\n",
       "      <td>16.27</td>\n",
       "      <td>2013.0</td>\n",
       "      <td>2013-01-01</td>\n",
       "      <td>2010-2016</td>\n",
       "    </tr>\n",
       "    <tr>\n",
       "      <th>31</th>\n",
       "      <td>Call of Duty: Black Ops 3</td>\n",
       "      <td>PS4</td>\n",
       "      <td>2015.0</td>\n",
       "      <td>Shooter</td>\n",
       "      <td>6.03</td>\n",
       "      <td>5.86</td>\n",
       "      <td>0.36</td>\n",
       "      <td>2.38</td>\n",
       "      <td>NaN</td>\n",
       "      <td>NaN</td>\n",
       "      <td>M</td>\n",
       "      <td>14.63</td>\n",
       "      <td>2015.0</td>\n",
       "      <td>2015-01-01</td>\n",
       "      <td>2010-2016</td>\n",
       "    </tr>\n",
       "    <tr>\n",
       "      <th>33</th>\n",
       "      <td>Pokemon X/Pokemon Y</td>\n",
       "      <td>3DS</td>\n",
       "      <td>2013.0</td>\n",
       "      <td>Role-Playing</td>\n",
       "      <td>5.28</td>\n",
       "      <td>4.19</td>\n",
       "      <td>4.35</td>\n",
       "      <td>0.78</td>\n",
       "      <td>NaN</td>\n",
       "      <td>NaN</td>\n",
       "      <td>T</td>\n",
       "      <td>14.60</td>\n",
       "      <td>2013.0</td>\n",
       "      <td>2013-01-01</td>\n",
       "      <td>2010-2016</td>\n",
       "    </tr>\n",
       "    <tr>\n",
       "      <th>42</th>\n",
       "      <td>Grand Theft Auto V</td>\n",
       "      <td>PS4</td>\n",
       "      <td>2014.0</td>\n",
       "      <td>Action</td>\n",
       "      <td>3.96</td>\n",
       "      <td>6.31</td>\n",
       "      <td>0.38</td>\n",
       "      <td>1.97</td>\n",
       "      <td>97.0</td>\n",
       "      <td>8.3</td>\n",
       "      <td>M</td>\n",
       "      <td>12.62</td>\n",
       "      <td>2014.0</td>\n",
       "      <td>2014-01-01</td>\n",
       "      <td>2010-2016</td>\n",
       "    </tr>\n",
       "  </tbody>\n",
       "</table>\n",
       "</div>"
      ],
      "text/plain": [
       "                         name platform  year_of_release         genre  \\\n",
       "16         Grand Theft Auto V      PS3           2013.0        Action   \n",
       "23         Grand Theft Auto V     X360           2013.0        Action   \n",
       "31  Call of Duty: Black Ops 3      PS4           2015.0       Shooter   \n",
       "33        Pokemon X/Pokemon Y      3DS           2013.0  Role-Playing   \n",
       "42         Grand Theft Auto V      PS4           2014.0        Action   \n",
       "\n",
       "    na_sales  eu_sales  jp_sales  other_sales  critic_score  user_score  \\\n",
       "16      7.02      9.09      0.98         3.96          97.0         8.2   \n",
       "23      9.66      5.14      0.06         1.41          97.0         8.1   \n",
       "31      6.03      5.86      0.36         2.38           NaN         NaN   \n",
       "33      5.28      4.19      4.35         0.78           NaN         NaN   \n",
       "42      3.96      6.31      0.38         1.97          97.0         8.3   \n",
       "\n",
       "   rating  total_sales  good_year     year_t year_category  \n",
       "16      M        21.05     2013.0 2013-01-01     2010-2016  \n",
       "23      M        16.27     2013.0 2013-01-01     2010-2016  \n",
       "31      M        14.63     2015.0 2015-01-01     2010-2016  \n",
       "33      T        14.60     2013.0 2013-01-01     2010-2016  \n",
       "42      M        12.62     2014.0 2014-01-01     2010-2016  "
      ]
     },
     "execution_count": 97,
     "metadata": {},
     "output_type": "execute_result"
    }
   ],
   "source": [
    "new_gd.head()"
   ]
  },
  {
   "cell_type": "markdown",
   "metadata": {},
   "source": [
    "Se escogió tomar los datos para el año 2013 en adelante, que nos permitirá construir un modelo para el año 2017."
   ]
  },
  {
   "cell_type": "code",
   "execution_count": 98,
   "metadata": {},
   "outputs": [],
   "source": [
    "#distribución general de los juegos por género, plataformas con más ventas.\n",
    "sales_by_platform = new_gd.groupby(\"platform\")[\"total_sales\"].sum().sort_values(ascending=False)"
   ]
  },
  {
   "cell_type": "code",
   "execution_count": 99,
   "metadata": {},
   "outputs": [
    {
     "name": "stdout",
     "output_type": "stream",
     "text": [
      "Unique platform: 11\n",
      "['PS4', 'PS3', 'XOne', '3DS', 'X360']\n"
     ]
    },
    {
     "data": {
      "text/plain": [
       "platform\n",
       "PS4     314.14\n",
       "PS3     181.43\n",
       "XOne    159.32\n",
       "3DS     143.25\n",
       "X360    136.80\n",
       "Name: total_sales, dtype: float64"
      ]
     },
     "execution_count": 99,
     "metadata": {},
     "output_type": "execute_result"
    }
   ],
   "source": [
    "#plataformas líderes en ventas\n",
    "top_5_popular_platform = sales_by_platform.head(5).index.tolist()\n",
    "\n",
    "top_5_popular_platform_data = new_gd.loc[new_gd[\"platform\"].isin(top_5_popular_platform)]\n",
    "\n",
    "print(f\"Unique platform: {len(new_gd['platform'].unique())}\")\n",
    "print(top_5_popular_platform)\n",
    "sales_by_platform.head(5)"
   ]
  },
  {
   "cell_type": "code",
   "execution_count": 100,
   "metadata": {},
   "outputs": [
    {
     "data": {
      "image/png": "[encoded data removed]",
      "text/plain": [
       "<Figure size 576x216 with 1 Axes>"
      ]
     },
     "metadata": {
      "needs_background": "light"
     },
     "output_type": "display_data"
    }
   ],
   "source": [
    "top_5_popular_platform_data[\"total_sales\"].hist(figsize=(8,3))\n",
    "plt.show()"
   ]
  },
  {
   "cell_type": "code",
   "execution_count": 101,
   "metadata": {},
   "outputs": [
    {
     "data": {
      "image/png": "[encoded data removed]",
      "text/plain": [
       "<Figure size 576x216 with 1 Axes>"
      ]
     },
     "metadata": {
      "needs_background": "light"
     },
     "output_type": "display_data"
    }
   ],
   "source": [
    "#Plataformas que crecen o disminuyen según sus ventas\n",
    "(\n",
    "top_5_popular_platform_data\n",
    ".pivot_table(values=\"total_sales\",\n",
    "             index=\"good_year\",\n",
    "             columns=\"platform\",\n",
    "             aggfunc=\"sum\")\n",
    ".plot(kind=\"line\", figsize=(8, 3))\n",
    ")\n",
    "plt.axvline(x=2013, ls=\"--\", color=\"black\")\n",
    "plt.xlim(2013, 2016)\n",
    "plt.legend()\n",
    "plt.show()"
   ]
  },
  {
   "cell_type": "markdown",
   "metadata": {},
   "source": [
    "Se evidencia un crecimiento en el PS4 y XOne hasta el año 2015, y una disminución en ventas para el resto."
   ]
  },
  {
   "cell_type": "code",
   "execution_count": 102,
   "metadata": {},
   "outputs": [
    {
     "data": {
      "image/png": "[encoded data removed]",
      "text/plain": [
       "<Figure size 864x432 with 1 Axes>"
      ]
     },
     "metadata": {
      "needs_background": "light"
     },
     "output_type": "display_data"
    }
   ],
   "source": [
    "#Ventas globales de todos los juegos, desglosados por plataforma\n",
    "calls= sns.catplot(data= new_gd, x=\"platform\", y=\"total_sales\", kind=\"box\", height=6, aspect=2)\n",
    "calls.fig.suptitle('Global sales of all games by platform')\n",
    "plt.ylim(0,4)\n",
    "plt.tight_layout()\n",
    "plt.show()"
   ]
  },
  {
   "cell_type": "markdown",
   "metadata": {},
   "source": [
    "Se evidencia mayor venta en las plataformas X360, PS4, XOne, WiiU y Wii. La media del DS, es muy similar a las plataformas nombradas anteriormente, a pesar de que su venta fue menor comparado con ellas."
   ]
  },
  {
   "cell_type": "markdown",
   "metadata": {},
   "source": [
    "**Correlación entre las reseñas y las ventas**"
   ]
  },
  {
   "cell_type": "code",
   "execution_count": 103,
   "metadata": {},
   "outputs": [
    {
     "data": {
      "image/png": "[encoded data removed]",
      "text/plain": [
       "<Figure size 432x288 with 2 Axes>"
      ]
     },
     "metadata": {
      "needs_background": "light"
     },
     "output_type": "display_data"
    }
   ],
   "source": [
    "#Matriz de correlación \"Gráfico de calor\"\n",
    "factors = [\"critic_score\", \"user_score\", \"total_sales\"]\n",
    "sns.heatmap(new_gd[factors].corr(), annot=True, cmap=\"YlOrBr\", vmax=1, vmin=-1)\n",
    "plt.title(\"heat chart\")\n",
    "plt.show()"
   ]
  },
  {
   "cell_type": "markdown",
   "metadata": {},
   "source": [
    "Las columnas **\"total_sales vs critic_score\"** (correlación positiva) tienen una *correlación débil*."
   ]
  },
  {
   "cell_type": "markdown",
   "metadata": {},
   "source": [
    "Las columnas **\"total_sales vs user_score\"** (correlación negativa) tienen una *debil relación lineal*. Hay una compleja conexión no lineal."
   ]
  },
  {
   "cell_type": "code",
   "execution_count": 104,
   "metadata": {},
   "outputs": [],
   "source": [
    "#Cómo las reseñas de usuarios y profesionales afectan las ventas de las plataformas populares\n",
    "mpp1 = new_gd.query('platform in \"PS4\"')\n",
    "mpp2 = new_gd.query('platform in \"PS3\"')\n",
    "mpp3 = new_gd.query('platform in \"XOne\"')"
   ]
  },
  {
   "cell_type": "markdown",
   "metadata": {},
   "source": [
    "**Gráfico de dispersión**"
   ]
  },
  {
   "cell_type": "code",
   "execution_count": 105,
   "metadata": {},
   "outputs": [
    {
     "data": {
      "image/png": "[encoded data removed]",
      "text/plain": [
       "<Figure size 720x432 with 1 Axes>"
      ]
     },
     "metadata": {
      "needs_background": "light"
     },
     "output_type": "display_data"
    },
    {
     "data": {
      "image/png": "[encoded data removed]",
      "text/plain": [
       "<Figure size 720x432 with 1 Axes>"
      ]
     },
     "metadata": {
      "needs_background": "light"
     },
     "output_type": "display_data"
    }
   ],
   "source": [
    "score = [\"critic_score\", \"user_score\"]\n",
    "\n",
    "def plot_scatter(df, variable, name):\n",
    "    \n",
    "    df.plot(kind=\"scatter\", x=variable, y=\"total_sales\", alpha=0.4, figsize=(10,6))\n",
    "    plt.title(f\"Scatterplot of total sales vs. {variable} - {name}\")\n",
    "    plt.ylim(0,4)\n",
    "    plt.show()\n",
    "    \n",
    "for variable in score:\n",
    "    plot_scatter(mpp1, variable, \"PS4\")"
   ]
  },
  {
   "cell_type": "markdown",
   "metadata": {},
   "source": [
    "**Conclusiones PS4**\n",
    "\n",
    "Analizando los gráficos de dispersión de las reseñas que impactan a las ventas, observamos:\n",
    "\n",
    "- `critic_score`, la puntuación de la crítica entre 60 a 80 puntos, tuvo ventas representativas de 0.1 a 0.2 millones de dólares aprox.\n",
    "        \n",
    "    \n",
    "- `user_score`, la puntuación de los usuarios entre 7.6 a 8.1 puntos, tuvo ventas representativas de 0.1 a 0.35 millones de dólares aprox."
   ]
  },
  {
   "cell_type": "code",
   "execution_count": 106,
   "metadata": {},
   "outputs": [
    {
     "data": {
      "image/png": "[encoded data removed]",
      "text/plain": [
       "<Figure size 720x432 with 1 Axes>"
      ]
     },
     "metadata": {
      "needs_background": "light"
     },
     "output_type": "display_data"
    },
    {
     "data": {
      "image/png": "[encoded data removed]",
      "text/plain": [
       "<Figure size 720x432 with 1 Axes>"
      ]
     },
     "metadata": {
      "needs_background": "light"
     },
     "output_type": "display_data"
    }
   ],
   "source": [
    "for variable in score:\n",
    "    plot_scatter(mpp2, variable, \"PS3\")"
   ]
  },
  {
   "cell_type": "markdown",
   "metadata": {},
   "source": [
    "**Conclusiones PS3**\n",
    "\n",
    "Analizando los gráficos de dispersión de las reseñas que impactan a las ventas, observamos:\n",
    "\n",
    "- `critic_score`, la puntuación de la crítica entre 65 puntos, tuvo ventas representativas de 0.2 a 0.3 millones de dólares aprox.\n",
    "        \n",
    "    \n",
    "- `user_score`, la puntuación de los usuarios entre 7.5 a 8.2 puntos, tuvo ventas representativas de 0.1 a 0.6 millones de dólares aprox."
   ]
  },
  {
   "cell_type": "code",
   "execution_count": 107,
   "metadata": {},
   "outputs": [
    {
     "data": {
      "image/png": "[encoded data removed]",
      "text/plain": [
       "<Figure size 720x432 with 1 Axes>"
      ]
     },
     "metadata": {
      "needs_background": "light"
     },
     "output_type": "display_data"
    },
    {
     "data": {
      "image/png": "[encoded data removed]",
      "text/plain": [
       "<Figure size 720x432 with 1 Axes>"
      ]
     },
     "metadata": {
      "needs_background": "light"
     },
     "output_type": "display_data"
    }
   ],
   "source": [
    "for variable in score:\n",
    "    plot_scatter(mpp3, variable, \"XOne\")"
   ]
  },
  {
   "cell_type": "markdown",
   "metadata": {},
   "source": [
    "**Conclusiones XOne**\n",
    "\n",
    "Analizando los gráficos de dispersión de las reseñas que impactan a las ventas, observamos:\n",
    "\n",
    "- `critic_score`, la puntuación de la crítica entre 60 a 80 puntos, tuvo ventas representativas de 0.1 a 0.6 millones de dólares aprox.\n",
    "        \n",
    "    \n",
    "- `user_score`, la puntuación de los usuarios entre 6.0 a 8.2 puntos, tuvo ventas representativas de 0.1 a 0.3 millones de dólares aprox."
   ]
  },
  {
   "cell_type": "code",
   "execution_count": 108,
   "metadata": {},
   "outputs": [
    {
     "data": {
      "image/png": "[encoded data removed]",
      "text/plain": [
       "<Figure size 720x432 with 1 Axes>"
      ]
     },
     "metadata": {
      "needs_background": "light"
     },
     "output_type": "display_data"
    }
   ],
   "source": [
    "#Distribución general de los juegos por género\n",
    "sales_genre = new_gd.groupby(\"genre\")[\"total_sales\"].agg(sum)\n",
    "sales_genre.sort_values().plot(kind=\"bar\", title= f\"Sales by genre\", figsize=(10, 6))\n",
    "plt.xlabel(f\"genre\")\n",
    "plt.ylabel(f\"total_sales\")\n",
    "plt.show()"
   ]
  },
  {
   "cell_type": "code",
   "execution_count": 109,
   "metadata": {},
   "outputs": [
    {
     "data": {
      "text/plain": [
       "['Action', 'Sports', 'Shooter', 'Role-Playing', 'Platform']"
      ]
     },
     "execution_count": 109,
     "metadata": {},
     "output_type": "execute_result"
    }
   ],
   "source": [
    "m_p_g = gd.groupby(\"genre\")[\"total_sales\"].sum().sort_values(ascending=False).head().index.tolist()\n",
    "m_p_g"
   ]
  },
  {
   "cell_type": "markdown",
   "metadata": {},
   "source": [
    "Los generos con más ventas son: Action, Sports, Shooter, Role-Playing y Platform."
   ]
  },
  {
   "cell_type": "code",
   "execution_count": 110,
   "metadata": {},
   "outputs": [
    {
     "data": {
      "image/png": "[encoded data removed]",
      "text/plain": [
       "<Figure size 720x360 with 1 Axes>"
      ]
     },
     "metadata": {
      "needs_background": "light"
     },
     "output_type": "display_data"
    }
   ],
   "source": [
    "#distribución general de los juegos por género más rentables\n",
    "games = new_gd[new_gd[\"genre\"].isin(m_p_g)]\n",
    "calls= sns.catplot(data= games, x=\"genre\", y=\"total_sales\", kind=\"box\", height=5, aspect=2)\n",
    "calls.fig.suptitle('Most profitable games by genre')\n",
    "plt.ylim(0,3.5)\n",
    "plt.tight_layout()\n",
    "plt.show()"
   ]
  },
  {
   "cell_type": "markdown",
   "metadata": {},
   "source": [
    "**Conclusión intermedia**\n",
    "\n",
    "Analizando el gráfico de caja de los juegos por genero más rentables, observamos:\n",
    "\n",
    "- En el genero Shooter, tiene mayor venta y su mediana es de 0.5,\n",
    "- Seguido por los generos Sports y Platform, donde sus medianas estan en 0.3 aprox. donde el genero Sports tiene más ventas,\n",
    "- Los generos Role-Playing y Action, son los que menor venta tuvieron.\n",
    "\n",
    "[Volver a Contenidos](#back)\n"
   ]
  },
  {
   "cell_type": "markdown",
   "metadata": {},
   "source": [
    "## Perfil de usuario para cada región <a id='perfil_de_usuario_para_cada_región'></a>"
   ]
  },
  {
   "cell_type": "markdown",
   "metadata": {},
   "source": [
    "### Plataformas principales"
   ]
  },
  {
   "cell_type": "code",
   "execution_count": 111,
   "metadata": {},
   "outputs": [
    {
     "name": "stdout",
     "output_type": "stream",
     "text": [
      "na_sales\n",
      "   platform  na_sales  total_sales  market_share\n",
      "4       PS4    108.74       314.14     34.615140\n",
      "10     XOne     93.12       159.32     58.448406\n",
      "9      X360     81.66       136.80     59.692982\n",
      "3       PS3     63.50       181.43     34.999724\n",
      "0       3DS     38.20       143.25     26.666667\n",
      "\n",
      "eu_sales\n",
      "   platform  eu_sales  total_sales  market_share\n",
      "4       PS4    141.09       314.14     44.913096\n",
      "3       PS3     67.81       181.43     37.375296\n",
      "10     XOne     51.59       159.32     32.381371\n",
      "9      X360     42.52       136.80     31.081871\n",
      "0       3DS     30.96       143.25     21.612565\n",
      "\n",
      "jp_sales\n",
      "  platform  jp_sales  total_sales  market_share\n",
      "0      3DS     67.81       143.25     47.336824\n",
      "3      PS3     23.35       181.43     12.869977\n",
      "6      PSV     18.66        33.25     56.120301\n",
      "4      PS4     15.96       314.14      5.080537\n",
      "8     WiiU     10.88        64.63     16.834287\n",
      "\n",
      "other_sales\n",
      "   platform  other_sales  total_sales  market_share\n",
      "4       PS4        48.35       314.14     15.391227\n",
      "3       PS3        26.77       181.43     14.755002\n",
      "10     XOne        14.27       159.32      8.956816\n",
      "9      X360        12.11       136.80      8.852339\n",
      "0       3DS         6.28       143.25      4.383944\n",
      "\n"
     ]
    }
   ],
   "source": [
    "regions = [\"na_sales\", \"eu_sales\", \"jp_sales\", \"other_sales\"]\n",
    "sales_by_platform = new_gd.groupby(\"platform\")[\"total_sales\"].sum().reset_index()\n",
    "\n",
    "for region in regions:\n",
    "  sales_by_platform_region = new_gd.groupby(\"platform\")[region].sum().reset_index()\n",
    "  sales_by_platform_region = pd.merge(sales_by_platform_region, sales_by_platform, on=\"platform\")\n",
    "  sales_by_platform_region[\"market_share\"] = 100 * sales_by_platform_region[region] / sales_by_platform_region[\"total_sales\"]\n",
    "\n",
    "  print(region)\n",
    "  print(sales_by_platform_region.sort_values(by=region, ascending=False).head(5))\n",
    "  print()"
   ]
  },
  {
   "cell_type": "markdown",
   "metadata": {},
   "source": [
    "**Conclusión intermedia**\n",
    "\n",
    "Según los resultados anteriores se puede observar:\n",
    "\n",
    "- **`PS4`**= es más popular en Europa y USA que en Japón.\n",
    "- **`XOne` y `X360`**= es más popular en USA y Europa, pero en ni siquiera esta en el top cinco de popularidad.\n",
    "- **`PS3`**= es la segunda plataforma más popular de USA, la tercera en Europa y la cuarta en Japón.\n",
    "- **`PSV` & `3DS`**= son las primera y segunda plataforma más popular en Jaón; sin embargo, solo el 3DS es el quinto más popular en para Europa y USA."
   ]
  },
  {
   "cell_type": "markdown",
   "metadata": {},
   "source": [
    "### Generos principales"
   ]
  },
  {
   "cell_type": "code",
   "execution_count": 112,
   "metadata": {},
   "outputs": [
    {
     "name": "stdout",
     "output_type": "stream",
     "text": [
      "na_sales\n",
      "           genre  na_sales  total_sales  market_share\n",
      "0         Action    126.05       321.87     39.161773\n",
      "8        Shooter    109.74       232.98     47.102756\n",
      "10        Sports     65.27       150.65     43.325589\n",
      "7   Role-Playing     46.51       146.15     31.823469\n",
      "3           Misc     27.49        62.82     43.759949\n",
      "\n",
      "eu_sales\n",
      "           genre  eu_sales  total_sales  market_share\n",
      "0         Action    118.13       321.87     36.701153\n",
      "8        Shooter     87.86       232.98     37.711392\n",
      "10        Sports     60.52       150.65     40.172585\n",
      "7   Role-Playing     37.02       146.15     25.330140\n",
      "6         Racing     20.19        39.89     50.614189\n",
      "\n",
      "jp_sales\n",
      "          genre  jp_sales  total_sales  market_share\n",
      "7  Role-Playing     51.11       146.15     34.970920\n",
      "0        Action     40.49       321.87     12.579613\n",
      "3          Misc      9.20        62.82     14.645018\n",
      "2      Fighting      7.65        35.31     21.665251\n",
      "8       Shooter      6.61       232.98      2.837153\n",
      "\n",
      "other_sales\n",
      "           genre  other_sales  total_sales  market_share\n",
      "0         Action        37.20       321.87     11.557461\n",
      "8        Shooter        28.77       232.98     12.348699\n",
      "10        Sports        19.45       150.65     12.910720\n",
      "7   Role-Playing        11.51       146.15      7.875470\n",
      "3           Misc         6.09        62.82      9.694365\n",
      "\n"
     ]
    }
   ],
   "source": [
    "regions = [\"na_sales\", \"eu_sales\", \"jp_sales\", \"other_sales\"]\n",
    "sales_by_genre = new_gd.groupby(\"genre\")[\"total_sales\"].sum().reset_index()\n",
    "\n",
    "for region in regions:\n",
    "  sales_by_platform_genre = new_gd.groupby(\"genre\")[region].sum().reset_index()\n",
    "  sales_by_platform_genre = pd.merge(sales_by_platform_genre, sales_by_genre, on=\"genre\")\n",
    "  sales_by_platform_genre[\"market_share\"] = 100 * sales_by_platform_genre[region] / sales_by_platform_genre[\"total_sales\"]\n",
    "\n",
    "  print(region)\n",
    "  print(sales_by_platform_genre.sort_values(by=region, ascending=False).head(5))\n",
    "  print()"
   ]
  },
  {
   "cell_type": "markdown",
   "metadata": {},
   "source": [
    "**Conclusión intermedia**\n",
    "\n",
    "Según los resultados anteriores se puede observar:\n",
    "\n",
    "- **`Shooter`**= es más popular en USA, el tercero de Europa y el quinto de Japón.\n",
    "- **`Misc`**= es el segundo más popular de USA y el tercero de Japón. En Europa, ni siquiera esta en el top cinco de popularidad.\n",
    "- **`Racing`**= es la primera plataforma más popular de Europa y para USA y Japón, no figura en el top cinco.\n",
    "- **`Sports`**= es la segunda y tercera plataforma más popular para Europa y USA; sin embargo, no figura para Japón.\n",
    "- **`Role-Playing`**= es la primera plataforma más popular para Japón. Para Europa y USA, es la quinta plataforma más popular."
   ]
  },
  {
   "cell_type": "markdown",
   "metadata": {},
   "source": [
    "### Clasificación ESRB"
   ]
  },
  {
   "cell_type": "code",
   "execution_count": 113,
   "metadata": {},
   "outputs": [
    {
     "data": {
      "image/png": "[encoded data removed]",
      "text/plain": [
       "<Figure size 720x432 with 1 Axes>"
      ]
     },
     "metadata": {
      "needs_background": "light"
     },
     "output_type": "display_data"
    }
   ],
   "source": [
    "#Las clasificaciones de ESRB afectan a las ventas en regiones individuales\n",
    "new_gd.groupby(\"rating\").agg({\"na_sales\":\"sum\", \"eu_sales\":\"sum\", \"jp_sales\":\"sum\"}).plot(kind=\"bar\", figsize=(10, 6))\n",
    "plt.title(f\"Sales by rating\")\n",
    "plt.xlabel(f\"rating\")\n",
    "plt.ylabel(f\"Sales\")\n",
    "plt.show()"
   ]
  },
  {
   "cell_type": "markdown",
   "metadata": {},
   "source": [
    "**Conclusión intermedia**\n",
    "\n",
    "- La categoria E, E10+ y M afecta a la región de Japón,\n",
    "- La categoria E, E10+, M y T no agecta la ventas de Norteamérica.\n",
    "\n",
    "[Volver a Contenidos](#back)"
   ]
  },
  {
   "cell_type": "markdown",
   "metadata": {},
   "source": [
    "## Probando las hipótesis estadísticas <a id='probando_las_hipótesis_estadísticas'></a>"
   ]
  },
  {
   "cell_type": "code",
   "execution_count": 114,
   "metadata": {
    "scrolled": true
   },
   "outputs": [
    {
     "data": {
      "text/html": [
       "<div>\n",
       "<style scoped>\n",
       "    .dataframe tbody tr th:only-of-type {\n",
       "        vertical-align: middle;\n",
       "    }\n",
       "\n",
       "    .dataframe tbody tr th {\n",
       "        vertical-align: top;\n",
       "    }\n",
       "\n",
       "    .dataframe thead tr th {\n",
       "        text-align: left;\n",
       "    }\n",
       "\n",
       "    .dataframe thead tr:last-of-type th {\n",
       "        text-align: right;\n",
       "    }\n",
       "</style>\n",
       "<table border=\"1\" class=\"dataframe\">\n",
       "  <thead>\n",
       "    <tr>\n",
       "      <th></th>\n",
       "      <th colspan=\"3\" halign=\"left\">user_score</th>\n",
       "    </tr>\n",
       "    <tr>\n",
       "      <th></th>\n",
       "      <th>mean</th>\n",
       "      <th>var</th>\n",
       "      <th>std</th>\n",
       "    </tr>\n",
       "    <tr>\n",
       "      <th>platform</th>\n",
       "      <th></th>\n",
       "      <th></th>\n",
       "      <th></th>\n",
       "    </tr>\n",
       "  </thead>\n",
       "  <tbody>\n",
       "    <tr>\n",
       "      <th>3DS</th>\n",
       "      <td>6.976250</td>\n",
       "      <td>2.368163</td>\n",
       "      <td>1.538884</td>\n",
       "    </tr>\n",
       "    <tr>\n",
       "      <th>DS</th>\n",
       "      <td>4.800000</td>\n",
       "      <td>NaN</td>\n",
       "      <td>NaN</td>\n",
       "    </tr>\n",
       "    <tr>\n",
       "      <th>PC</th>\n",
       "      <td>6.269677</td>\n",
       "      <td>3.035893</td>\n",
       "      <td>1.742381</td>\n",
       "    </tr>\n",
       "    <tr>\n",
       "      <th>PS3</th>\n",
       "      <td>6.348387</td>\n",
       "      <td>3.229430</td>\n",
       "      <td>1.797061</td>\n",
       "    </tr>\n",
       "    <tr>\n",
       "      <th>PS4</th>\n",
       "      <td>6.748249</td>\n",
       "      <td>2.130085</td>\n",
       "      <td>1.459481</td>\n",
       "    </tr>\n",
       "    <tr>\n",
       "      <th>PSP</th>\n",
       "      <td>5.850000</td>\n",
       "      <td>12.005000</td>\n",
       "      <td>3.464823</td>\n",
       "    </tr>\n",
       "    <tr>\n",
       "      <th>PSV</th>\n",
       "      <td>7.528000</td>\n",
       "      <td>1.731127</td>\n",
       "      <td>1.315723</td>\n",
       "    </tr>\n",
       "    <tr>\n",
       "      <th>Wii</th>\n",
       "      <td>5.257143</td>\n",
       "      <td>3.592857</td>\n",
       "      <td>1.895483</td>\n",
       "    </tr>\n",
       "    <tr>\n",
       "      <th>WiiU</th>\n",
       "      <td>7.017500</td>\n",
       "      <td>1.977411</td>\n",
       "      <td>1.406205</td>\n",
       "    </tr>\n",
       "    <tr>\n",
       "      <th>X360</th>\n",
       "      <td>5.993007</td>\n",
       "      <td>2.604599</td>\n",
       "      <td>1.613877</td>\n",
       "    </tr>\n",
       "    <tr>\n",
       "      <th>XOne</th>\n",
       "      <td>6.521429</td>\n",
       "      <td>1.906997</td>\n",
       "      <td>1.380941</td>\n",
       "    </tr>\n",
       "  </tbody>\n",
       "</table>\n",
       "</div>"
      ],
      "text/plain": [
       "         user_score                     \n",
       "               mean        var       std\n",
       "platform                                \n",
       "3DS        6.976250   2.368163  1.538884\n",
       "DS         4.800000        NaN       NaN\n",
       "PC         6.269677   3.035893  1.742381\n",
       "PS3        6.348387   3.229430  1.797061\n",
       "PS4        6.748249   2.130085  1.459481\n",
       "PSP        5.850000  12.005000  3.464823\n",
       "PSV        7.528000   1.731127  1.315723\n",
       "Wii        5.257143   3.592857  1.895483\n",
       "WiiU       7.017500   1.977411  1.406205\n",
       "X360       5.993007   2.604599  1.613877\n",
       "XOne       6.521429   1.906997  1.380941"
      ]
     },
     "execution_count": 114,
     "metadata": {},
     "output_type": "execute_result"
    }
   ],
   "source": [
    "#Calculando media, varianza y desviación estandar para platform\n",
    "statistics = (\n",
    "  new_gd\n",
    " .groupby(\"platform\")\n",
    " .agg({\"user_score\": [\"mean\", np.var, \"std\"]})\n",
    ")\n",
    "statistics"
   ]
  },
  {
   "cell_type": "code",
   "execution_count": 115,
   "metadata": {},
   "outputs": [
    {
     "data": {
      "text/html": [
       "<div>\n",
       "<style scoped>\n",
       "    .dataframe tbody tr th:only-of-type {\n",
       "        vertical-align: middle;\n",
       "    }\n",
       "\n",
       "    .dataframe tbody tr th {\n",
       "        vertical-align: top;\n",
       "    }\n",
       "\n",
       "    .dataframe thead tr th {\n",
       "        text-align: left;\n",
       "    }\n",
       "\n",
       "    .dataframe thead tr:last-of-type th {\n",
       "        text-align: right;\n",
       "    }\n",
       "</style>\n",
       "<table border=\"1\" class=\"dataframe\">\n",
       "  <thead>\n",
       "    <tr>\n",
       "      <th></th>\n",
       "      <th colspan=\"3\" halign=\"left\">user_score</th>\n",
       "    </tr>\n",
       "    <tr>\n",
       "      <th></th>\n",
       "      <th>mean</th>\n",
       "      <th>var</th>\n",
       "      <th>std</th>\n",
       "    </tr>\n",
       "    <tr>\n",
       "      <th>genre</th>\n",
       "      <th></th>\n",
       "      <th></th>\n",
       "      <th></th>\n",
       "    </tr>\n",
       "  </thead>\n",
       "  <tbody>\n",
       "    <tr>\n",
       "      <th>Action</th>\n",
       "      <td>6.837532</td>\n",
       "      <td>1.769361</td>\n",
       "      <td>1.330173</td>\n",
       "    </tr>\n",
       "    <tr>\n",
       "      <th>Adventure</th>\n",
       "      <td>7.461667</td>\n",
       "      <td>1.688506</td>\n",
       "      <td>1.299425</td>\n",
       "    </tr>\n",
       "    <tr>\n",
       "      <th>Fighting</th>\n",
       "      <td>7.037500</td>\n",
       "      <td>1.918989</td>\n",
       "      <td>1.385276</td>\n",
       "    </tr>\n",
       "    <tr>\n",
       "      <th>Misc</th>\n",
       "      <td>6.975000</td>\n",
       "      <td>1.407010</td>\n",
       "      <td>1.186174</td>\n",
       "    </tr>\n",
       "    <tr>\n",
       "      <th>Platform</th>\n",
       "      <td>6.713793</td>\n",
       "      <td>2.889631</td>\n",
       "      <td>1.699891</td>\n",
       "    </tr>\n",
       "    <tr>\n",
       "      <th>Puzzle</th>\n",
       "      <td>7.471429</td>\n",
       "      <td>0.885714</td>\n",
       "      <td>0.941124</td>\n",
       "    </tr>\n",
       "    <tr>\n",
       "      <th>Racing</th>\n",
       "      <td>6.080000</td>\n",
       "      <td>2.989750</td>\n",
       "      <td>1.729089</td>\n",
       "    </tr>\n",
       "    <tr>\n",
       "      <th>Role-Playing</th>\n",
       "      <td>7.378102</td>\n",
       "      <td>1.479370</td>\n",
       "      <td>1.216294</td>\n",
       "    </tr>\n",
       "    <tr>\n",
       "      <th>Shooter</th>\n",
       "      <td>6.342308</td>\n",
       "      <td>2.167489</td>\n",
       "      <td>1.472239</td>\n",
       "    </tr>\n",
       "    <tr>\n",
       "      <th>Simulation</th>\n",
       "      <td>6.054839</td>\n",
       "      <td>3.347892</td>\n",
       "      <td>1.829725</td>\n",
       "    </tr>\n",
       "    <tr>\n",
       "      <th>Sports</th>\n",
       "      <td>5.238125</td>\n",
       "      <td>3.180613</td>\n",
       "      <td>1.783427</td>\n",
       "    </tr>\n",
       "    <tr>\n",
       "      <th>Strategy</th>\n",
       "      <td>6.183333</td>\n",
       "      <td>4.351092</td>\n",
       "      <td>2.085927</td>\n",
       "    </tr>\n",
       "  </tbody>\n",
       "</table>\n",
       "</div>"
      ],
      "text/plain": [
       "             user_score                    \n",
       "                   mean       var       std\n",
       "genre                                      \n",
       "Action         6.837532  1.769361  1.330173\n",
       "Adventure      7.461667  1.688506  1.299425\n",
       "Fighting       7.037500  1.918989  1.385276\n",
       "Misc           6.975000  1.407010  1.186174\n",
       "Platform       6.713793  2.889631  1.699891\n",
       "Puzzle         7.471429  0.885714  0.941124\n",
       "Racing         6.080000  2.989750  1.729089\n",
       "Role-Playing   7.378102  1.479370  1.216294\n",
       "Shooter        6.342308  2.167489  1.472239\n",
       "Simulation     6.054839  3.347892  1.829725\n",
       "Sports         5.238125  3.180613  1.783427\n",
       "Strategy       6.183333  4.351092  2.085927"
      ]
     },
     "execution_count": 115,
     "metadata": {},
     "output_type": "execute_result"
    }
   ],
   "source": [
    "#Calculando media, varianza y desviación estandar para genre\n",
    "statistics = (\n",
    "  new_gd\n",
    " .groupby(\"genre\")\n",
    " .agg({\"user_score\": [\"mean\", np.var, \"std\"]})\n",
    ")\n",
    "statistics"
   ]
  },
  {
   "cell_type": "markdown",
   "metadata": {},
   "source": [
    "### Calificaciones promedio de los usuarios para las plataformas"
   ]
  },
  {
   "cell_type": "markdown",
   "metadata": {},
   "source": [
    "#### Corroborando si las muestras presentan una distribución normal"
   ]
  },
  {
   "cell_type": "code",
   "execution_count": 116,
   "metadata": {},
   "outputs": [],
   "source": [
    "#Creando una tabla para cada plataforma, Xbox One y PC.\n",
    "xbox_one = new_gd.loc[new_gd[\"platform\"] == \"XOne\"]\n",
    "pc = new_gd.loc[new_gd[\"platform\"] == \"PC\"]"
   ]
  },
  {
   "cell_type": "code",
   "execution_count": 117,
   "metadata": {},
   "outputs": [
    {
     "data": {
      "text/plain": [
       "ShapiroResult(statistic=0.955055296421051, pvalue=1.524856543255737e-05)"
      ]
     },
     "execution_count": 117,
     "metadata": {},
     "output_type": "execute_result"
    }
   ],
   "source": [
    "stats.shapiro(\n",
    "    xbox_one[\"user_score\"].dropna(),\n",
    ")"
   ]
  },
  {
   "cell_type": "code",
   "execution_count": 118,
   "metadata": {},
   "outputs": [
    {
     "data": {
      "text/plain": [
       "ShapiroResult(statistic=0.9416003823280334, pvalue=5.039790721639292e-06)"
      ]
     },
     "execution_count": 118,
     "metadata": {},
     "output_type": "execute_result"
    }
   ],
   "source": [
    "stats.shapiro(\n",
    "    pc[\"user_score\"].dropna(),\n",
    ")"
   ]
  },
  {
   "cell_type": "markdown",
   "metadata": {},
   "source": [
    "**Conclusión intermedia**\n",
    "\n",
    "A partir de los resultados obtenidos, ya que ambos pvalue son menor a 0.05, podemos concluir que ninguno de los dos vectores son normales."
   ]
  },
  {
   "cell_type": "markdown",
   "metadata": {},
   "source": [
    "#### Definición de hipótesis nula e hipótesis alternativa"
   ]
  },
  {
   "cell_type": "markdown",
   "metadata": {},
   "source": [
    "- **`H0`**= las calificaciones promedio de los usuarios para las plataformas Xbox One y PC son *iguales*.\n",
    "\n",
    "- **`H1`**= las calificaciones promedio de los usuarios para las plataformas Xbox One y PC son *diferentes*."
   ]
  },
  {
   "cell_type": "markdown",
   "metadata": {},
   "source": [
    "#### Prueba de hipótesis"
   ]
  },
  {
   "cell_type": "code",
   "execution_count": 119,
   "metadata": {},
   "outputs": [
    {
     "name": "stdout",
     "output_type": "stream",
     "text": [
      "statistic:  14705.0\n",
      "\n",
      "p_value:  0.5011006734622374\n",
      "\n",
      "0.5011006734622374 < 0.05\n",
      "No rechazamos la hipótesis nula\n"
     ]
    }
   ],
   "source": [
    "# Prueba las hipótesis\n",
    "\n",
    "alpha= 0.05\n",
    "\n",
    "statistic, p_value  = st.mannwhitneyu(\n",
    "    xbox_one[\"user_score\"].dropna(),\n",
    "    pc[\"user_score\"].dropna()\n",
    ")\n",
    "\n",
    "print('statistic: ', statistic)\n",
    "print()\n",
    "print('p_value: ', p_value)\n",
    "print()\n",
    "print(p_value, \"<\", alpha)\n",
    "\n",
    "if p_value < alpha:\n",
    "    print('Rechazamos la hipótesis nula')\n",
    "else:\n",
    "    print(\"No rechazamos la hipótesis nula\")"
   ]
  },
  {
   "cell_type": "markdown",
   "metadata": {},
   "source": [
    "La probabilidad de que statistic ocurra es de 50.11 % y las calificaciones promedio de los usuarios para las plataformas Xbox One y PC son *iguales*."
   ]
  },
  {
   "cell_type": "markdown",
   "metadata": {},
   "source": [
    "### Calificaciones promedio de los usuarios para los géneros"
   ]
  },
  {
   "cell_type": "markdown",
   "metadata": {},
   "source": [
    "#### Corroborando si las muestras presentan una distribución normal"
   ]
  },
  {
   "cell_type": "code",
   "execution_count": 120,
   "metadata": {},
   "outputs": [
    {
     "data": {
      "text/plain": [
       "array(['Action', 'Shooter', 'Role-Playing', 'Misc', 'Sports', 'Fighting',\n",
       "       'Racing', 'Simulation', 'Platform', 'Strategy', 'Adventure',\n",
       "       'Puzzle'], dtype=object)"
      ]
     },
     "execution_count": 120,
     "metadata": {},
     "output_type": "execute_result"
    }
   ],
   "source": [
    "new_gd[\"genre\"].unique()"
   ]
  },
  {
   "cell_type": "code",
   "execution_count": 121,
   "metadata": {},
   "outputs": [],
   "source": [
    "action = new_gd.loc[new_gd[\"genre\"] == \"Action\"][\"user_score\"]\n",
    "sports = new_gd.loc[new_gd[\"genre\"] == \"Sports\"][\"user_score\"]"
   ]
  },
  {
   "cell_type": "code",
   "execution_count": 122,
   "metadata": {},
   "outputs": [
    {
     "data": {
      "text/plain": [
       "ShapiroResult(statistic=0.9072277545928955, pvalue=1.0798927229597587e-14)"
      ]
     },
     "execution_count": 122,
     "metadata": {},
     "output_type": "execute_result"
    }
   ],
   "source": [
    "stats.shapiro(\n",
    "    action.dropna(),\n",
    ")"
   ]
  },
  {
   "cell_type": "code",
   "execution_count": 123,
   "metadata": {},
   "outputs": [
    {
     "data": {
      "text/plain": [
       "ShapiroResult(statistic=0.9816822409629822, pvalue=0.03234051540493965)"
      ]
     },
     "execution_count": 123,
     "metadata": {},
     "output_type": "execute_result"
    }
   ],
   "source": [
    "stats.shapiro(\n",
    "    sports.dropna(),\n",
    ")"
   ]
  },
  {
   "cell_type": "markdown",
   "metadata": {},
   "source": [
    "**Conclusión intermedia**\n",
    "\n",
    "A partir de los resultados obtenidos, ya que ambos pvalue son menor a 0.05, podemos concluir que ninguno de los dos vectores son normales."
   ]
  },
  {
   "cell_type": "markdown",
   "metadata": {},
   "source": [
    "#### Definición de hipótesis nula e hipótesis alternativa"
   ]
  },
  {
   "cell_type": "markdown",
   "metadata": {},
   "source": [
    "- **`H0`**= las calificaciones promedio de los usuarios para los géneros de Acción y Deportes son *iguales*.\n",
    "\n",
    "- **`H1`**= las calificaciones promedio de los usuarios para los géneros de Acción y Deportes son *diferentes*."
   ]
  },
  {
   "cell_type": "markdown",
   "metadata": {},
   "source": [
    "#### Prueba de hipótesis"
   ]
  },
  {
   "cell_type": "code",
   "execution_count": 124,
   "metadata": {},
   "outputs": [
    {
     "name": "stdout",
     "output_type": "stream",
     "text": [
      "statistic:  48005.0\n",
      "\n",
      "p_value:  1.5189170584819927e-23\n",
      "\n",
      "1.5189170584819927e-23 < 0.05\n",
      "Rechazamos la hipótesis nula\n"
     ]
    }
   ],
   "source": [
    "# Prueba las hipótesis\n",
    "\n",
    "alpha= 0.05\n",
    "\n",
    "statistic, p_value  = st.mannwhitneyu(\n",
    "    action.dropna(),\n",
    "    sports.dropna()\n",
    ")\n",
    "\n",
    "print('statistic: ', statistic)\n",
    "print()\n",
    "print('p_value: ', p_value)\n",
    "print()\n",
    "print(p_value, \"<\", alpha)\n",
    "\n",
    "if p_value < alpha:\n",
    "    print('Rechazamos la hipótesis nula')\n",
    "else:\n",
    "    print(\"No rechazamos la hipótesis nula\")"
   ]
  },
  {
   "cell_type": "markdown",
   "metadata": {},
   "source": [
    "La probabilidad de que statistic ocurra es de 1.5189170584819927e-21 % y las calificaciones promedio de los usuarios para los géneros de Acción y Deportes son *diferentes*.\n",
    "\n",
    "[Volver a Contenidos](#back)"
   ]
  },
  {
   "cell_type": "code",
   "execution_count": 125,
   "metadata": {},
   "outputs": [
    {
     "name": "stdout",
     "output_type": "stream",
     "text": [
      "Las varianzas de ambos grupos no son iguales.\n",
      "\n",
      "t_statistic:  10.23342841744863\n",
      "\n",
      "p_value:  1.4460039700703482e-20\n",
      "\n",
      "1.4460039700703482e-20 < 0.05\n",
      "Rechazamos la hipótesis nula\n"
     ]
    }
   ],
   "source": [
    "# Prueba las hipótesis\n",
    "\n",
    "alpha= 0.05\n",
    "\n",
    "\n",
    "# Verificando si los datos tienen una dist. normal\n",
    "\n",
    "_, var_p_value = stats.levene(action, sports)\n",
    "\n",
    "if var_p_value > alpha:\n",
    "    print(\"Las varianzas de ambos grupos son iguales.\")\n",
    "    print()\n",
    "else:\n",
    "    print(\"Las varianzas de ambos grupos no son iguales.\")\n",
    "    print()\n",
    "    \n",
    "\n",
    "#Prueba de hipótesis\n",
    "\n",
    "t_statistic, p_value  = stats.ttest_ind(\n",
    "    action,\n",
    "    sports,\n",
    "    nan_policy=\"omit\",\n",
    "    equal_var=False\n",
    ")\n",
    "\n",
    "print('t_statistic: ', t_statistic)\n",
    "print()\n",
    "print('p_value: ', p_value)\n",
    "print()\n",
    "print(p_value, \"<\", alpha)\n",
    "\n",
    "if p_value < alpha:\n",
    "    print('Rechazamos la hipótesis nula')\n",
    "else:\n",
    "    print(\"No rechazamos la hipótesis nula\")"
   ]
  },
  {
   "cell_type": "markdown",
   "metadata": {},
   "source": [
    "La probabilidad de que t_statistic ocurra es de 1.4460039700703482e-18 % y las calificaciones promedio de los usuarios para los géneros de Acción y Deportes son *diferentes*."
   ]
  },
  {
   "cell_type": "markdown",
   "metadata": {},
   "source": [
    "## Conclusión general <a id='end'></a>"
   ]
  },
  {
   "cell_type": "markdown",
   "metadata": {},
   "source": [
    " - **`1`**.- Las plataformas líderes en ventas fueron PS4, PS3, XOne, 3DS y X360. Sin embargo, pudimos observar que para cada región estas varían.        \n",
    "    \n",
    " - **`2`**.- Las clasificaciones de los videojuegos donde \"*todos*\" pueden jugar, los que tienen más de 10 y 17 años, afectan las ventas de Japón. A diferencia de la categoría Adolescente, donde el más impactado es Europa. Estados Unidos, es el menos afectado por las clasificaciones de los videojuegos, solamente está por debajo de Europa en la clasificaciones \"todos\".\n",
    "      \n",
    " - **`3`**.- Al probar las hipótesis estadísticas tenemos:\n",
    "     \n",
    "     **a).- Calificaciones promedio de los usuarios para las plataformas Xbox One y PC**: se aprueba la hipótesis nula, por lo cuál las calificaciones promedio de los usuarios para las plataformas Xbox One y PC son *iguales*.\n",
    "     \n",
    "     **b).- Calificaciones promedio de los usuarios para los géneros de Acción y Deportes**: se rechaza la hipótesis nula, por lo cuál las calificaciones promedio de los usuarios para los géneros de Acción y Deportes son diferentes.\n",
    "     \n",
    "[Volver a Contenidos](#back)"
   ]
  },
  {
   "cell_type": "code",
   "execution_count": null,
   "metadata": {},
   "outputs": [],
   "source": []
  }
 ],
 "metadata": {
  "kernelspec": {
   "display_name": "Python 3 (ipykernel)",
   "language": "python",
   "name": "python3"
  },
  "language_info": {
   "codemirror_mode": {
    "name": "ipython",
    "version": 3
   },
   "file_extension": ".py",
   "mimetype": "text/x-python",
   "name": "python",
   "nbconvert_exporter": "python",
   "pygments_lexer": "ipython3",
   "version": "3.11.5"
  },
  "toc": {
   "base_numbering": 1,
   "nav_menu": {},
   "number_sections": true,
   "sideBar": true,
   "skip_h1_title": true,
   "title_cell": "Table of Contents",
   "title_sidebar": "Contents",
   "toc_cell": false,
   "toc_position": {
    "height": "calc(100% - 180px)",
    "left": "10px",
    "top": "150px",
    "width": "311.534px"
   },
   "toc_section_display": true,
   "toc_window_display": true
  }
 },
 "nbformat": 4,
 "nbformat_minor": 2
}
